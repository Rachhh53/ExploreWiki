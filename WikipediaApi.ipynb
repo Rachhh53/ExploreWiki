{
  "nbformat": 4,
  "nbformat_minor": 0,
  "metadata": {
    "colab": {
      "name": "WikipediaApi.ipynb",
      "provenance": [],
      "collapsed_sections": [
        "rUpW_6wYHgn3"
      ],
      "authorship_tag": "ABX9TyMq34koBZFTMYzkD7PbB0sZ",
      "include_colab_link": true
    },
    "kernelspec": {
      "name": "python3",
      "display_name": "Python 3"
    },
    "language_info": {
      "name": "python"
    }
  },
  "cells": [
    {
      "cell_type": "markdown",
      "metadata": {
        "id": "view-in-github",
        "colab_type": "text"
      },
      "source": [
        "<a href=\"https://colab.research.google.com/github/Rachhh53/ExploreWiki/blob/main/WikipediaApi.ipynb\" target=\"_parent\"><img src=\"https://colab.research.google.com/assets/colab-badge.svg\" alt=\"Open In Colab\"/></a>"
      ]
    },
    {
      "cell_type": "markdown",
      "source": [
        "# Installs\n",
        "\n"
      ],
      "metadata": {
        "id": "rMQi-tJ7Vt1n"
      }
    },
    {
      "cell_type": "code",
      "source": [
        "!pip install wikipedia-api"
      ],
      "metadata": {
        "colab": {
          "base_uri": "https://localhost:8080/"
        },
        "id": "lzWrjAgVNrXI",
        "outputId": "1aabfac0-8de5-415e-f8dd-b36f928505ef"
      },
      "execution_count": 1,
      "outputs": [
        {
          "output_type": "stream",
          "name": "stdout",
          "text": [
            "Collecting wikipedia-api\n",
            "  Downloading Wikipedia-API-0.5.4.tar.gz (18 kB)\n",
            "  Preparing metadata (setup.py) ... \u001b[?25l\u001b[?25hdone\n",
            "Requirement already satisfied: requests in /usr/local/lib/python3.7/dist-packages (from wikipedia-api) (2.23.0)\n",
            "Requirement already satisfied: certifi>=2017.4.17 in /usr/local/lib/python3.7/dist-packages (from requests->wikipedia-api) (2021.10.8)\n",
            "Requirement already satisfied: chardet<4,>=3.0.2 in /usr/local/lib/python3.7/dist-packages (from requests->wikipedia-api) (3.0.4)\n",
            "Requirement already satisfied: idna<3,>=2.5 in /usr/local/lib/python3.7/dist-packages (from requests->wikipedia-api) (2.10)\n",
            "Requirement already satisfied: urllib3!=1.25.0,!=1.25.1,<1.26,>=1.21.1 in /usr/local/lib/python3.7/dist-packages (from requests->wikipedia-api) (1.25.11)\n",
            "Building wheels for collected packages: wikipedia-api\n",
            "  Building wheel for wikipedia-api (setup.py) ... \u001b[?25l\u001b[?25hdone\n",
            "  Created wheel for wikipedia-api: filename=Wikipedia_API-0.5.4-py3-none-any.whl size=13476 sha256=13b581577a2af6b6b6119de7a546977ca659e0aef05a351868877950ef48cdc5\n",
            "  Stored in directory: /root/.cache/pip/wheels/d3/24/56/58ba93cf78be162451144e7a9889603f437976ef1ae7013d04\n",
            "Successfully built wikipedia-api\n",
            "Installing collected packages: wikipedia-api\n",
            "Successfully installed wikipedia-api-0.5.4\n",
            "\u001b[33mWARNING: Running pip as the 'root' user can result in broken permissions and conflicting behaviour with the system package manager. It is recommended to use a virtual environment instead: https://pip.pypa.io/warnings/venv\u001b[0m\u001b[33m\n",
            "\u001b[0m"
          ]
        }
      ]
    },
    {
      "cell_type": "code",
      "source": [
        "!pip install tqdm"
      ],
      "metadata": {
        "colab": {
          "base_uri": "https://localhost:8080/"
        },
        "id": "blquW62g5VR9",
        "outputId": "dba52bde-65e5-40ef-a7a8-537656cdda64"
      },
      "execution_count": 5,
      "outputs": [
        {
          "output_type": "stream",
          "name": "stdout",
          "text": [
            "Requirement already satisfied: tqdm in /usr/local/lib/python3.7/dist-packages (4.64.0)\n",
            "\u001b[33mWARNING: Running pip as the 'root' user can result in broken permissions and conflicting behaviour with the system package manager. It is recommended to use a virtual environment instead: https://pip.pypa.io/warnings/venv\u001b[0m\u001b[33m\n",
            "\u001b[0m"
          ]
        }
      ]
    },
    {
      "cell_type": "markdown",
      "source": [
        "# Imports"
      ],
      "metadata": {
        "id": "PFsFZUBzVzHY"
      }
    },
    {
      "cell_type": "code",
      "source": [
        "# https://towardsdatascience.com/auto-generated-knowledge-graphs-92ca99a81121\n",
        "import wikipediaapi  # pip install wikipedia-api\n",
        "import pandas as pd\n",
        "import concurrent.futures\n",
        "from tqdm import tqdm"
      ],
      "metadata": {
        "id": "mgKJ_5gvOdBT"
      },
      "execution_count": 6,
      "outputs": []
    },
    {
      "cell_type": "markdown",
      "source": [
        "# Run"
      ],
      "metadata": {
        "id": "rfqXiWZv6dqt"
      }
    },
    {
      "cell_type": "code",
      "source": [
        "def wiki_scrape(topic_name, verbose=True):\n",
        "    def wiki_link(link):\n",
        "        try:\n",
        "            page = wiki_api.page(link)\n",
        "            if page.exists():\n",
        "                return {'page': link, 'text': page.text, 'link': page.fullurl,\n",
        "                        'categories': list(page.categories.keys())}\n",
        "        except:\n",
        "            return None\n",
        "\n",
        "    wiki_api = wikipediaapi.Wikipedia(language='en',\n",
        "                                      extract_format=wikipediaapi.ExtractFormat.WIKI)\n",
        "    page_name = wiki_api.page(topic_name)\n",
        "    if not page_name.exists():\n",
        "        print('Page {} does not exist.'.format(topic_name))\n",
        "        return\n",
        "\n",
        "    page_links = list(page_name.links.keys())\n",
        "    progress = tqdm(desc='Links Scraped', unit='', total=len(page_links)) if verbose else None\n",
        "    sources = [{'page': topic_name, 'text': page_name.text, 'link': page_name.fullurl,\n",
        "                'categories': list(page_name.categories.keys())}]\n",
        "\n",
        "    with concurrent.futures.ThreadPoolExecutor(max_workers=5) as executor:\n",
        "        future_link = {executor.submit(wiki_link, link): link for link in page_links}\n",
        "        for future in concurrent.futures.as_completed(future_link):\n",
        "            data = future.result()\n",
        "            sources.append(data) if data else None\n",
        "            progress.update(1) if verbose else None\n",
        "    progress.close() if verbose else None\n",
        "\n",
        "    namespaces = ('Wikipedia', 'Special', 'Talk', 'LyricWiki', 'File', 'MediaWiki',\n",
        "                  'Template', 'Help', 'User', 'Category talk', 'Portal talk')\n",
        "    sources = pd.DataFrame(sources)\n",
        "    sources = sources[(len(sources['text']) > 20)\n",
        "                      & ~(sources['page'].str.startswith(namespaces, na=True))]\n",
        "    sources['categories'] = sources.categories.apply(lambda x: [y[9:] for y in x])\n",
        "    sources['topic'] = topic_name\n",
        "    print('Wikipedia pages scraped:', len(sources))\n",
        "\n",
        "    return sources"
      ],
      "metadata": {
        "id": "rJ1LMqkmRyrH"
      },
      "execution_count": 3,
      "outputs": []
    },
    {
      "cell_type": "code",
      "source": [
        "wiki_data = wiki_scrape('Nestle')"
      ],
      "metadata": {
        "colab": {
          "base_uri": "https://localhost:8080/"
        },
        "id": "rIsatLY_OZCQ",
        "outputId": "e2f89a48-e917-4ffc-f118-a763d159a8b8"
      },
      "execution_count": 7,
      "outputs": [
        {
          "output_type": "stream",
          "name": "stderr",
          "text": [
            "Links Scraped: 100%|██████████| 761/761 [00:09<00:00, 79.07/s] \n"
          ]
        },
        {
          "output_type": "stream",
          "name": "stdout",
          "text": [
            "Wikipedia pages scraped: 164\n"
          ]
        }
      ]
    },
    {
      "cell_type": "code",
      "source": [
        "wiki_data"
      ],
      "metadata": {
        "id": "M9gUGLDkOzOq",
        "colab": {
          "base_uri": "https://localhost:8080/",
          "height": 424
        },
        "outputId": "2c330412-8891-48b4-e575-30a43d63ebbf"
      },
      "execution_count": 12,
      "outputs": [
        {
          "output_type": "execute_result",
          "data": {
            "text/plain": [
              "                                 page  \\\n",
              "0                              Nestle   \n",
              "1                        1812 N Moore   \n",
              "2         20th Century Press Archives   \n",
              "3                                 ABB   \n",
              "4    2022 Russian invasion of Ukraine   \n",
              "..                                ...   \n",
              "159             Criticisms of Cargill   \n",
              "160            Criticism of fast food   \n",
              "161           Criticism of McDonald's   \n",
              "162                Crosse & Blackwell   \n",
              "163            Crunch (chocolate bar)   \n",
              "\n",
              "                                                  text  \\\n",
              "0    Nestlé S.A. (; French: [nɛsle]) is a Swiss mul...   \n",
              "1    1812 North Moore is an office building in Arli...   \n",
              "2    The 20th Century Press Archives (German: Press...   \n",
              "3    ABB Ltd (German: ABB AG, French, Italian, Roma...   \n",
              "4    Russia invaded Ukraine on 24 February 2022, ma...   \n",
              "..                                                 ...   \n",
              "159  This article addresses various criticisms of C...   \n",
              "160  Criticism of fast food includes claims of nega...   \n",
              "161  McDonald's is an American multinational fast f...   \n",
              "162  Crosse & Blackwell is a British food brand. Th...   \n",
              "163  Crunch is a chocolate bar made of milk chocola...   \n",
              "\n",
              "                                                  link  \\\n",
              "0            https://en.wikipedia.org/wiki/Nestl%C3%A9   \n",
              "1           https://en.wikipedia.org/wiki/1812_N_Moore   \n",
              "2    https://en.wikipedia.org/wiki/20th_Century_Pre...   \n",
              "3                    https://en.wikipedia.org/wiki/ABB   \n",
              "4    https://en.wikipedia.org/wiki/2022_Russian_inv...   \n",
              "..                                                 ...   \n",
              "159  https://en.wikipedia.org/wiki/Criticisms_of_Ca...   \n",
              "160  https://en.wikipedia.org/wiki/Criticism_of_fas...   \n",
              "161         https://en.wikipedia.org/wiki/McDonald%27s   \n",
              "162  https://en.wikipedia.org/wiki/Crosse_%26_Black...   \n",
              "163  https://en.wikipedia.org/wiki/Crunch_(chocolat...   \n",
              "\n",
              "                                            categories   topic  \n",
              "0    [1866 establishments in Switzerland, All Wikip...  Nestle  \n",
              "1    [2013 establishments in Virginia, Buildings an...  Nestle  \n",
              "2    [AC with 0 elements, Archives in Germany, Arti...  Nestle  \n",
              "3    [ABB, Articles containing German-language text...  Nestle  \n",
              "4    [2022 Russian invasion of Ukraine, 2022 contro...  Nestle  \n",
              "..                                                 ...     ...  \n",
              "159  [All articles with dead external links, Articl...  Nestle  \n",
              "160  [All articles needing expert attention, All ar...  Nestle  \n",
              "161  [1940 establishments in California, 1940 estab...  Nestle  \n",
              "162  [1706 establishments in England, Articles with...  Nestle  \n",
              "163  [All Wikipedia articles in need of updating, A...  Nestle  \n",
              "\n",
              "[164 rows x 5 columns]"
            ],
            "text/html": [
              "\n",
              "  <div id=\"df-65a34950-d7aa-4d4a-84eb-afd83700aeb2\">\n",
              "    <div class=\"colab-df-container\">\n",
              "      <div>\n",
              "<style scoped>\n",
              "    .dataframe tbody tr th:only-of-type {\n",
              "        vertical-align: middle;\n",
              "    }\n",
              "\n",
              "    .dataframe tbody tr th {\n",
              "        vertical-align: top;\n",
              "    }\n",
              "\n",
              "    .dataframe thead th {\n",
              "        text-align: right;\n",
              "    }\n",
              "</style>\n",
              "<table border=\"1\" class=\"dataframe\">\n",
              "  <thead>\n",
              "    <tr style=\"text-align: right;\">\n",
              "      <th></th>\n",
              "      <th>page</th>\n",
              "      <th>text</th>\n",
              "      <th>link</th>\n",
              "      <th>categories</th>\n",
              "      <th>topic</th>\n",
              "    </tr>\n",
              "  </thead>\n",
              "  <tbody>\n",
              "    <tr>\n",
              "      <th>0</th>\n",
              "      <td>Nestle</td>\n",
              "      <td>Nestlé S.A. (; French: [nɛsle]) is a Swiss mul...</td>\n",
              "      <td>https://en.wikipedia.org/wiki/Nestl%C3%A9</td>\n",
              "      <td>[1866 establishments in Switzerland, All Wikip...</td>\n",
              "      <td>Nestle</td>\n",
              "    </tr>\n",
              "    <tr>\n",
              "      <th>1</th>\n",
              "      <td>1812 N Moore</td>\n",
              "      <td>1812 North Moore is an office building in Arli...</td>\n",
              "      <td>https://en.wikipedia.org/wiki/1812_N_Moore</td>\n",
              "      <td>[2013 establishments in Virginia, Buildings an...</td>\n",
              "      <td>Nestle</td>\n",
              "    </tr>\n",
              "    <tr>\n",
              "      <th>2</th>\n",
              "      <td>20th Century Press Archives</td>\n",
              "      <td>The 20th Century Press Archives (German: Press...</td>\n",
              "      <td>https://en.wikipedia.org/wiki/20th_Century_Pre...</td>\n",
              "      <td>[AC with 0 elements, Archives in Germany, Arti...</td>\n",
              "      <td>Nestle</td>\n",
              "    </tr>\n",
              "    <tr>\n",
              "      <th>3</th>\n",
              "      <td>ABB</td>\n",
              "      <td>ABB Ltd (German: ABB AG, French, Italian, Roma...</td>\n",
              "      <td>https://en.wikipedia.org/wiki/ABB</td>\n",
              "      <td>[ABB, Articles containing German-language text...</td>\n",
              "      <td>Nestle</td>\n",
              "    </tr>\n",
              "    <tr>\n",
              "      <th>4</th>\n",
              "      <td>2022 Russian invasion of Ukraine</td>\n",
              "      <td>Russia invaded Ukraine on 24 February 2022, ma...</td>\n",
              "      <td>https://en.wikipedia.org/wiki/2022_Russian_inv...</td>\n",
              "      <td>[2022 Russian invasion of Ukraine, 2022 contro...</td>\n",
              "      <td>Nestle</td>\n",
              "    </tr>\n",
              "    <tr>\n",
              "      <th>...</th>\n",
              "      <td>...</td>\n",
              "      <td>...</td>\n",
              "      <td>...</td>\n",
              "      <td>...</td>\n",
              "      <td>...</td>\n",
              "    </tr>\n",
              "    <tr>\n",
              "      <th>159</th>\n",
              "      <td>Criticisms of Cargill</td>\n",
              "      <td>This article addresses various criticisms of C...</td>\n",
              "      <td>https://en.wikipedia.org/wiki/Criticisms_of_Ca...</td>\n",
              "      <td>[All articles with dead external links, Articl...</td>\n",
              "      <td>Nestle</td>\n",
              "    </tr>\n",
              "    <tr>\n",
              "      <th>160</th>\n",
              "      <td>Criticism of fast food</td>\n",
              "      <td>Criticism of fast food includes claims of nega...</td>\n",
              "      <td>https://en.wikipedia.org/wiki/Criticism_of_fas...</td>\n",
              "      <td>[All articles needing expert attention, All ar...</td>\n",
              "      <td>Nestle</td>\n",
              "    </tr>\n",
              "    <tr>\n",
              "      <th>161</th>\n",
              "      <td>Criticism of McDonald's</td>\n",
              "      <td>McDonald's is an American multinational fast f...</td>\n",
              "      <td>https://en.wikipedia.org/wiki/McDonald%27s</td>\n",
              "      <td>[1940 establishments in California, 1940 estab...</td>\n",
              "      <td>Nestle</td>\n",
              "    </tr>\n",
              "    <tr>\n",
              "      <th>162</th>\n",
              "      <td>Crosse &amp; Blackwell</td>\n",
              "      <td>Crosse &amp; Blackwell is a British food brand. Th...</td>\n",
              "      <td>https://en.wikipedia.org/wiki/Crosse_%26_Black...</td>\n",
              "      <td>[1706 establishments in England, Articles with...</td>\n",
              "      <td>Nestle</td>\n",
              "    </tr>\n",
              "    <tr>\n",
              "      <th>163</th>\n",
              "      <td>Crunch (chocolate bar)</td>\n",
              "      <td>Crunch is a chocolate bar made of milk chocola...</td>\n",
              "      <td>https://en.wikipedia.org/wiki/Crunch_(chocolat...</td>\n",
              "      <td>[All Wikipedia articles in need of updating, A...</td>\n",
              "      <td>Nestle</td>\n",
              "    </tr>\n",
              "  </tbody>\n",
              "</table>\n",
              "<p>164 rows × 5 columns</p>\n",
              "</div>\n",
              "      <button class=\"colab-df-convert\" onclick=\"convertToInteractive('df-65a34950-d7aa-4d4a-84eb-afd83700aeb2')\"\n",
              "              title=\"Convert this dataframe to an interactive table.\"\n",
              "              style=\"display:none;\">\n",
              "        \n",
              "  <svg xmlns=\"http://www.w3.org/2000/svg\" height=\"24px\"viewBox=\"0 0 24 24\"\n",
              "       width=\"24px\">\n",
              "    <path d=\"M0 0h24v24H0V0z\" fill=\"none\"/>\n",
              "    <path d=\"M18.56 5.44l.94 2.06.94-2.06 2.06-.94-2.06-.94-.94-2.06-.94 2.06-2.06.94zm-11 1L8.5 8.5l.94-2.06 2.06-.94-2.06-.94L8.5 2.5l-.94 2.06-2.06.94zm10 10l.94 2.06.94-2.06 2.06-.94-2.06-.94-.94-2.06-.94 2.06-2.06.94z\"/><path d=\"M17.41 7.96l-1.37-1.37c-.4-.4-.92-.59-1.43-.59-.52 0-1.04.2-1.43.59L10.3 9.45l-7.72 7.72c-.78.78-.78 2.05 0 2.83L4 21.41c.39.39.9.59 1.41.59.51 0 1.02-.2 1.41-.59l7.78-7.78 2.81-2.81c.8-.78.8-2.07 0-2.86zM5.41 20L4 18.59l7.72-7.72 1.47 1.35L5.41 20z\"/>\n",
              "  </svg>\n",
              "      </button>\n",
              "      \n",
              "  <style>\n",
              "    .colab-df-container {\n",
              "      display:flex;\n",
              "      flex-wrap:wrap;\n",
              "      gap: 12px;\n",
              "    }\n",
              "\n",
              "    .colab-df-convert {\n",
              "      background-color: #E8F0FE;\n",
              "      border: none;\n",
              "      border-radius: 50%;\n",
              "      cursor: pointer;\n",
              "      display: none;\n",
              "      fill: #1967D2;\n",
              "      height: 32px;\n",
              "      padding: 0 0 0 0;\n",
              "      width: 32px;\n",
              "    }\n",
              "\n",
              "    .colab-df-convert:hover {\n",
              "      background-color: #E2EBFA;\n",
              "      box-shadow: 0px 1px 2px rgba(60, 64, 67, 0.3), 0px 1px 3px 1px rgba(60, 64, 67, 0.15);\n",
              "      fill: #174EA6;\n",
              "    }\n",
              "\n",
              "    [theme=dark] .colab-df-convert {\n",
              "      background-color: #3B4455;\n",
              "      fill: #D2E3FC;\n",
              "    }\n",
              "\n",
              "    [theme=dark] .colab-df-convert:hover {\n",
              "      background-color: #434B5C;\n",
              "      box-shadow: 0px 1px 3px 1px rgba(0, 0, 0, 0.15);\n",
              "      filter: drop-shadow(0px 1px 2px rgba(0, 0, 0, 0.3));\n",
              "      fill: #FFFFFF;\n",
              "    }\n",
              "  </style>\n",
              "\n",
              "      <script>\n",
              "        const buttonEl =\n",
              "          document.querySelector('#df-65a34950-d7aa-4d4a-84eb-afd83700aeb2 button.colab-df-convert');\n",
              "        buttonEl.style.display =\n",
              "          google.colab.kernel.accessAllowed ? 'block' : 'none';\n",
              "\n",
              "        async function convertToInteractive(key) {\n",
              "          const element = document.querySelector('#df-65a34950-d7aa-4d4a-84eb-afd83700aeb2');\n",
              "          const dataTable =\n",
              "            await google.colab.kernel.invokeFunction('convertToInteractive',\n",
              "                                                     [key], {});\n",
              "          if (!dataTable) return;\n",
              "\n",
              "          const docLinkHtml = 'Like what you see? Visit the ' +\n",
              "            '<a target=\"_blank\" href=https://colab.research.google.com/notebooks/data_table.ipynb>data table notebook</a>'\n",
              "            + ' to learn more about interactive tables.';\n",
              "          element.innerHTML = '';\n",
              "          dataTable['output_type'] = 'display_data';\n",
              "          await google.colab.output.renderOutput(dataTable, element);\n",
              "          const docLink = document.createElement('div');\n",
              "          docLink.innerHTML = docLinkHtml;\n",
              "          element.appendChild(docLink);\n",
              "        }\n",
              "      </script>\n",
              "    </div>\n",
              "  </div>\n",
              "  "
            ]
          },
          "metadata": {},
          "execution_count": 12
        }
      ]
    },
    {
      "cell_type": "code",
      "source": [
        "# Get Page Sections\n",
        "\n",
        "def print_sections(sections, level=0):\n",
        "        for s in sections:\n",
        "                print(\"%s: %s - %s\" % (\"*\" * (level + 1), s.title, s.text[0:40]))\n",
        "                print_sections(s.sections, level + 1)\n",
        "\n",
        "topic_name = 'Nestle'\n",
        "wiki_api = wikipediaapi.Wikipedia(language='en', extract_format=wikipediaapi.ExtractFormat.WIKI)\n",
        "page_name = wiki_api.page(topic_name)\n",
        "print_sections(page_name.sections)"
      ],
      "metadata": {
        "colab": {
          "base_uri": "https://localhost:8080/"
        },
        "id": "70GuQVfs9Xqd",
        "outputId": "5c1f1de4-abd2-44cc-ce14-db939a5d6f43"
      },
      "execution_count": 13,
      "outputs": [
        {
          "output_type": "stream",
          "name": "stdout",
          "text": [
            "*: History - \n",
            "**: 1866–1900: Founding and early years - Nestlé's origin dates back to the 1860s,\n",
            "***: Timeline - 1866, Charles Page (US consul to Switzer\n",
            "**: 1901–1989: Mergers - In 1904, François-Louis Cailler, Charles\n",
            "**: 1990–2011: Growth internationally - The first half of the 1990s proved to be\n",
            "**: 2012–present: Recent developments - In recent years, Nestlé Health Science h\n",
            "*: Corporate affairs and governance - Nestlé is the biggest food company in th\n",
            "**: Financial data - \n",
            "**: Joint ventures - Joint ventures include:\n",
            "\n",
            "Cereal Partners\n",
            "**: Board of Directors - As of 2017, the board is composed of:\n",
            "Pa\n",
            "**: Lobbying - The company engages third party lobbying\n",
            "*: Products - Nestlé currently has over 2,000 brands w\n",
            "**: Food safety - \n",
            "***: Milk products and baby food - In late September 2008, the Hong Kong go\n",
            "***: Cookie dough - In June 2009, an outbreak of E. coli O15\n",
            "***: Maggi noodles - In May 2015, Food Safety Regulators from\n",
            "*: Sponsorships - \n",
            "**: Music and Entertainment - In 1993, plans were made to update and m\n",
            "**: Sports - Nestlé's sponsorship of the Tour de Fran\n",
            "*: Controversy and criticisms - \n",
            "**: Baby formula marketing - Concern about Nestlé's \"aggressive marke\n",
            "**: Slavery and child labour - Multiple reports have documented the wid\n",
            "**: Anti-union activities in Colombia - Nestlé has been involved in extensive un\n",
            "**: Water - \n",
            "***: Status of potable water - At the second World Water Forum in 2000,\n",
            "***: Plastic bottles - A coalition of environmental groups file\n",
            "***: Water bottling operations in California, Oregon and Michigan - Considerable controversy has surrounded \n",
            "**: Chocolate price fixing - In Canada, the Competition Bureau raided\n",
            "**: Ethiopian debt repayment - In 2002, Nestlé demanded that the nation\n",
            "**: Russian-Ukrainian conflict - In August 2015, the Ukrainian TV channel\n",
            "**: Forced labour in Thai fishing industry - At the conclusion of a year-long self-im\n",
            "**: Deforestation - In September 2017, an investigation cond\n",
            "*: Corporate social responsibility program involvements - Nestlé efforts relating to social respon\n",
            "*: Recognition and awards - In May 2006, Nestlé's executive board de\n",
            "*: Bibliography - La stratégie Nestlé (Nestlé Strategy), H\n",
            "*: See also - Big Chocolate\n",
            "Cerelac\n",
            "Farfel the Dog\n",
            "Nes\n",
            "*: Notes and references - \n",
            "*: External links - Official website \n",
            "Documents and clipping\n"
          ]
        }
      ]
    },
    {
      "cell_type": "code",
      "source": [
        "!pip install wptools"
      ],
      "metadata": {
        "colab": {
          "base_uri": "https://localhost:8080/"
        },
        "id": "TBXA5qqhAD8T",
        "outputId": "9e2defd0-01a7-4b99-a157-0e71c6f03749"
      },
      "execution_count": 14,
      "outputs": [
        {
          "output_type": "stream",
          "name": "stdout",
          "text": [
            "Collecting wptools\n",
            "  Downloading wptools-0.4.17-py2.py3-none-any.whl (38 kB)\n",
            "Collecting pycurl\n",
            "  Downloading pycurl-7.45.1.tar.gz (233 kB)\n",
            "\u001b[2K     \u001b[90m━━━━━━━━━━━━━━━━━━━━━━━━━━━━━━━━━━━━━━\u001b[0m \u001b[32m233.9/233.9 KB\u001b[0m \u001b[31m15.7 MB/s\u001b[0m eta \u001b[36m0:00:00\u001b[0m\n",
            "\u001b[?25h  Preparing metadata (setup.py) ... \u001b[?25l\u001b[?25hdone\n",
            "Collecting html2text\n",
            "  Downloading html2text-2020.1.16-py3-none-any.whl (32 kB)\n",
            "Requirement already satisfied: certifi in /usr/local/lib/python3.7/dist-packages (from wptools) (2021.10.8)\n",
            "Requirement already satisfied: lxml in /usr/local/lib/python3.7/dist-packages (from wptools) (4.2.6)\n",
            "Building wheels for collected packages: pycurl\n",
            "  Building wheel for pycurl (setup.py) ... \u001b[?25l\u001b[?25hdone\n",
            "  Created wheel for pycurl: filename=pycurl-7.45.1-cp37-cp37m-linux_x86_64.whl size=300958 sha256=deaf66084bc715eb9c9d7390b27450d9cf2a1a31b522783a8333517c4ef2b088\n",
            "  Stored in directory: /root/.cache/pip/wheels/b4/fe/1f/e6cae4153dbc082271bd5763ad36ae255639e4641054db10bc\n",
            "Successfully built pycurl\n",
            "Installing collected packages: pycurl, html2text, wptools\n",
            "Successfully installed html2text-2020.1.16 pycurl-7.45.1 wptools-0.4.17\n",
            "\u001b[33mWARNING: Running pip as the 'root' user can result in broken permissions and conflicting behaviour with the system package manager. It is recommended to use a virtual environment instead: https://pip.pypa.io/warnings/venv\u001b[0m\u001b[33m\n",
            "\u001b[0m"
          ]
        }
      ]
    },
    {
      "cell_type": "markdown",
      "source": [
        "# wptools - doesn't working on my machine"
      ],
      "metadata": {
        "id": "3GV0QVKOHkjB"
      }
    },
    {
      "cell_type": "code",
      "source": [
        "import wptools\n",
        "so = wptools.page('Nestle').get_parse()\n",
        "infobox = so.data['infobox']\n",
        "infobox"
      ],
      "metadata": {
        "colab": {
          "base_uri": "https://localhost:8080/"
        },
        "id": "D37k-vo1A1c_",
        "outputId": "dd18a5f9-0ceb-4715-eff7-9473806f4e18"
      },
      "execution_count": 33,
      "outputs": [
        {
          "output_type": "stream",
          "name": "stderr",
          "text": [
            "en.wikipedia.org (parse) Nestle\n",
            "en.wikipedia.org (imageinfo) File:NestleHQ.jpg\n",
            "Nestlé (en) data\n",
            "{\n",
            "  image: <list(1)> {'kind': 'parse-image', 'file': 'File:NestleHQ....\n",
            "  infobox: <dict(24)> name, former_names, logo, image, image_size,...\n",
            "  iwlinks: <list(2)> https://commons.wikimedia.org/wiki/Category:N...\n",
            "  pageid: 160227\n",
            "  parsetree: <str(193316)> <root><template><title>Short descriptio...\n",
            "  requests: <list(2)> parse, imageinfo\n",
            "  title: Nestlé\n",
            "  wikibase: Q160746\n",
            "  wikidata_url: https://www.wikidata.org/wiki/Q160746\n",
            "  wikitext: <str(164424)> {{Short description|Swiss multinational ...\n",
            "}\n"
          ]
        },
        {
          "output_type": "execute_result",
          "data": {
            "text/plain": [
              "{'name': 'Nestlé S.A.',\n",
              " 'former_names': '{{collapsible list|\\n* Anglo-Swiss Condensed Milk Company (1866–1867)\\n* Farine Lactée Henri Nestlé (1867–1905)\\n* Nestlé and Anglo-Swiss Condensed Milk Company (1905–1947)\\n* Nestlé Alimentana SA (1947–)}}',\n",
              " 'logo': 'Nestlé.svg',\n",
              " 'image': 'NestleHQ.jpg',\n",
              " 'image_size': '250px',\n",
              " 'image_caption': 'Nestlé Headquarters in [[Vevey]], [[Vaud]], Switzerland',\n",
              " 'type': '[[Public company|Public]]',\n",
              " 'traded_as': '{{SWX|NESN}}',\n",
              " 'ISIN': 'CH0038863350',\n",
              " 'foundation': '{{start date and age|df|=|yes|1866}}',\n",
              " 'founder': '[[Henri Nestlé]]',\n",
              " 'location': '[[Vevey]], [[Vaud]], [[Switzerland]]',\n",
              " 'area_served': 'Worldwide',\n",
              " 'key_people': '[[Paul Bulcke]] <br> {{small|([[Chairman]])}} <br>[[Ulf Mark Schneider]] <br> {{small|([[CEO]])}} <br/>David McDaniel <br/> {{small|([[CFO]])}}',\n",
              " 'industry': '[[Food processing]]',\n",
              " 'products': '[[Baby food]], [[coffee]], [[dairy products]], [[breakfast cereals]], [[confectionery]], [[bottled water]], [[ice cream]], [[pet foods]] ([[List of Nestlé brands|list...]])',\n",
              " 'revenue': '{{nowrap|increase| |CHF|87.10 billion|link|=|yes| (2021)}} {{increase}} {{CHF|87.10 billion|link|=|yes}} (2021)',\n",
              " 'operating_income': '{{nowrap|decrease| CHF12.16 billion (2021)}} {{decrease}} CHF12.16 billion (2021)',\n",
              " 'net_income': '{{nowrap|increase| CHF17.20 billion (2021)}} {{increase}} CHF17.20 billion (2021)',\n",
              " 'assets': '{{nowrap|increase| CHF139.14 billion (2021)}} {{increase}} CHF139.14 billion (2021)',\n",
              " 'equity': '{{nowrap|increase| CHF53.73 billion (2021)}} {{increase}} CHF53.73 billion (2021)',\n",
              " 'num_employees': '276,000 (2021)',\n",
              " 'subsid': '[[Cereal Partners Worldwide]] (50%)',\n",
              " 'homepage': '{{url|www.nestle.com}}'}"
            ]
          },
          "metadata": {},
          "execution_count": 33
        }
      ]
    },
    {
      "cell_type": "markdown",
      "source": [
        "# beautiful soup way"
      ],
      "metadata": {
        "id": "rUpW_6wYHgn3"
      }
    },
    {
      "cell_type": "code",
      "source": [
        "!pip install bs4"
      ],
      "metadata": {
        "colab": {
          "base_uri": "https://localhost:8080/"
        },
        "id": "IgNe6IjaA91U",
        "outputId": "ca221011-9d16-4bdc-d841-ebc54d696cd3"
      },
      "execution_count": 17,
      "outputs": [
        {
          "output_type": "stream",
          "name": "stdout",
          "text": [
            "Requirement already satisfied: bs4 in /usr/local/lib/python3.7/dist-packages (0.0.1)\n",
            "Requirement already satisfied: beautifulsoup4 in /usr/local/lib/python3.7/dist-packages (from bs4) (4.6.3)\n",
            "\u001b[33mWARNING: Running pip as the 'root' user can result in broken permissions and conflicting behaviour with the system package manager. It is recommended to use a virtual environment instead: https://pip.pypa.io/warnings/venv\u001b[0m\u001b[33m\n",
            "\u001b[0m"
          ]
        }
      ]
    },
    {
      "cell_type": "code",
      "source": [
        "# importing the module\n",
        "import requests\n",
        "import bs4\n",
        "\n",
        "# URL\n",
        "URL = \"https://en.wikipedia.org/wiki/Twitter\"\n",
        "\n",
        "# sending the request\n",
        "response = requests.get(URL)\n",
        "\n",
        "# parsing the response\n",
        "soup = bs4.BeautifulSoup(response.text, 'html')\n",
        "\n",
        "# Now, we have parsed HTML with us. I want to get the _motto_ from the wikipedia page.\n",
        "# Elements structure\n",
        "# table - class=\"infobox\"\n",
        "# 3rd tr to get motto\n",
        "\n",
        "# getting infobox\n",
        "infobox = soup.find('table', {'class': 'infobox'})\n",
        "infobox\n",
        "\n",
        "\n",
        "# # getting 3rd row element tr\n",
        "# third_tr = infobox.find_all('tr')[2]\n",
        "\n",
        "# # from third_tr we have to find first 'a' element and 'div' element to get required data\n",
        "# first_a = third_tr.div.find('a')\n",
        "# div = third_tr.div.div\n",
        "\n",
        "# # motto\n",
        "# motto = f\"{first_a.text} {div.text[:len(div.text) - 3]}\"\n",
        "\n",
        "# # printing the motto\n",
        "# print(motto)\n"
      ],
      "metadata": {
        "colab": {
          "base_uri": "https://localhost:8080/"
        },
        "id": "ltGgD5CJGTjn",
        "outputId": "cb618860-6c31-46bf-b56a-d319493ead04"
      },
      "execution_count": 24,
      "outputs": [
        {
          "output_type": "execute_result",
          "data": {
            "text/plain": [
              "<table class=\"infobox vcard\"><caption class=\"infobox-title fn org\">Twitter, Inc.</caption><tbody><tr><td class=\"infobox-image\" colspan=\"2\"><a class=\"image\" href=\"/wiki/File:Twitter-logo.svg\"><img alt=\"Twitter-logo.svg\" data-file-height=\"421\" data-file-width=\"512\" decoding=\"async\" height=\"82\" src=\"//upload.wikimedia.org/wikipedia/commons/thumb/4/4f/Twitter-logo.svg/100px-Twitter-logo.svg.png\" srcset=\"//upload.wikimedia.org/wikipedia/commons/thumb/4/4f/Twitter-logo.svg/150px-Twitter-logo.svg.png 1.5x, //upload.wikimedia.org/wikipedia/commons/thumb/4/4f/Twitter-logo.svg/200px-Twitter-logo.svg.png 2x\" width=\"100\"/></a></td></tr><tr><td class=\"infobox-image\" colspan=\"2\"><div class=\"mw-collapsible mw-collapsed\" style=\"box-sizing:border-box;width:100%;font-size:95%;padding:4px;border:none;\"><div style=\"font-size:100%;line-height:1.6;font-weight:bold;background:transparent;text-align:left;;background:gainsboro;text-align:center\">Screenshot</div><div class=\"mw-collapsible-content\" style=\"background:transparent;text-align:left;;text-align:center\">\n",
              "<a class=\"image\" href=\"/wiki/File:Twitter_Home_Page_(Moments_version,_countries_without_dedicated_feed).png\"><img alt=\"Twitter Home Page (Moments version, countries without dedicated feed).png\" data-file-height=\"237\" data-file-width=\"421\" decoding=\"async\" height=\"169\" src=\"//upload.wikimedia.org/wikipedia/en/thumb/2/20/Twitter_Home_Page_%28Moments_version%2C_countries_without_dedicated_feed%29.png/300px-Twitter_Home_Page_%28Moments_version%2C_countries_without_dedicated_feed%29.png\" srcset=\"//upload.wikimedia.org/wikipedia/en/2/20/Twitter_Home_Page_%28Moments_version%2C_countries_without_dedicated_feed%29.png 1.5x\" width=\"300\"/></a><div class=\"infobox-caption\">The default page shown to logged-out users</div></div></div></td></tr><tr><th class=\"infobox-label\" scope=\"row\"><a class=\"mw-redirect\" href=\"/wiki/Types_of_business_entity\" title=\"Types of business entity\">Type of business</a></th><td class=\"infobox-data category\"><a href=\"/wiki/Public_company\" title=\"Public company\">Public</a></td></tr><tr><th class=\"infobox-label\" scope=\"row\"><div style=\"display:inline-block; line-height:1.2em; padding:0.1em 0;\">Type of site</div></th><td class=\"infobox-data\">News, <a href=\"/wiki/Social_networking_service\" title=\"Social networking service\">social networking service</a></td></tr><tr><th class=\"infobox-label\" scope=\"row\">Available in</th><td class=\"infobox-data\">Multilingual</td></tr><tr><th class=\"infobox-label\" scope=\"row\"><a href=\"/wiki/Ticker_symbol\" title=\"Ticker symbol\">Traded as</a></th><td class=\"infobox-data\"><div class=\"plainlist nowrap\"><ul><li><a href=\"/wiki/New_York_Stock_Exchange\" title=\"New York Stock Exchange\">NYSE</a>: <a class=\"external text\" href=\"https://www.nyse.com/quote/XNYS:TWTR\" rel=\"nofollow\">TWTR</a></li><li><a href=\"/wiki/S%26P_500\" title=\"S&amp;P 500\">S&amp;P 500 Component</a></li></ul></div></td></tr><tr><th class=\"infobox-label\" scope=\"row\">Founded</th><td class=\"infobox-data\">March 21, 2006<span class=\"noprint\">; 16 years ago</span><span style=\"display:none\"> (<span class=\"bday dtstart published updated\">2006-03-21</span>)</span></td></tr><tr><th class=\"infobox-label\" scope=\"row\">Headquarters</th><td class=\"infobox-data label\"><a class=\"mw-redirect\" href=\"/wiki/San_Francisco,_California\" title=\"San Francisco, California\">San Francisco, California</a>, U.S.</td></tr><tr><th class=\"infobox-label\" scope=\"row\">Area served</th><td class=\"infobox-data\">Worldwide</td></tr><tr><th class=\"infobox-label\" scope=\"row\"><a href=\"/wiki/Organizational_founder\" title=\"Organizational founder\">Founder(s)</a></th><td class=\"infobox-data\"><div class=\"plainlist nowrap\"><ul><li><a href=\"/wiki/Jack_Dorsey\" title=\"Jack Dorsey\">Jack Dorsey</a></li><li><a href=\"/wiki/Noah_Glass\" title=\"Noah Glass\">Noah Glass</a></li><li><a href=\"/wiki/Biz_Stone\" title=\"Biz Stone\">Biz Stone</a></li><li><a href=\"/wiki/Evan_Williams_(Internet_entrepreneur)\" title=\"Evan Williams (Internet entrepreneur)\">Evan Williams</a></li></ul></div></td></tr><tr><th class=\"infobox-label\" scope=\"row\">Key people</th><td class=\"infobox-data\"><div class=\"plainlist\">\n",
              "<ul><li><a href=\"/wiki/Bret_Taylor\" title=\"Bret Taylor\">Bret Taylor </a></li>\n",
              "<li><a href=\"/wiki/Parag_Agrawal\" title=\"Parag Agrawal\">Parag Agrawal</a> (<a href=\"/wiki/Chief_executive_officer\" title=\"Chief executive officer\">CEO</a>)<sup class=\"reference\" id=\"cite_ref-1\"><a href=\"#cite_note-1\">[1]</a></sup></li>\n",
              "<li>Ned Segal (<a href=\"/wiki/Chief_financial_officer\" title=\"Chief financial officer\">CFO</a>)<sup class=\"reference\" id=\"cite_ref-2\"><a href=\"#cite_note-2\">[2]</a></sup></li></ul>\n",
              "</div></td></tr><tr><th class=\"infobox-label\" scope=\"row\">Industry</th><td class=\"infobox-data category\"><a href=\"/wiki/Internet\" title=\"Internet\">Internet</a></td></tr><tr><th class=\"infobox-label\" scope=\"row\"><a href=\"/wiki/Revenue\" title=\"Revenue\">Revenue</a></th><td class=\"infobox-data\"><span class=\"nowrap\"><img alt=\"Increase\" data-file-height=\"300\" data-file-width=\"300\" decoding=\"async\" height=\"11\" src=\"//upload.wikimedia.org/wikipedia/commons/thumb/b/b0/Increase2.svg/11px-Increase2.svg.png\" srcset=\"//upload.wikimedia.org/wikipedia/commons/thumb/b/b0/Increase2.svg/17px-Increase2.svg.png 1.5x, //upload.wikimedia.org/wikipedia/commons/thumb/b/b0/Increase2.svg/22px-Increase2.svg.png 2x\" title=\"Increase\" width=\"11\"/> <span style=\"white-space: nowrap\"><a href=\"/wiki/United_States_dollar\" title=\"United States dollar\">US$</a>5.08 billion</span> (2021)</span></td></tr><tr><th class=\"infobox-label\" scope=\"row\"><a href=\"/wiki/Earnings_before_interest_and_taxes\" title=\"Earnings before interest and taxes\">Operating income</a></th><td class=\"infobox-data\"><span class=\"nowrap\"><img alt=\"Increase\" data-file-height=\"300\" data-file-width=\"300\" decoding=\"async\" height=\"11\" src=\"//upload.wikimedia.org/wikipedia/commons/thumb/b/b0/Increase2.svg/11px-Increase2.svg.png\" srcset=\"//upload.wikimedia.org/wikipedia/commons/thumb/b/b0/Increase2.svg/17px-Increase2.svg.png 1.5x, //upload.wikimedia.org/wikipedia/commons/thumb/b/b0/Increase2.svg/22px-Increase2.svg.png 2x\" title=\"Increase\" width=\"11\"/> US$272.96 million (2021)</span></td></tr><tr><th class=\"infobox-label\" scope=\"row\"><a href=\"/wiki/Net_income\" title=\"Net income\">Net income</a></th><td class=\"infobox-data\"><span class=\"nowrap\"><img alt=\"Increase\" data-file-height=\"300\" data-file-width=\"300\" decoding=\"async\" height=\"11\" src=\"//upload.wikimedia.org/wikipedia/commons/thumb/b/b0/Increase2.svg/11px-Increase2.svg.png\" srcset=\"//upload.wikimedia.org/wikipedia/commons/thumb/b/b0/Increase2.svg/17px-Increase2.svg.png 1.5x, //upload.wikimedia.org/wikipedia/commons/thumb/b/b0/Increase2.svg/22px-Increase2.svg.png 2x\" title=\"Increase\" width=\"11\"/> US$<span style=\"color:red\">−221.41</span> million (2021)</span></td></tr><tr><th class=\"infobox-label\" scope=\"row\"><a href=\"/wiki/Asset\" title=\"Asset\">Total assets</a></th><td class=\"infobox-data\"><span class=\"nowrap\"><img alt=\"Increase\" data-file-height=\"300\" data-file-width=\"300\" decoding=\"async\" height=\"11\" src=\"//upload.wikimedia.org/wikipedia/commons/thumb/b/b0/Increase2.svg/11px-Increase2.svg.png\" srcset=\"//upload.wikimedia.org/wikipedia/commons/thumb/b/b0/Increase2.svg/17px-Increase2.svg.png 1.5x, //upload.wikimedia.org/wikipedia/commons/thumb/b/b0/Increase2.svg/22px-Increase2.svg.png 2x\" title=\"Increase\" width=\"11\"/> US$14.06 billion (2021)</span></td></tr><tr><th class=\"infobox-label\" scope=\"row\"><a href=\"/wiki/Equity_(finance)\" title=\"Equity (finance)\">Total equity</a></th><td class=\"infobox-data\"><span class=\"nowrap\"><img alt=\"Decrease\" data-file-height=\"300\" data-file-width=\"300\" decoding=\"async\" height=\"11\" src=\"//upload.wikimedia.org/wikipedia/commons/thumb/e/ed/Decrease2.svg/11px-Decrease2.svg.png\" srcset=\"//upload.wikimedia.org/wikipedia/commons/thumb/e/ed/Decrease2.svg/17px-Decrease2.svg.png 1.5x, //upload.wikimedia.org/wikipedia/commons/thumb/e/ed/Decrease2.svg/22px-Decrease2.svg.png 2x\" title=\"Decrease\" width=\"11\"/> US$7.31 billion (2021)</span></td></tr><tr><th class=\"infobox-label\" scope=\"row\">Employees</th><td class=\"infobox-data\"><span class=\"nowrap\">7,500+ (December 2021)</span></td></tr><tr><th class=\"infobox-label\" scope=\"row\"><a href=\"/wiki/Subsidiary\" title=\"Subsidiary\">Subsidiaries</a></th><td class=\"infobox-data\"><div class=\"plainlist nowrap\"><ul><li><a href=\"/wiki/Vine_(service)\" title=\"Vine (service)\">Vine</a> (discontinued)</li><li><a class=\"mw-redirect\" href=\"/wiki/Periscope_(app)\" title=\"Periscope (app)\">Periscope</a></li></ul></div></td></tr><tr><th class=\"infobox-label\" scope=\"row\">URL</th><td class=\"infobox-data url\"><span class=\"url\"><a class=\"external text\" href=\"https://twitter.com\" rel=\"nofollow\">twitter<wbr/>.com</a></span> <a href=\"https://www.wikidata.org/wiki/Q918#P856\" title=\"Edit this at Wikidata\"><img alt=\"Edit this at Wikidata\" class=\"noprint\" data-file-height=\"20\" data-file-width=\"20\" decoding=\"async\" height=\"10\" src=\"//upload.wikimedia.org/wikipedia/en/thumb/8/8a/OOjs_UI_icon_edit-ltr-progressive.svg/10px-OOjs_UI_icon_edit-ltr-progressive.svg.png\" srcset=\"//upload.wikimedia.org/wikipedia/en/thumb/8/8a/OOjs_UI_icon_edit-ltr-progressive.svg/15px-OOjs_UI_icon_edit-ltr-progressive.svg.png 1.5x, //upload.wikimedia.org/wikipedia/en/thumb/8/8a/OOjs_UI_icon_edit-ltr-progressive.svg/20px-OOjs_UI_icon_edit-ltr-progressive.svg.png 2x\" style=\"vertical-align: text-top\" width=\"10\"/></a></td></tr><tr><th class=\"infobox-label\" scope=\"row\">Registration</th><td class=\"infobox-data\">Required</td></tr><tr><th class=\"infobox-label\" scope=\"row\"><a href=\"/wiki/Registered_user\" title=\"Registered user\">Users</a></th><td class=\"infobox-data\">229 million monetizable <a class=\"mw-redirect\" href=\"/wiki/Daily_active_users\" title=\"Daily active users\">DAU</a> (Q1 2022)</td></tr><tr><th class=\"infobox-label\" scope=\"row\">Launched</th><td class=\"infobox-data\">July 15, 2006<span class=\"noprint\">; 15 years ago</span><span style=\"display:none\"> (<span class=\"bday dtstart published updated\">2006-07-15</span>)</span></td></tr><tr><th class=\"infobox-label\" scope=\"row\">Current status</th><td class=\"infobox-data category\">Active</td></tr><tr><th class=\"infobox-label\" scope=\"row\"><a href=\"/wiki/Computing_platform\" title=\"Computing platform\">Native client(s) on</a></th><td class=\"infobox-data\"><div class=\"hlist hlist-separated\"><ul><li><a href=\"/wiki/IOS\" title=\"IOS\">iOS</a></li><li><a href=\"/wiki/Android_(operating_system)\" title=\"Android (operating system)\">Android</a></li><li><a href=\"/wiki/Windows_Phone\" title=\"Windows Phone\">Windows Phone</a></li><li><a href=\"/wiki/Microsoft_Windows\" title=\"Microsoft Windows\">Microsoft Windows</a></li><li><a href=\"/wiki/MacOS\" title=\"MacOS\">macOS</a></li><li><a href=\"/wiki/Internet\" title=\"Internet\">web</a></li></ul></div></td></tr><tr><th class=\"infobox-label\" scope=\"row\">Written in</th><td class=\"infobox-data\"><div class=\"hlist hlist-separated\"><ul><li><a href=\"/wiki/Java_(programming_language)\" title=\"Java (programming language)\">Java</a></li><li><a href=\"/wiki/Ruby_(programming_language)\" title=\"Ruby (programming language)\">Ruby</a></li><li><a href=\"/wiki/Scala_(programming_language)\" title=\"Scala (programming language)\">Scala</a></li><li><a href=\"/wiki/JavaScript\" title=\"JavaScript\">JavaScript</a></li></ul></div></td></tr><tr><td class=\"infobox-below\" colspan=\"2\"><sup class=\"reference\" id=\"cite_ref-Dorsey2006_3-0\"><a href=\"#cite_note-Dorsey2006-3\">[3]</a></sup><sup class=\"reference\" id=\"cite_ref-10K_4-0\"><a href=\"#cite_note-10K-4\">[4]</a></sup><sup class=\"reference\" id=\"cite_ref-5\"><a href=\"#cite_note-5\">[5]</a></sup><sup class=\"reference\" id=\"cite_ref-Twitter_coding_6-0\"><a href=\"#cite_note-Twitter_coding-6\">[6]</a></sup><sup class=\"reference\" id=\"cite_ref-infoq-jvm_7-0\"><a href=\"#cite_note-infoq-jvm-7\">[7]</a></sup><sup class=\"reference\" id=\"cite_ref-launch_8-0\"><a href=\"#cite_note-launch-8\">[8]</a></sup><sup class=\"reference\" id=\"cite_ref-9\"><a href=\"#cite_note-9\">[9]</a></sup></td></tr></tbody></table>"
            ]
          },
          "metadata": {},
          "execution_count": 24
        }
      ]
    },
    {
      "cell_type": "markdown",
      "source": [
        "# Pandas html way ***"
      ],
      "metadata": {
        "id": "BhUMTD4sKTpE"
      }
    },
    {
      "cell_type": "code",
      "source": [
        "from pandas.io.html import read_html\n",
        "page = 'https://en.wikipedia.org/wiki/Nestle'\n",
        "infoboxes = read_html(page, index_col=0, attrs={\"class\":\"infobox\"})\n",
        "wikitables = read_html(page, index_col=0, attrs={\"class\":\"wikitable\"})\n",
        "\n",
        "print(\"Extracted {num} infoboxes\".format(num=len(infoboxes)))\n",
        "print(\"Extracted {num} wikitables\".format(num=len(wikitables)))"
      ],
      "metadata": {
        "colab": {
          "base_uri": "https://localhost:8080/"
        },
        "id": "KZprvV-nGVmu",
        "outputId": "546fd750-2727-4fdc-d0f5-b09fe157f7f8"
      },
      "execution_count": 41,
      "outputs": [
        {
          "output_type": "stream",
          "name": "stdout",
          "text": [
            "Extracted 1 infoboxes\n",
            "Extracted 1 wikitables\n"
          ]
        }
      ]
    },
    {
      "cell_type": "code",
      "source": [
        "wikitables[0]"
      ],
      "metadata": {
        "colab": {
          "base_uri": "https://localhost:8080/",
          "height": 206
        },
        "id": "qw3MB4LpJ3s9",
        "outputId": "57aedde5-0a8f-4fb2-f6f6-1187fe072adc"
      },
      "execution_count": 58,
      "outputs": [
        {
          "output_type": "execute_result",
          "data": {
            "text/plain": [
              "                  2011        2012        2013        2014        2015  \\\n",
              "Year                                                                     \n",
              "Revenue         83.642      92.186      92.158      91.612      88.785   \n",
              "Net income       9.487      10.611      10.015      14.456       9.066   \n",
              "Assets         114.091     126.229     120.442     133.450     123.992   \n",
              "Employees   328000.000  339000.000  333000.000  339000.000  335000.000   \n",
              "\n",
              "                  2016        2017        2018        2019        2020  \\\n",
              "Year                                                                     \n",
              "Revenue         89.469      89.791      91.439      92.568      84.343   \n",
              "Net income       8.531       7.183      10.135      12.609      12.232   \n",
              "Assets         131.901     130.380     137.015     127.940     124.028   \n",
              "Employees   328000.000  323000.000  308000.000  291000.000  273000.000   \n",
              "\n",
              "                  2021  \n",
              "Year                    \n",
              "Revenue         87.088  \n",
              "Net income      17.196  \n",
              "Assets         139.142  \n",
              "Employees   276000.000  "
            ],
            "text/html": [
              "\n",
              "  <div id=\"df-001a7188-96fd-4d94-989a-5e80b59b0e6c\">\n",
              "    <div class=\"colab-df-container\">\n",
              "      <div>\n",
              "<style scoped>\n",
              "    .dataframe tbody tr th:only-of-type {\n",
              "        vertical-align: middle;\n",
              "    }\n",
              "\n",
              "    .dataframe tbody tr th {\n",
              "        vertical-align: top;\n",
              "    }\n",
              "\n",
              "    .dataframe thead th {\n",
              "        text-align: right;\n",
              "    }\n",
              "</style>\n",
              "<table border=\"1\" class=\"dataframe\">\n",
              "  <thead>\n",
              "    <tr style=\"text-align: right;\">\n",
              "      <th></th>\n",
              "      <th>2011</th>\n",
              "      <th>2012</th>\n",
              "      <th>2013</th>\n",
              "      <th>2014</th>\n",
              "      <th>2015</th>\n",
              "      <th>2016</th>\n",
              "      <th>2017</th>\n",
              "      <th>2018</th>\n",
              "      <th>2019</th>\n",
              "      <th>2020</th>\n",
              "      <th>2021</th>\n",
              "    </tr>\n",
              "    <tr>\n",
              "      <th>Year</th>\n",
              "      <th></th>\n",
              "      <th></th>\n",
              "      <th></th>\n",
              "      <th></th>\n",
              "      <th></th>\n",
              "      <th></th>\n",
              "      <th></th>\n",
              "      <th></th>\n",
              "      <th></th>\n",
              "      <th></th>\n",
              "      <th></th>\n",
              "    </tr>\n",
              "  </thead>\n",
              "  <tbody>\n",
              "    <tr>\n",
              "      <th>Revenue</th>\n",
              "      <td>83.642</td>\n",
              "      <td>92.186</td>\n",
              "      <td>92.158</td>\n",
              "      <td>91.612</td>\n",
              "      <td>88.785</td>\n",
              "      <td>89.469</td>\n",
              "      <td>89.791</td>\n",
              "      <td>91.439</td>\n",
              "      <td>92.568</td>\n",
              "      <td>84.343</td>\n",
              "      <td>87.088</td>\n",
              "    </tr>\n",
              "    <tr>\n",
              "      <th>Net income</th>\n",
              "      <td>9.487</td>\n",
              "      <td>10.611</td>\n",
              "      <td>10.015</td>\n",
              "      <td>14.456</td>\n",
              "      <td>9.066</td>\n",
              "      <td>8.531</td>\n",
              "      <td>7.183</td>\n",
              "      <td>10.135</td>\n",
              "      <td>12.609</td>\n",
              "      <td>12.232</td>\n",
              "      <td>17.196</td>\n",
              "    </tr>\n",
              "    <tr>\n",
              "      <th>Assets</th>\n",
              "      <td>114.091</td>\n",
              "      <td>126.229</td>\n",
              "      <td>120.442</td>\n",
              "      <td>133.450</td>\n",
              "      <td>123.992</td>\n",
              "      <td>131.901</td>\n",
              "      <td>130.380</td>\n",
              "      <td>137.015</td>\n",
              "      <td>127.940</td>\n",
              "      <td>124.028</td>\n",
              "      <td>139.142</td>\n",
              "    </tr>\n",
              "    <tr>\n",
              "      <th>Employees</th>\n",
              "      <td>328000.000</td>\n",
              "      <td>339000.000</td>\n",
              "      <td>333000.000</td>\n",
              "      <td>339000.000</td>\n",
              "      <td>335000.000</td>\n",
              "      <td>328000.000</td>\n",
              "      <td>323000.000</td>\n",
              "      <td>308000.000</td>\n",
              "      <td>291000.000</td>\n",
              "      <td>273000.000</td>\n",
              "      <td>276000.000</td>\n",
              "    </tr>\n",
              "  </tbody>\n",
              "</table>\n",
              "</div>\n",
              "      <button class=\"colab-df-convert\" onclick=\"convertToInteractive('df-001a7188-96fd-4d94-989a-5e80b59b0e6c')\"\n",
              "              title=\"Convert this dataframe to an interactive table.\"\n",
              "              style=\"display:none;\">\n",
              "        \n",
              "  <svg xmlns=\"http://www.w3.org/2000/svg\" height=\"24px\"viewBox=\"0 0 24 24\"\n",
              "       width=\"24px\">\n",
              "    <path d=\"M0 0h24v24H0V0z\" fill=\"none\"/>\n",
              "    <path d=\"M18.56 5.44l.94 2.06.94-2.06 2.06-.94-2.06-.94-.94-2.06-.94 2.06-2.06.94zm-11 1L8.5 8.5l.94-2.06 2.06-.94-2.06-.94L8.5 2.5l-.94 2.06-2.06.94zm10 10l.94 2.06.94-2.06 2.06-.94-2.06-.94-.94-2.06-.94 2.06-2.06.94z\"/><path d=\"M17.41 7.96l-1.37-1.37c-.4-.4-.92-.59-1.43-.59-.52 0-1.04.2-1.43.59L10.3 9.45l-7.72 7.72c-.78.78-.78 2.05 0 2.83L4 21.41c.39.39.9.59 1.41.59.51 0 1.02-.2 1.41-.59l7.78-7.78 2.81-2.81c.8-.78.8-2.07 0-2.86zM5.41 20L4 18.59l7.72-7.72 1.47 1.35L5.41 20z\"/>\n",
              "  </svg>\n",
              "      </button>\n",
              "      \n",
              "  <style>\n",
              "    .colab-df-container {\n",
              "      display:flex;\n",
              "      flex-wrap:wrap;\n",
              "      gap: 12px;\n",
              "    }\n",
              "\n",
              "    .colab-df-convert {\n",
              "      background-color: #E8F0FE;\n",
              "      border: none;\n",
              "      border-radius: 50%;\n",
              "      cursor: pointer;\n",
              "      display: none;\n",
              "      fill: #1967D2;\n",
              "      height: 32px;\n",
              "      padding: 0 0 0 0;\n",
              "      width: 32px;\n",
              "    }\n",
              "\n",
              "    .colab-df-convert:hover {\n",
              "      background-color: #E2EBFA;\n",
              "      box-shadow: 0px 1px 2px rgba(60, 64, 67, 0.3), 0px 1px 3px 1px rgba(60, 64, 67, 0.15);\n",
              "      fill: #174EA6;\n",
              "    }\n",
              "\n",
              "    [theme=dark] .colab-df-convert {\n",
              "      background-color: #3B4455;\n",
              "      fill: #D2E3FC;\n",
              "    }\n",
              "\n",
              "    [theme=dark] .colab-df-convert:hover {\n",
              "      background-color: #434B5C;\n",
              "      box-shadow: 0px 1px 3px 1px rgba(0, 0, 0, 0.15);\n",
              "      filter: drop-shadow(0px 1px 2px rgba(0, 0, 0, 0.3));\n",
              "      fill: #FFFFFF;\n",
              "    }\n",
              "  </style>\n",
              "\n",
              "      <script>\n",
              "        const buttonEl =\n",
              "          document.querySelector('#df-001a7188-96fd-4d94-989a-5e80b59b0e6c button.colab-df-convert');\n",
              "        buttonEl.style.display =\n",
              "          google.colab.kernel.accessAllowed ? 'block' : 'none';\n",
              "\n",
              "        async function convertToInteractive(key) {\n",
              "          const element = document.querySelector('#df-001a7188-96fd-4d94-989a-5e80b59b0e6c');\n",
              "          const dataTable =\n",
              "            await google.colab.kernel.invokeFunction('convertToInteractive',\n",
              "                                                     [key], {});\n",
              "          if (!dataTable) return;\n",
              "\n",
              "          const docLinkHtml = 'Like what you see? Visit the ' +\n",
              "            '<a target=\"_blank\" href=https://colab.research.google.com/notebooks/data_table.ipynb>data table notebook</a>'\n",
              "            + ' to learn more about interactive tables.';\n",
              "          element.innerHTML = '';\n",
              "          dataTable['output_type'] = 'display_data';\n",
              "          await google.colab.output.renderOutput(dataTable, element);\n",
              "          const docLink = document.createElement('div');\n",
              "          docLink.innerHTML = docLinkHtml;\n",
              "          element.appendChild(docLink);\n",
              "        }\n",
              "      </script>\n",
              "    </div>\n",
              "  </div>\n",
              "  "
            ]
          },
          "metadata": {},
          "execution_count": 58
        }
      ]
    },
    {
      "cell_type": "code",
      "source": [
        "infobox_df = infoboxes[0]\n",
        "infobox_df"
      ],
      "metadata": {
        "colab": {
          "base_uri": "https://localhost:8080/",
          "height": 559
        },
        "id": "dNc_uB4pJCBt",
        "outputId": "d8617c89-cc3c-40ee-ecb7-effdec668177"
      },
      "execution_count": 50,
      "outputs": [
        {
          "output_type": "execute_result",
          "data": {
            "text/plain": [
              "                                                                                                 1\n",
              "0                                                                                                 \n",
              "NaN                                                                                            NaN\n",
              "Nestlé Headquarters in Vevey, Vaud, Switzerland    Nestlé Headquarters in Vevey, Vaud, Switzerland\n",
              "Formerly                                         List Anglo-Swiss Condensed Milk Company (1866–...\n",
              "Type                                                                                        Public\n",
              "Traded as                                                                                SIX: NESN\n",
              "ISIN                                                                                  CH0038863350\n",
              "Industry                                                                           Food processing\n",
              "Founded                                                                        1866; 156 years ago\n",
              "Founder                                                                               Henri Nestlé\n",
              "Headquarters                                                              Vevey, Vaud, Switzerland\n",
              "Area served                                                                              Worldwide\n",
              "Key people                                       Paul Bulcke[1](Chairman)Ulf Mark Schneider[1](...\n",
              "Products                                         Baby food, coffee, dairy products, breakfast c...\n",
              "Revenue                                                                CHF 87.10 billion (2021)[3]\n",
              "Operating income                                                        CHF12.16 billion (2021)[3]\n",
              "Net income                                                              CHF17.20 billion (2021)[3]\n",
              "Total assets                                                           CHF139.14 billion (2021)[3]\n",
              "Total equity                                                            CHF53.73 billion (2021)[3]\n",
              "Number of employees                                                              276,000 (2021)[3]\n",
              "Subsidiaries                                                       Cereal Partners Worldwide (50%)\n",
              "Website                                                                             www.nestle.com"
            ],
            "text/html": [
              "\n",
              "  <div id=\"df-7be0b301-d1bb-40b1-b9ea-732e7db5e375\">\n",
              "    <div class=\"colab-df-container\">\n",
              "      <div>\n",
              "<style scoped>\n",
              "    .dataframe tbody tr th:only-of-type {\n",
              "        vertical-align: middle;\n",
              "    }\n",
              "\n",
              "    .dataframe tbody tr th {\n",
              "        vertical-align: top;\n",
              "    }\n",
              "\n",
              "    .dataframe thead th {\n",
              "        text-align: right;\n",
              "    }\n",
              "</style>\n",
              "<table border=\"1\" class=\"dataframe\">\n",
              "  <thead>\n",
              "    <tr style=\"text-align: right;\">\n",
              "      <th></th>\n",
              "      <th>1</th>\n",
              "    </tr>\n",
              "    <tr>\n",
              "      <th>0</th>\n",
              "      <th></th>\n",
              "    </tr>\n",
              "  </thead>\n",
              "  <tbody>\n",
              "    <tr>\n",
              "      <th>NaN</th>\n",
              "      <td>NaN</td>\n",
              "    </tr>\n",
              "    <tr>\n",
              "      <th>Nestlé Headquarters in Vevey, Vaud, Switzerland</th>\n",
              "      <td>Nestlé Headquarters in Vevey, Vaud, Switzerland</td>\n",
              "    </tr>\n",
              "    <tr>\n",
              "      <th>Formerly</th>\n",
              "      <td>List Anglo-Swiss Condensed Milk Company (1866–...</td>\n",
              "    </tr>\n",
              "    <tr>\n",
              "      <th>Type</th>\n",
              "      <td>Public</td>\n",
              "    </tr>\n",
              "    <tr>\n",
              "      <th>Traded as</th>\n",
              "      <td>SIX: NESN</td>\n",
              "    </tr>\n",
              "    <tr>\n",
              "      <th>ISIN</th>\n",
              "      <td>CH0038863350</td>\n",
              "    </tr>\n",
              "    <tr>\n",
              "      <th>Industry</th>\n",
              "      <td>Food processing</td>\n",
              "    </tr>\n",
              "    <tr>\n",
              "      <th>Founded</th>\n",
              "      <td>1866; 156 years ago</td>\n",
              "    </tr>\n",
              "    <tr>\n",
              "      <th>Founder</th>\n",
              "      <td>Henri Nestlé</td>\n",
              "    </tr>\n",
              "    <tr>\n",
              "      <th>Headquarters</th>\n",
              "      <td>Vevey, Vaud, Switzerland</td>\n",
              "    </tr>\n",
              "    <tr>\n",
              "      <th>Area served</th>\n",
              "      <td>Worldwide</td>\n",
              "    </tr>\n",
              "    <tr>\n",
              "      <th>Key people</th>\n",
              "      <td>Paul Bulcke[1](Chairman)Ulf Mark Schneider[1](...</td>\n",
              "    </tr>\n",
              "    <tr>\n",
              "      <th>Products</th>\n",
              "      <td>Baby food, coffee, dairy products, breakfast c...</td>\n",
              "    </tr>\n",
              "    <tr>\n",
              "      <th>Revenue</th>\n",
              "      <td>CHF 87.10 billion (2021)[3]</td>\n",
              "    </tr>\n",
              "    <tr>\n",
              "      <th>Operating income</th>\n",
              "      <td>CHF12.16 billion (2021)[3]</td>\n",
              "    </tr>\n",
              "    <tr>\n",
              "      <th>Net income</th>\n",
              "      <td>CHF17.20 billion (2021)[3]</td>\n",
              "    </tr>\n",
              "    <tr>\n",
              "      <th>Total assets</th>\n",
              "      <td>CHF139.14 billion (2021)[3]</td>\n",
              "    </tr>\n",
              "    <tr>\n",
              "      <th>Total equity</th>\n",
              "      <td>CHF53.73 billion (2021)[3]</td>\n",
              "    </tr>\n",
              "    <tr>\n",
              "      <th>Number of employees</th>\n",
              "      <td>276,000 (2021)[3]</td>\n",
              "    </tr>\n",
              "    <tr>\n",
              "      <th>Subsidiaries</th>\n",
              "      <td>Cereal Partners Worldwide (50%)</td>\n",
              "    </tr>\n",
              "    <tr>\n",
              "      <th>Website</th>\n",
              "      <td>www.nestle.com</td>\n",
              "    </tr>\n",
              "  </tbody>\n",
              "</table>\n",
              "</div>\n",
              "      <button class=\"colab-df-convert\" onclick=\"convertToInteractive('df-7be0b301-d1bb-40b1-b9ea-732e7db5e375')\"\n",
              "              title=\"Convert this dataframe to an interactive table.\"\n",
              "              style=\"display:none;\">\n",
              "        \n",
              "  <svg xmlns=\"http://www.w3.org/2000/svg\" height=\"24px\"viewBox=\"0 0 24 24\"\n",
              "       width=\"24px\">\n",
              "    <path d=\"M0 0h24v24H0V0z\" fill=\"none\"/>\n",
              "    <path d=\"M18.56 5.44l.94 2.06.94-2.06 2.06-.94-2.06-.94-.94-2.06-.94 2.06-2.06.94zm-11 1L8.5 8.5l.94-2.06 2.06-.94-2.06-.94L8.5 2.5l-.94 2.06-2.06.94zm10 10l.94 2.06.94-2.06 2.06-.94-2.06-.94-.94-2.06-.94 2.06-2.06.94z\"/><path d=\"M17.41 7.96l-1.37-1.37c-.4-.4-.92-.59-1.43-.59-.52 0-1.04.2-1.43.59L10.3 9.45l-7.72 7.72c-.78.78-.78 2.05 0 2.83L4 21.41c.39.39.9.59 1.41.59.51 0 1.02-.2 1.41-.59l7.78-7.78 2.81-2.81c.8-.78.8-2.07 0-2.86zM5.41 20L4 18.59l7.72-7.72 1.47 1.35L5.41 20z\"/>\n",
              "  </svg>\n",
              "      </button>\n",
              "      \n",
              "  <style>\n",
              "    .colab-df-container {\n",
              "      display:flex;\n",
              "      flex-wrap:wrap;\n",
              "      gap: 12px;\n",
              "    }\n",
              "\n",
              "    .colab-df-convert {\n",
              "      background-color: #E8F0FE;\n",
              "      border: none;\n",
              "      border-radius: 50%;\n",
              "      cursor: pointer;\n",
              "      display: none;\n",
              "      fill: #1967D2;\n",
              "      height: 32px;\n",
              "      padding: 0 0 0 0;\n",
              "      width: 32px;\n",
              "    }\n",
              "\n",
              "    .colab-df-convert:hover {\n",
              "      background-color: #E2EBFA;\n",
              "      box-shadow: 0px 1px 2px rgba(60, 64, 67, 0.3), 0px 1px 3px 1px rgba(60, 64, 67, 0.15);\n",
              "      fill: #174EA6;\n",
              "    }\n",
              "\n",
              "    [theme=dark] .colab-df-convert {\n",
              "      background-color: #3B4455;\n",
              "      fill: #D2E3FC;\n",
              "    }\n",
              "\n",
              "    [theme=dark] .colab-df-convert:hover {\n",
              "      background-color: #434B5C;\n",
              "      box-shadow: 0px 1px 3px 1px rgba(0, 0, 0, 0.15);\n",
              "      filter: drop-shadow(0px 1px 2px rgba(0, 0, 0, 0.3));\n",
              "      fill: #FFFFFF;\n",
              "    }\n",
              "  </style>\n",
              "\n",
              "      <script>\n",
              "        const buttonEl =\n",
              "          document.querySelector('#df-7be0b301-d1bb-40b1-b9ea-732e7db5e375 button.colab-df-convert');\n",
              "        buttonEl.style.display =\n",
              "          google.colab.kernel.accessAllowed ? 'block' : 'none';\n",
              "\n",
              "        async function convertToInteractive(key) {\n",
              "          const element = document.querySelector('#df-7be0b301-d1bb-40b1-b9ea-732e7db5e375');\n",
              "          const dataTable =\n",
              "            await google.colab.kernel.invokeFunction('convertToInteractive',\n",
              "                                                     [key], {});\n",
              "          if (!dataTable) return;\n",
              "\n",
              "          const docLinkHtml = 'Like what you see? Visit the ' +\n",
              "            '<a target=\"_blank\" href=https://colab.research.google.com/notebooks/data_table.ipynb>data table notebook</a>'\n",
              "            + ' to learn more about interactive tables.';\n",
              "          element.innerHTML = '';\n",
              "          dataTable['output_type'] = 'display_data';\n",
              "          await google.colab.output.renderOutput(dataTable, element);\n",
              "          const docLink = document.createElement('div');\n",
              "          docLink.innerHTML = docLinkHtml;\n",
              "          element.appendChild(docLink);\n",
              "        }\n",
              "      </script>\n",
              "    </div>\n",
              "  </div>\n",
              "  "
            ]
          },
          "metadata": {},
          "execution_count": 50
        }
      ]
    },
    {
      "cell_type": "code",
      "source": [
        "founded = infobox_df.loc[\"Founded\"]\n",
        "industry = infobox_df.loc[\"Industry\"]\n",
        "num_employees = infobox_df.loc[\"Number of employees\"]"
      ],
      "metadata": {
        "id": "zwMSu5_4JiR9"
      },
      "execution_count": 63,
      "outputs": []
    },
    {
      "cell_type": "code",
      "source": [
        "founded"
      ],
      "metadata": {
        "colab": {
          "base_uri": "https://localhost:8080/"
        },
        "id": "0ISV1MBQLKKa",
        "outputId": "8836b8f5-7572-4ff4-a25b-c8cf05c7d0bd"
      },
      "execution_count": 65,
      "outputs": [
        {
          "output_type": "execute_result",
          "data": {
            "text/plain": [
              "1    1866; 156 years ago\n",
              "Name: Founded, dtype: object"
            ]
          },
          "metadata": {},
          "execution_count": 65
        }
      ]
    },
    {
      "cell_type": "code",
      "source": [
        "industry"
      ],
      "metadata": {
        "colab": {
          "base_uri": "https://localhost:8080/"
        },
        "id": "ByEfKL5_M10P",
        "outputId": "f1937608-54ed-4296-d724-c44c3bf884c3"
      },
      "execution_count": 66,
      "outputs": [
        {
          "output_type": "execute_result",
          "data": {
            "text/plain": [
              "1    Food processing\n",
              "Name: Industry, dtype: object"
            ]
          },
          "metadata": {},
          "execution_count": 66
        }
      ]
    },
    {
      "cell_type": "code",
      "source": [
        "num_employees"
      ],
      "metadata": {
        "colab": {
          "base_uri": "https://localhost:8080/"
        },
        "id": "zxzlS2OZNIEM",
        "outputId": "2db56e6e-d383-44d5-d98e-a8c390ff41a0"
      },
      "execution_count": 67,
      "outputs": [
        {
          "output_type": "execute_result",
          "data": {
            "text/plain": [
              "1    276,000 (2021)[3]\n",
              "Name: Number of employees, dtype: object"
            ]
          },
          "metadata": {},
          "execution_count": 67
        }
      ]
    },
    {
      "cell_type": "code",
      "source": [
        ""
      ],
      "metadata": {
        "id": "GXRpgLS3NJZ0"
      },
      "execution_count": null,
      "outputs": []
    }
  ]
}