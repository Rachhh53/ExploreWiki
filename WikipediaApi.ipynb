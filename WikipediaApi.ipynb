{
  "nbformat": 4,
  "nbformat_minor": 0,
  "metadata": {
    "colab": {
      "name": "WikipediaApi.ipynb",
      "provenance": [],
      "collapsed_sections": [
        "rMQi-tJ7Vt1n",
        "rfqXiWZv6dqt",
        "3GV0QVKOHkjB",
        "BhUMTD4sKTpE",
        "aAaEsnceyuP2"
      ],
      "authorship_tag": "ABX9TyOJdC65qdbT/Hxon5gEK3Rt",
      "include_colab_link": true
    },
    "kernelspec": {
      "name": "python3",
      "display_name": "Python 3"
    },
    "language_info": {
      "name": "python"
    }
  },
  "cells": [
    {
      "cell_type": "markdown",
      "metadata": {
        "id": "view-in-github",
        "colab_type": "text"
      },
      "source": [
        "<a href=\"https://colab.research.google.com/github/Rachhh53/ExploreWiki/blob/main/WikipediaApi.ipynb\" target=\"_parent\"><img src=\"https://colab.research.google.com/assets/colab-badge.svg\" alt=\"Open In Colab\"/></a>"
      ]
    },
    {
      "cell_type": "markdown",
      "source": [
        "# Installs\n",
        "\n"
      ],
      "metadata": {
        "id": "rMQi-tJ7Vt1n"
      }
    },
    {
      "cell_type": "code",
      "source": [
        "!pip install wikipedia-api"
      ],
      "metadata": {
        "colab": {
          "base_uri": "https://localhost:8080/"
        },
        "id": "lzWrjAgVNrXI",
        "outputId": "1aabfac0-8de5-415e-f8dd-b36f928505ef"
      },
      "execution_count": 1,
      "outputs": [
        {
          "output_type": "stream",
          "name": "stdout",
          "text": [
            "Collecting wikipedia-api\n",
            "  Downloading Wikipedia-API-0.5.4.tar.gz (18 kB)\n",
            "  Preparing metadata (setup.py) ... \u001b[?25l\u001b[?25hdone\n",
            "Requirement already satisfied: requests in /usr/local/lib/python3.7/dist-packages (from wikipedia-api) (2.23.0)\n",
            "Requirement already satisfied: certifi>=2017.4.17 in /usr/local/lib/python3.7/dist-packages (from requests->wikipedia-api) (2021.10.8)\n",
            "Requirement already satisfied: chardet<4,>=3.0.2 in /usr/local/lib/python3.7/dist-packages (from requests->wikipedia-api) (3.0.4)\n",
            "Requirement already satisfied: idna<3,>=2.5 in /usr/local/lib/python3.7/dist-packages (from requests->wikipedia-api) (2.10)\n",
            "Requirement already satisfied: urllib3!=1.25.0,!=1.25.1,<1.26,>=1.21.1 in /usr/local/lib/python3.7/dist-packages (from requests->wikipedia-api) (1.25.11)\n",
            "Building wheels for collected packages: wikipedia-api\n",
            "  Building wheel for wikipedia-api (setup.py) ... \u001b[?25l\u001b[?25hdone\n",
            "  Created wheel for wikipedia-api: filename=Wikipedia_API-0.5.4-py3-none-any.whl size=13476 sha256=13b581577a2af6b6b6119de7a546977ca659e0aef05a351868877950ef48cdc5\n",
            "  Stored in directory: /root/.cache/pip/wheels/d3/24/56/58ba93cf78be162451144e7a9889603f437976ef1ae7013d04\n",
            "Successfully built wikipedia-api\n",
            "Installing collected packages: wikipedia-api\n",
            "Successfully installed wikipedia-api-0.5.4\n",
            "\u001b[33mWARNING: Running pip as the 'root' user can result in broken permissions and conflicting behaviour with the system package manager. It is recommended to use a virtual environment instead: https://pip.pypa.io/warnings/venv\u001b[0m\u001b[33m\n",
            "\u001b[0m"
          ]
        }
      ]
    },
    {
      "cell_type": "code",
      "source": [
        "!pip install tqdm"
      ],
      "metadata": {
        "colab": {
          "base_uri": "https://localhost:8080/"
        },
        "id": "blquW62g5VR9",
        "outputId": "dba52bde-65e5-40ef-a7a8-537656cdda64"
      },
      "execution_count": 5,
      "outputs": [
        {
          "output_type": "stream",
          "name": "stdout",
          "text": [
            "Requirement already satisfied: tqdm in /usr/local/lib/python3.7/dist-packages (4.64.0)\n",
            "\u001b[33mWARNING: Running pip as the 'root' user can result in broken permissions and conflicting behaviour with the system package manager. It is recommended to use a virtual environment instead: https://pip.pypa.io/warnings/venv\u001b[0m\u001b[33m\n",
            "\u001b[0m"
          ]
        }
      ]
    },
    {
      "cell_type": "code",
      "source": [
        "!pip install wikipedia"
      ],
      "metadata": {
        "colab": {
          "base_uri": "https://localhost:8080/"
        },
        "id": "ZiVlPLm0ylvu",
        "outputId": "bc2e3a0f-6e18-4fd9-fcf5-a036326892a8"
      },
      "execution_count": 1,
      "outputs": [
        {
          "output_type": "stream",
          "name": "stdout",
          "text": [
            "Collecting wikipedia\n",
            "  Downloading wikipedia-1.4.0.tar.gz (27 kB)\n",
            "Requirement already satisfied: beautifulsoup4 in /usr/local/lib/python3.7/dist-packages (from wikipedia) (4.6.3)\n",
            "Requirement already satisfied: requests<3.0.0,>=2.0.0 in /usr/local/lib/python3.7/dist-packages (from wikipedia) (2.23.0)\n",
            "Requirement already satisfied: chardet<4,>=3.0.2 in /usr/local/lib/python3.7/dist-packages (from requests<3.0.0,>=2.0.0->wikipedia) (3.0.4)\n",
            "Requirement already satisfied: idna<3,>=2.5 in /usr/local/lib/python3.7/dist-packages (from requests<3.0.0,>=2.0.0->wikipedia) (2.10)\n",
            "Requirement already satisfied: certifi>=2017.4.17 in /usr/local/lib/python3.7/dist-packages (from requests<3.0.0,>=2.0.0->wikipedia) (2021.10.8)\n",
            "Requirement already satisfied: urllib3!=1.25.0,!=1.25.1,<1.26,>=1.21.1 in /usr/local/lib/python3.7/dist-packages (from requests<3.0.0,>=2.0.0->wikipedia) (1.24.3)\n",
            "Building wheels for collected packages: wikipedia\n",
            "  Building wheel for wikipedia (setup.py) ... \u001b[?25l\u001b[?25hdone\n",
            "  Created wheel for wikipedia: filename=wikipedia-1.4.0-py3-none-any.whl size=11695 sha256=24d9cbf35e683576373109714ce46248e895bf571fbf9ac778e00fe509bec8c2\n",
            "  Stored in directory: /root/.cache/pip/wheels/15/93/6d/5b2c68b8a64c7a7a04947b4ed6d89fb557dcc6bc27d1d7f3ba\n",
            "Successfully built wikipedia\n",
            "Installing collected packages: wikipedia\n",
            "Successfully installed wikipedia-1.4.0\n"
          ]
        }
      ]
    },
    {
      "cell_type": "markdown",
      "source": [
        "# wikipedia-api"
      ],
      "metadata": {
        "id": "rfqXiWZv6dqt"
      }
    },
    {
      "cell_type": "code",
      "source": [
        "# https://towardsdatascience.com/auto-generated-knowledge-graphs-92ca99a81121\n",
        "import wikipediaapi  # pip install wikipedia-api\n",
        "import pandas as pd\n",
        "import concurrent.futures\n",
        "from tqdm import tqdm"
      ],
      "metadata": {
        "id": "mgKJ_5gvOdBT"
      },
      "execution_count": 6,
      "outputs": []
    },
    {
      "cell_type": "code",
      "source": [
        "def wiki_scrape(topic_name, verbose=True):\n",
        "    def wiki_link(link):\n",
        "        try:\n",
        "            page = wiki_api.page(link)\n",
        "            if page.exists():\n",
        "                return {'page': link, 'text': page.text, 'link': page.fullurl,\n",
        "                        'categories': list(page.categories.keys())}\n",
        "        except:\n",
        "            return None\n",
        "\n",
        "    wiki_api = wikipediaapi.Wikipedia(language='en',\n",
        "                                      extract_format=wikipediaapi.ExtractFormat.WIKI)\n",
        "    page_name = wiki_api.page(topic_name)\n",
        "    if not page_name.exists():\n",
        "        print('Page {} does not exist.'.format(topic_name))\n",
        "        return\n",
        "\n",
        "    page_links = list(page_name.links.keys())\n",
        "    progress = tqdm(desc='Links Scraped', unit='', total=len(page_links)) if verbose else None\n",
        "    sources = [{'page': topic_name, 'text': page_name.text, 'link': page_name.fullurl,\n",
        "                'categories': list(page_name.categories.keys())}]\n",
        "\n",
        "    with concurrent.futures.ThreadPoolExecutor(max_workers=5) as executor:\n",
        "        future_link = {executor.submit(wiki_link, link): link for link in page_links}\n",
        "        for future in concurrent.futures.as_completed(future_link):\n",
        "            data = future.result()\n",
        "            sources.append(data) if data else None\n",
        "            progress.update(1) if verbose else None\n",
        "    progress.close() if verbose else None\n",
        "\n",
        "    namespaces = ('Wikipedia', 'Special', 'Talk', 'LyricWiki', 'File', 'MediaWiki',\n",
        "                  'Template', 'Help', 'User', 'Category talk', 'Portal talk')\n",
        "    sources = pd.DataFrame(sources)\n",
        "    sources = sources[(len(sources['text']) > 20)\n",
        "                      & ~(sources['page'].str.startswith(namespaces, na=True))]\n",
        "    sources['categories'] = sources.categories.apply(lambda x: [y[9:] for y in x])\n",
        "    sources['topic'] = topic_name\n",
        "    print('Wikipedia pages scraped:', len(sources))\n",
        "\n",
        "    return sources"
      ],
      "metadata": {
        "id": "rJ1LMqkmRyrH"
      },
      "execution_count": 3,
      "outputs": []
    },
    {
      "cell_type": "code",
      "source": [
        "wiki_data = wiki_scrape('CVS Pharmacy')"
      ],
      "metadata": {
        "colab": {
          "base_uri": "https://localhost:8080/"
        },
        "id": "rIsatLY_OZCQ",
        "outputId": "b1898bc3-cde5-4004-eadd-ff571c78f378"
      },
      "execution_count": 93,
      "outputs": [
        {
          "output_type": "stream",
          "name": "stderr",
          "text": [
            "Links Scraped: 100%|██████████| 233/233 [00:10<00:00, 21.30/s] "
          ]
        },
        {
          "output_type": "stream",
          "name": "stdout",
          "text": [
            "Wikipedia pages scraped: 164\n"
          ]
        },
        {
          "output_type": "stream",
          "name": "stderr",
          "text": [
            "\n"
          ]
        }
      ]
    },
    {
      "cell_type": "code",
      "source": [
        "wiki_data"
      ],
      "metadata": {
        "id": "M9gUGLDkOzOq",
        "colab": {
          "base_uri": "https://localhost:8080/",
          "height": 424
        },
        "outputId": "9d823010-c19f-44f8-f0db-cfdb53e0d942"
      },
      "execution_count": 94,
      "outputs": [
        {
          "output_type": "execute_result",
          "data": {
            "text/plain": [
              "                             page  \\\n",
              "0                    CVS Pharmacy   \n",
              "1    20/20 (US television series)   \n",
              "2                  AEON (company)   \n",
              "3                           Aetna   \n",
              "4                        ABC News   \n",
              "..                            ...   \n",
              "159                Schwarz Gruppe   \n",
              "160            Seven & i Holdings   \n",
              "161        Southside Place, Texas   \n",
              "162             Smoking cessation   \n",
              "163        Southern United States   \n",
              "\n",
              "                                                  text  \\\n",
              "0    CVS Pharmacy, Inc. (styled CVSpharmacy, previo...   \n",
              "1    20/20 (stylized as 2020) is an American televi...   \n",
              "2    ÆON Co., Ltd. (イオン株式会社, Ion kabushiki gaisha),...   \n",
              "3    Aetna Inc.  () is an American managed health c...   \n",
              "4    ABC News is the news division of Walt Disney T...   \n",
              "..                                                 ...   \n",
              "159  The Schwarz Group is a family-owned multinatio...   \n",
              "160  Seven & i Holdings Co., Ltd. (株式会社セブン&アイ・ホールディ...   \n",
              "161  Southside Place is a city in west central Harr...   \n",
              "162  Smoking cessation, usually called quitting smo...   \n",
              "163  The Southern United States (sometimes Dixie, a...   \n",
              "\n",
              "                                                  link  \\\n",
              "0           https://en.wikipedia.org/wiki/CVS_Pharmacy   \n",
              "1    https://en.wikipedia.org/wiki/20/20_(American_...   \n",
              "2         https://en.wikipedia.org/wiki/AEON_(company)   \n",
              "3                  https://en.wikipedia.org/wiki/Aetna   \n",
              "4               https://en.wikipedia.org/wiki/ABC_News   \n",
              "..                                                 ...   \n",
              "159       https://en.wikipedia.org/wiki/Schwarz_Gruppe   \n",
              "160  https://en.wikipedia.org/wiki/Seven_%26_I_Hold...   \n",
              "161  https://en.wikipedia.org/wiki/Southside_Place,...   \n",
              "162    https://en.wikipedia.org/wiki/Smoking_cessation   \n",
              "163  https://en.wikipedia.org/wiki/Southern_United_...   \n",
              "\n",
              "                                            categories         topic  \n",
              "0    [1963 establishments in Massachusetts, All Wik...  CVS Pharmacy  \n",
              "1    [1970s American television news shows, 1978 Am...  CVS Pharmacy  \n",
              "2    [1758 establishments in Japan, Aeon Group, All...  CVS Pharmacy  \n",
              "3    [1850 establishments in Connecticut, 2018 merg...  CVS Pharmacy  \n",
              "4    [ABC News, All articles needing additional ref...  CVS Pharmacy  \n",
              "..                                                 ...           ...  \n",
              "159  [All stub articles, Articles with short descri...  CVS Pharmacy  \n",
              "160  [Articles containing Japanese-language text, A...  CVS Pharmacy  \n",
              "161  [Articles with LCCN identifiers, Articles with...  CVS Pharmacy  \n",
              "162  [All Wikipedia articles in need of updating, A...  CVS Pharmacy  \n",
              "163  [All Wikipedia articles written in American En...  CVS Pharmacy  \n",
              "\n",
              "[164 rows x 5 columns]"
            ],
            "text/html": [
              "\n",
              "  <div id=\"df-394b8a12-72fd-4996-839c-2b29395126e7\">\n",
              "    <div class=\"colab-df-container\">\n",
              "      <div>\n",
              "<style scoped>\n",
              "    .dataframe tbody tr th:only-of-type {\n",
              "        vertical-align: middle;\n",
              "    }\n",
              "\n",
              "    .dataframe tbody tr th {\n",
              "        vertical-align: top;\n",
              "    }\n",
              "\n",
              "    .dataframe thead th {\n",
              "        text-align: right;\n",
              "    }\n",
              "</style>\n",
              "<table border=\"1\" class=\"dataframe\">\n",
              "  <thead>\n",
              "    <tr style=\"text-align: right;\">\n",
              "      <th></th>\n",
              "      <th>page</th>\n",
              "      <th>text</th>\n",
              "      <th>link</th>\n",
              "      <th>categories</th>\n",
              "      <th>topic</th>\n",
              "    </tr>\n",
              "  </thead>\n",
              "  <tbody>\n",
              "    <tr>\n",
              "      <th>0</th>\n",
              "      <td>CVS Pharmacy</td>\n",
              "      <td>CVS Pharmacy, Inc. (styled CVSpharmacy, previo...</td>\n",
              "      <td>https://en.wikipedia.org/wiki/CVS_Pharmacy</td>\n",
              "      <td>[1963 establishments in Massachusetts, All Wik...</td>\n",
              "      <td>CVS Pharmacy</td>\n",
              "    </tr>\n",
              "    <tr>\n",
              "      <th>1</th>\n",
              "      <td>20/20 (US television series)</td>\n",
              "      <td>20/20 (stylized as 2020) is an American televi...</td>\n",
              "      <td>https://en.wikipedia.org/wiki/20/20_(American_...</td>\n",
              "      <td>[1970s American television news shows, 1978 Am...</td>\n",
              "      <td>CVS Pharmacy</td>\n",
              "    </tr>\n",
              "    <tr>\n",
              "      <th>2</th>\n",
              "      <td>AEON (company)</td>\n",
              "      <td>ÆON Co., Ltd. (イオン株式会社, Ion kabushiki gaisha),...</td>\n",
              "      <td>https://en.wikipedia.org/wiki/AEON_(company)</td>\n",
              "      <td>[1758 establishments in Japan, Aeon Group, All...</td>\n",
              "      <td>CVS Pharmacy</td>\n",
              "    </tr>\n",
              "    <tr>\n",
              "      <th>3</th>\n",
              "      <td>Aetna</td>\n",
              "      <td>Aetna Inc.  () is an American managed health c...</td>\n",
              "      <td>https://en.wikipedia.org/wiki/Aetna</td>\n",
              "      <td>[1850 establishments in Connecticut, 2018 merg...</td>\n",
              "      <td>CVS Pharmacy</td>\n",
              "    </tr>\n",
              "    <tr>\n",
              "      <th>4</th>\n",
              "      <td>ABC News</td>\n",
              "      <td>ABC News is the news division of Walt Disney T...</td>\n",
              "      <td>https://en.wikipedia.org/wiki/ABC_News</td>\n",
              "      <td>[ABC News, All articles needing additional ref...</td>\n",
              "      <td>CVS Pharmacy</td>\n",
              "    </tr>\n",
              "    <tr>\n",
              "      <th>...</th>\n",
              "      <td>...</td>\n",
              "      <td>...</td>\n",
              "      <td>...</td>\n",
              "      <td>...</td>\n",
              "      <td>...</td>\n",
              "    </tr>\n",
              "    <tr>\n",
              "      <th>159</th>\n",
              "      <td>Schwarz Gruppe</td>\n",
              "      <td>The Schwarz Group is a family-owned multinatio...</td>\n",
              "      <td>https://en.wikipedia.org/wiki/Schwarz_Gruppe</td>\n",
              "      <td>[All stub articles, Articles with short descri...</td>\n",
              "      <td>CVS Pharmacy</td>\n",
              "    </tr>\n",
              "    <tr>\n",
              "      <th>160</th>\n",
              "      <td>Seven &amp; i Holdings</td>\n",
              "      <td>Seven &amp; i Holdings Co., Ltd. (株式会社セブン&amp;アイ・ホールディ...</td>\n",
              "      <td>https://en.wikipedia.org/wiki/Seven_%26_I_Hold...</td>\n",
              "      <td>[Articles containing Japanese-language text, A...</td>\n",
              "      <td>CVS Pharmacy</td>\n",
              "    </tr>\n",
              "    <tr>\n",
              "      <th>161</th>\n",
              "      <td>Southside Place, Texas</td>\n",
              "      <td>Southside Place is a city in west central Harr...</td>\n",
              "      <td>https://en.wikipedia.org/wiki/Southside_Place,...</td>\n",
              "      <td>[Articles with LCCN identifiers, Articles with...</td>\n",
              "      <td>CVS Pharmacy</td>\n",
              "    </tr>\n",
              "    <tr>\n",
              "      <th>162</th>\n",
              "      <td>Smoking cessation</td>\n",
              "      <td>Smoking cessation, usually called quitting smo...</td>\n",
              "      <td>https://en.wikipedia.org/wiki/Smoking_cessation</td>\n",
              "      <td>[All Wikipedia articles in need of updating, A...</td>\n",
              "      <td>CVS Pharmacy</td>\n",
              "    </tr>\n",
              "    <tr>\n",
              "      <th>163</th>\n",
              "      <td>Southern United States</td>\n",
              "      <td>The Southern United States (sometimes Dixie, a...</td>\n",
              "      <td>https://en.wikipedia.org/wiki/Southern_United_...</td>\n",
              "      <td>[All Wikipedia articles written in American En...</td>\n",
              "      <td>CVS Pharmacy</td>\n",
              "    </tr>\n",
              "  </tbody>\n",
              "</table>\n",
              "<p>164 rows × 5 columns</p>\n",
              "</div>\n",
              "      <button class=\"colab-df-convert\" onclick=\"convertToInteractive('df-394b8a12-72fd-4996-839c-2b29395126e7')\"\n",
              "              title=\"Convert this dataframe to an interactive table.\"\n",
              "              style=\"display:none;\">\n",
              "        \n",
              "  <svg xmlns=\"http://www.w3.org/2000/svg\" height=\"24px\"viewBox=\"0 0 24 24\"\n",
              "       width=\"24px\">\n",
              "    <path d=\"M0 0h24v24H0V0z\" fill=\"none\"/>\n",
              "    <path d=\"M18.56 5.44l.94 2.06.94-2.06 2.06-.94-2.06-.94-.94-2.06-.94 2.06-2.06.94zm-11 1L8.5 8.5l.94-2.06 2.06-.94-2.06-.94L8.5 2.5l-.94 2.06-2.06.94zm10 10l.94 2.06.94-2.06 2.06-.94-2.06-.94-.94-2.06-.94 2.06-2.06.94z\"/><path d=\"M17.41 7.96l-1.37-1.37c-.4-.4-.92-.59-1.43-.59-.52 0-1.04.2-1.43.59L10.3 9.45l-7.72 7.72c-.78.78-.78 2.05 0 2.83L4 21.41c.39.39.9.59 1.41.59.51 0 1.02-.2 1.41-.59l7.78-7.78 2.81-2.81c.8-.78.8-2.07 0-2.86zM5.41 20L4 18.59l7.72-7.72 1.47 1.35L5.41 20z\"/>\n",
              "  </svg>\n",
              "      </button>\n",
              "      \n",
              "  <style>\n",
              "    .colab-df-container {\n",
              "      display:flex;\n",
              "      flex-wrap:wrap;\n",
              "      gap: 12px;\n",
              "    }\n",
              "\n",
              "    .colab-df-convert {\n",
              "      background-color: #E8F0FE;\n",
              "      border: none;\n",
              "      border-radius: 50%;\n",
              "      cursor: pointer;\n",
              "      display: none;\n",
              "      fill: #1967D2;\n",
              "      height: 32px;\n",
              "      padding: 0 0 0 0;\n",
              "      width: 32px;\n",
              "    }\n",
              "\n",
              "    .colab-df-convert:hover {\n",
              "      background-color: #E2EBFA;\n",
              "      box-shadow: 0px 1px 2px rgba(60, 64, 67, 0.3), 0px 1px 3px 1px rgba(60, 64, 67, 0.15);\n",
              "      fill: #174EA6;\n",
              "    }\n",
              "\n",
              "    [theme=dark] .colab-df-convert {\n",
              "      background-color: #3B4455;\n",
              "      fill: #D2E3FC;\n",
              "    }\n",
              "\n",
              "    [theme=dark] .colab-df-convert:hover {\n",
              "      background-color: #434B5C;\n",
              "      box-shadow: 0px 1px 3px 1px rgba(0, 0, 0, 0.15);\n",
              "      filter: drop-shadow(0px 1px 2px rgba(0, 0, 0, 0.3));\n",
              "      fill: #FFFFFF;\n",
              "    }\n",
              "  </style>\n",
              "\n",
              "      <script>\n",
              "        const buttonEl =\n",
              "          document.querySelector('#df-394b8a12-72fd-4996-839c-2b29395126e7 button.colab-df-convert');\n",
              "        buttonEl.style.display =\n",
              "          google.colab.kernel.accessAllowed ? 'block' : 'none';\n",
              "\n",
              "        async function convertToInteractive(key) {\n",
              "          const element = document.querySelector('#df-394b8a12-72fd-4996-839c-2b29395126e7');\n",
              "          const dataTable =\n",
              "            await google.colab.kernel.invokeFunction('convertToInteractive',\n",
              "                                                     [key], {});\n",
              "          if (!dataTable) return;\n",
              "\n",
              "          const docLinkHtml = 'Like what you see? Visit the ' +\n",
              "            '<a target=\"_blank\" href=https://colab.research.google.com/notebooks/data_table.ipynb>data table notebook</a>'\n",
              "            + ' to learn more about interactive tables.';\n",
              "          element.innerHTML = '';\n",
              "          dataTable['output_type'] = 'display_data';\n",
              "          await google.colab.output.renderOutput(dataTable, element);\n",
              "          const docLink = document.createElement('div');\n",
              "          docLink.innerHTML = docLinkHtml;\n",
              "          element.appendChild(docLink);\n",
              "        }\n",
              "      </script>\n",
              "    </div>\n",
              "  </div>\n",
              "  "
            ]
          },
          "metadata": {},
          "execution_count": 94
        }
      ]
    },
    {
      "cell_type": "code",
      "source": [
        "# Get Page Sections\n",
        "\n",
        "def print_sections(sections, level=0):\n",
        "        for s in sections:\n",
        "                print(\"%s: %s - %s\" % (\"*\" * (level + 1), s.title, s.text[0:40]))\n",
        "                print_sections(s.sections, level + 1)\n",
        "\n",
        "topic_name = 'Nestle'\n",
        "wiki_api = wikipediaapi.Wikipedia(language='en', extract_format=wikipediaapi.ExtractFormat.WIKI)\n",
        "page_name = wiki_api.page(topic_name)\n",
        "print_sections(page_name.sections)"
      ],
      "metadata": {
        "colab": {
          "base_uri": "https://localhost:8080/"
        },
        "id": "70GuQVfs9Xqd",
        "outputId": "5c1f1de4-abd2-44cc-ce14-db939a5d6f43"
      },
      "execution_count": 13,
      "outputs": [
        {
          "output_type": "stream",
          "name": "stdout",
          "text": [
            "*: History - \n",
            "**: 1866–1900: Founding and early years - Nestlé's origin dates back to the 1860s,\n",
            "***: Timeline - 1866, Charles Page (US consul to Switzer\n",
            "**: 1901–1989: Mergers - In 1904, François-Louis Cailler, Charles\n",
            "**: 1990–2011: Growth internationally - The first half of the 1990s proved to be\n",
            "**: 2012–present: Recent developments - In recent years, Nestlé Health Science h\n",
            "*: Corporate affairs and governance - Nestlé is the biggest food company in th\n",
            "**: Financial data - \n",
            "**: Joint ventures - Joint ventures include:\n",
            "\n",
            "Cereal Partners\n",
            "**: Board of Directors - As of 2017, the board is composed of:\n",
            "Pa\n",
            "**: Lobbying - The company engages third party lobbying\n",
            "*: Products - Nestlé currently has over 2,000 brands w\n",
            "**: Food safety - \n",
            "***: Milk products and baby food - In late September 2008, the Hong Kong go\n",
            "***: Cookie dough - In June 2009, an outbreak of E. coli O15\n",
            "***: Maggi noodles - In May 2015, Food Safety Regulators from\n",
            "*: Sponsorships - \n",
            "**: Music and Entertainment - In 1993, plans were made to update and m\n",
            "**: Sports - Nestlé's sponsorship of the Tour de Fran\n",
            "*: Controversy and criticisms - \n",
            "**: Baby formula marketing - Concern about Nestlé's \"aggressive marke\n",
            "**: Slavery and child labour - Multiple reports have documented the wid\n",
            "**: Anti-union activities in Colombia - Nestlé has been involved in extensive un\n",
            "**: Water - \n",
            "***: Status of potable water - At the second World Water Forum in 2000,\n",
            "***: Plastic bottles - A coalition of environmental groups file\n",
            "***: Water bottling operations in California, Oregon and Michigan - Considerable controversy has surrounded \n",
            "**: Chocolate price fixing - In Canada, the Competition Bureau raided\n",
            "**: Ethiopian debt repayment - In 2002, Nestlé demanded that the nation\n",
            "**: Russian-Ukrainian conflict - In August 2015, the Ukrainian TV channel\n",
            "**: Forced labour in Thai fishing industry - At the conclusion of a year-long self-im\n",
            "**: Deforestation - In September 2017, an investigation cond\n",
            "*: Corporate social responsibility program involvements - Nestlé efforts relating to social respon\n",
            "*: Recognition and awards - In May 2006, Nestlé's executive board de\n",
            "*: Bibliography - La stratégie Nestlé (Nestlé Strategy), H\n",
            "*: See also - Big Chocolate\n",
            "Cerelac\n",
            "Farfel the Dog\n",
            "Nes\n",
            "*: Notes and references - \n",
            "*: External links - Official website \n",
            "Documents and clipping\n"
          ]
        }
      ]
    },
    {
      "cell_type": "markdown",
      "source": [
        "# wptools - doesn't working on my machine"
      ],
      "metadata": {
        "id": "3GV0QVKOHkjB"
      }
    },
    {
      "cell_type": "code",
      "source": [
        "!pip install wptools"
      ],
      "metadata": {
        "colab": {
          "base_uri": "https://localhost:8080/"
        },
        "id": "TBXA5qqhAD8T",
        "outputId": "9e2defd0-01a7-4b99-a157-0e71c6f03749"
      },
      "execution_count": 14,
      "outputs": [
        {
          "output_type": "stream",
          "name": "stdout",
          "text": [
            "Collecting wptools\n",
            "  Downloading wptools-0.4.17-py2.py3-none-any.whl (38 kB)\n",
            "Collecting pycurl\n",
            "  Downloading pycurl-7.45.1.tar.gz (233 kB)\n",
            "\u001b[2K     \u001b[90m━━━━━━━━━━━━━━━━━━━━━━━━━━━━━━━━━━━━━━\u001b[0m \u001b[32m233.9/233.9 KB\u001b[0m \u001b[31m15.7 MB/s\u001b[0m eta \u001b[36m0:00:00\u001b[0m\n",
            "\u001b[?25h  Preparing metadata (setup.py) ... \u001b[?25l\u001b[?25hdone\n",
            "Collecting html2text\n",
            "  Downloading html2text-2020.1.16-py3-none-any.whl (32 kB)\n",
            "Requirement already satisfied: certifi in /usr/local/lib/python3.7/dist-packages (from wptools) (2021.10.8)\n",
            "Requirement already satisfied: lxml in /usr/local/lib/python3.7/dist-packages (from wptools) (4.2.6)\n",
            "Building wheels for collected packages: pycurl\n",
            "  Building wheel for pycurl (setup.py) ... \u001b[?25l\u001b[?25hdone\n",
            "  Created wheel for pycurl: filename=pycurl-7.45.1-cp37-cp37m-linux_x86_64.whl size=300958 sha256=deaf66084bc715eb9c9d7390b27450d9cf2a1a31b522783a8333517c4ef2b088\n",
            "  Stored in directory: /root/.cache/pip/wheels/b4/fe/1f/e6cae4153dbc082271bd5763ad36ae255639e4641054db10bc\n",
            "Successfully built pycurl\n",
            "Installing collected packages: pycurl, html2text, wptools\n",
            "Successfully installed html2text-2020.1.16 pycurl-7.45.1 wptools-0.4.17\n",
            "\u001b[33mWARNING: Running pip as the 'root' user can result in broken permissions and conflicting behaviour with the system package manager. It is recommended to use a virtual environment instead: https://pip.pypa.io/warnings/venv\u001b[0m\u001b[33m\n",
            "\u001b[0m"
          ]
        }
      ]
    },
    {
      "cell_type": "code",
      "source": [
        "import wptools\n",
        "so = wptools.page('Nestle').get_parse()\n",
        "infobox = so.data['infobox']\n",
        "infobox"
      ],
      "metadata": {
        "colab": {
          "base_uri": "https://localhost:8080/"
        },
        "id": "D37k-vo1A1c_",
        "outputId": "dd18a5f9-0ceb-4715-eff7-9473806f4e18"
      },
      "execution_count": 33,
      "outputs": [
        {
          "output_type": "stream",
          "name": "stderr",
          "text": [
            "en.wikipedia.org (parse) Nestle\n",
            "en.wikipedia.org (imageinfo) File:NestleHQ.jpg\n",
            "Nestlé (en) data\n",
            "{\n",
            "  image: <list(1)> {'kind': 'parse-image', 'file': 'File:NestleHQ....\n",
            "  infobox: <dict(24)> name, former_names, logo, image, image_size,...\n",
            "  iwlinks: <list(2)> https://commons.wikimedia.org/wiki/Category:N...\n",
            "  pageid: 160227\n",
            "  parsetree: <str(193316)> <root><template><title>Short descriptio...\n",
            "  requests: <list(2)> parse, imageinfo\n",
            "  title: Nestlé\n",
            "  wikibase: Q160746\n",
            "  wikidata_url: https://www.wikidata.org/wiki/Q160746\n",
            "  wikitext: <str(164424)> {{Short description|Swiss multinational ...\n",
            "}\n"
          ]
        },
        {
          "output_type": "execute_result",
          "data": {
            "text/plain": [
              "{'name': 'Nestlé S.A.',\n",
              " 'former_names': '{{collapsible list|\\n* Anglo-Swiss Condensed Milk Company (1866–1867)\\n* Farine Lactée Henri Nestlé (1867–1905)\\n* Nestlé and Anglo-Swiss Condensed Milk Company (1905–1947)\\n* Nestlé Alimentana SA (1947–)}}',\n",
              " 'logo': 'Nestlé.svg',\n",
              " 'image': 'NestleHQ.jpg',\n",
              " 'image_size': '250px',\n",
              " 'image_caption': 'Nestlé Headquarters in [[Vevey]], [[Vaud]], Switzerland',\n",
              " 'type': '[[Public company|Public]]',\n",
              " 'traded_as': '{{SWX|NESN}}',\n",
              " 'ISIN': 'CH0038863350',\n",
              " 'foundation': '{{start date and age|df|=|yes|1866}}',\n",
              " 'founder': '[[Henri Nestlé]]',\n",
              " 'location': '[[Vevey]], [[Vaud]], [[Switzerland]]',\n",
              " 'area_served': 'Worldwide',\n",
              " 'key_people': '[[Paul Bulcke]] <br> {{small|([[Chairman]])}} <br>[[Ulf Mark Schneider]] <br> {{small|([[CEO]])}} <br/>David McDaniel <br/> {{small|([[CFO]])}}',\n",
              " 'industry': '[[Food processing]]',\n",
              " 'products': '[[Baby food]], [[coffee]], [[dairy products]], [[breakfast cereals]], [[confectionery]], [[bottled water]], [[ice cream]], [[pet foods]] ([[List of Nestlé brands|list...]])',\n",
              " 'revenue': '{{nowrap|increase| |CHF|87.10 billion|link|=|yes| (2021)}} {{increase}} {{CHF|87.10 billion|link|=|yes}} (2021)',\n",
              " 'operating_income': '{{nowrap|decrease| CHF12.16 billion (2021)}} {{decrease}} CHF12.16 billion (2021)',\n",
              " 'net_income': '{{nowrap|increase| CHF17.20 billion (2021)}} {{increase}} CHF17.20 billion (2021)',\n",
              " 'assets': '{{nowrap|increase| CHF139.14 billion (2021)}} {{increase}} CHF139.14 billion (2021)',\n",
              " 'equity': '{{nowrap|increase| CHF53.73 billion (2021)}} {{increase}} CHF53.73 billion (2021)',\n",
              " 'num_employees': '276,000 (2021)',\n",
              " 'subsid': '[[Cereal Partners Worldwide]] (50%)',\n",
              " 'homepage': '{{url|www.nestle.com}}'}"
            ]
          },
          "metadata": {},
          "execution_count": 33
        }
      ]
    },
    {
      "cell_type": "markdown",
      "source": [
        "# beautiful soup way"
      ],
      "metadata": {
        "id": "rUpW_6wYHgn3"
      }
    },
    {
      "cell_type": "code",
      "source": [
        "!pip install bs4\n",
        "!pip install urllib3"
      ],
      "metadata": {
        "colab": {
          "base_uri": "https://localhost:8080/"
        },
        "id": "IgNe6IjaA91U",
        "outputId": "1c8d15c0-61c4-47f8-d4f4-c796a926ec79"
      },
      "execution_count": 15,
      "outputs": [
        {
          "output_type": "stream",
          "name": "stdout",
          "text": [
            "Requirement already satisfied: bs4 in /usr/local/lib/python3.7/dist-packages (0.0.1)\n",
            "Requirement already satisfied: beautifulsoup4 in /usr/local/lib/python3.7/dist-packages (from bs4) (4.6.3)\n",
            "Requirement already satisfied: urllib3 in /usr/local/lib/python3.7/dist-packages (1.24.3)\n"
          ]
        }
      ]
    },
    {
      "cell_type": "code",
      "source": [
        "# importing the module\n",
        "import requests\n",
        "import bs4\n",
        "\n",
        "# URL\n",
        "URL = \"https://en.wikipedia.org/wiki/Twitter\"\n",
        "\n",
        "# sending the request\n",
        "response = requests.get(URL)\n",
        "\n",
        "# parsing the response\n",
        "soup = bs4.BeautifulSoup(response.text, 'html')\n",
        "\n",
        "# Now, we have parsed HTML with us. I want to get the _motto_ from the wikipedia page.\n",
        "# Elements structure\n",
        "# table - class=\"infobox\"\n",
        "# 3rd tr to get motto\n",
        "\n",
        "# getting infobox\n",
        "infobox = soup.find('table', {'class': 'infobox'})\n",
        "infobox\n",
        "\n",
        "\n",
        "# # getting 3rd row element tr\n",
        "# third_tr = infobox.find_all('tr')[2]\n",
        "\n",
        "# # from third_tr we have to find first 'a' element and 'div' element to get required data\n",
        "# first_a = third_tr.div.find('a')\n",
        "# div = third_tr.div.div\n",
        "\n",
        "# # motto\n",
        "# motto = f\"{first_a.text} {div.text[:len(div.text) - 3]}\"\n",
        "\n",
        "# # printing the motto\n",
        "# print(motto)\n"
      ],
      "metadata": {
        "colab": {
          "base_uri": "https://localhost:8080/"
        },
        "id": "ltGgD5CJGTjn",
        "outputId": "cb618860-6c31-46bf-b56a-d319493ead04"
      },
      "execution_count": 24,
      "outputs": [
        {
          "output_type": "execute_result",
          "data": {
            "text/plain": [
              "<table class=\"infobox vcard\"><caption class=\"infobox-title fn org\">Twitter, Inc.</caption><tbody><tr><td class=\"infobox-image\" colspan=\"2\"><a class=\"image\" href=\"/wiki/File:Twitter-logo.svg\"><img alt=\"Twitter-logo.svg\" data-file-height=\"421\" data-file-width=\"512\" decoding=\"async\" height=\"82\" src=\"//upload.wikimedia.org/wikipedia/commons/thumb/4/4f/Twitter-logo.svg/100px-Twitter-logo.svg.png\" srcset=\"//upload.wikimedia.org/wikipedia/commons/thumb/4/4f/Twitter-logo.svg/150px-Twitter-logo.svg.png 1.5x, //upload.wikimedia.org/wikipedia/commons/thumb/4/4f/Twitter-logo.svg/200px-Twitter-logo.svg.png 2x\" width=\"100\"/></a></td></tr><tr><td class=\"infobox-image\" colspan=\"2\"><div class=\"mw-collapsible mw-collapsed\" style=\"box-sizing:border-box;width:100%;font-size:95%;padding:4px;border:none;\"><div style=\"font-size:100%;line-height:1.6;font-weight:bold;background:transparent;text-align:left;;background:gainsboro;text-align:center\">Screenshot</div><div class=\"mw-collapsible-content\" style=\"background:transparent;text-align:left;;text-align:center\">\n",
              "<a class=\"image\" href=\"/wiki/File:Twitter_Home_Page_(Moments_version,_countries_without_dedicated_feed).png\"><img alt=\"Twitter Home Page (Moments version, countries without dedicated feed).png\" data-file-height=\"237\" data-file-width=\"421\" decoding=\"async\" height=\"169\" src=\"//upload.wikimedia.org/wikipedia/en/thumb/2/20/Twitter_Home_Page_%28Moments_version%2C_countries_without_dedicated_feed%29.png/300px-Twitter_Home_Page_%28Moments_version%2C_countries_without_dedicated_feed%29.png\" srcset=\"//upload.wikimedia.org/wikipedia/en/2/20/Twitter_Home_Page_%28Moments_version%2C_countries_without_dedicated_feed%29.png 1.5x\" width=\"300\"/></a><div class=\"infobox-caption\">The default page shown to logged-out users</div></div></div></td></tr><tr><th class=\"infobox-label\" scope=\"row\"><a class=\"mw-redirect\" href=\"/wiki/Types_of_business_entity\" title=\"Types of business entity\">Type of business</a></th><td class=\"infobox-data category\"><a href=\"/wiki/Public_company\" title=\"Public company\">Public</a></td></tr><tr><th class=\"infobox-label\" scope=\"row\"><div style=\"display:inline-block; line-height:1.2em; padding:0.1em 0;\">Type of site</div></th><td class=\"infobox-data\">News, <a href=\"/wiki/Social_networking_service\" title=\"Social networking service\">social networking service</a></td></tr><tr><th class=\"infobox-label\" scope=\"row\">Available in</th><td class=\"infobox-data\">Multilingual</td></tr><tr><th class=\"infobox-label\" scope=\"row\"><a href=\"/wiki/Ticker_symbol\" title=\"Ticker symbol\">Traded as</a></th><td class=\"infobox-data\"><div class=\"plainlist nowrap\"><ul><li><a href=\"/wiki/New_York_Stock_Exchange\" title=\"New York Stock Exchange\">NYSE</a>: <a class=\"external text\" href=\"https://www.nyse.com/quote/XNYS:TWTR\" rel=\"nofollow\">TWTR</a></li><li><a href=\"/wiki/S%26P_500\" title=\"S&amp;P 500\">S&amp;P 500 Component</a></li></ul></div></td></tr><tr><th class=\"infobox-label\" scope=\"row\">Founded</th><td class=\"infobox-data\">March 21, 2006<span class=\"noprint\">; 16 years ago</span><span style=\"display:none\"> (<span class=\"bday dtstart published updated\">2006-03-21</span>)</span></td></tr><tr><th class=\"infobox-label\" scope=\"row\">Headquarters</th><td class=\"infobox-data label\"><a class=\"mw-redirect\" href=\"/wiki/San_Francisco,_California\" title=\"San Francisco, California\">San Francisco, California</a>, U.S.</td></tr><tr><th class=\"infobox-label\" scope=\"row\">Area served</th><td class=\"infobox-data\">Worldwide</td></tr><tr><th class=\"infobox-label\" scope=\"row\"><a href=\"/wiki/Organizational_founder\" title=\"Organizational founder\">Founder(s)</a></th><td class=\"infobox-data\"><div class=\"plainlist nowrap\"><ul><li><a href=\"/wiki/Jack_Dorsey\" title=\"Jack Dorsey\">Jack Dorsey</a></li><li><a href=\"/wiki/Noah_Glass\" title=\"Noah Glass\">Noah Glass</a></li><li><a href=\"/wiki/Biz_Stone\" title=\"Biz Stone\">Biz Stone</a></li><li><a href=\"/wiki/Evan_Williams_(Internet_entrepreneur)\" title=\"Evan Williams (Internet entrepreneur)\">Evan Williams</a></li></ul></div></td></tr><tr><th class=\"infobox-label\" scope=\"row\">Key people</th><td class=\"infobox-data\"><div class=\"plainlist\">\n",
              "<ul><li><a href=\"/wiki/Bret_Taylor\" title=\"Bret Taylor\">Bret Taylor </a></li>\n",
              "<li><a href=\"/wiki/Parag_Agrawal\" title=\"Parag Agrawal\">Parag Agrawal</a> (<a href=\"/wiki/Chief_executive_officer\" title=\"Chief executive officer\">CEO</a>)<sup class=\"reference\" id=\"cite_ref-1\"><a href=\"#cite_note-1\">[1]</a></sup></li>\n",
              "<li>Ned Segal (<a href=\"/wiki/Chief_financial_officer\" title=\"Chief financial officer\">CFO</a>)<sup class=\"reference\" id=\"cite_ref-2\"><a href=\"#cite_note-2\">[2]</a></sup></li></ul>\n",
              "</div></td></tr><tr><th class=\"infobox-label\" scope=\"row\">Industry</th><td class=\"infobox-data category\"><a href=\"/wiki/Internet\" title=\"Internet\">Internet</a></td></tr><tr><th class=\"infobox-label\" scope=\"row\"><a href=\"/wiki/Revenue\" title=\"Revenue\">Revenue</a></th><td class=\"infobox-data\"><span class=\"nowrap\"><img alt=\"Increase\" data-file-height=\"300\" data-file-width=\"300\" decoding=\"async\" height=\"11\" src=\"//upload.wikimedia.org/wikipedia/commons/thumb/b/b0/Increase2.svg/11px-Increase2.svg.png\" srcset=\"//upload.wikimedia.org/wikipedia/commons/thumb/b/b0/Increase2.svg/17px-Increase2.svg.png 1.5x, //upload.wikimedia.org/wikipedia/commons/thumb/b/b0/Increase2.svg/22px-Increase2.svg.png 2x\" title=\"Increase\" width=\"11\"/> <span style=\"white-space: nowrap\"><a href=\"/wiki/United_States_dollar\" title=\"United States dollar\">US$</a>5.08 billion</span> (2021)</span></td></tr><tr><th class=\"infobox-label\" scope=\"row\"><a href=\"/wiki/Earnings_before_interest_and_taxes\" title=\"Earnings before interest and taxes\">Operating income</a></th><td class=\"infobox-data\"><span class=\"nowrap\"><img alt=\"Increase\" data-file-height=\"300\" data-file-width=\"300\" decoding=\"async\" height=\"11\" src=\"//upload.wikimedia.org/wikipedia/commons/thumb/b/b0/Increase2.svg/11px-Increase2.svg.png\" srcset=\"//upload.wikimedia.org/wikipedia/commons/thumb/b/b0/Increase2.svg/17px-Increase2.svg.png 1.5x, //upload.wikimedia.org/wikipedia/commons/thumb/b/b0/Increase2.svg/22px-Increase2.svg.png 2x\" title=\"Increase\" width=\"11\"/> US$272.96 million (2021)</span></td></tr><tr><th class=\"infobox-label\" scope=\"row\"><a href=\"/wiki/Net_income\" title=\"Net income\">Net income</a></th><td class=\"infobox-data\"><span class=\"nowrap\"><img alt=\"Increase\" data-file-height=\"300\" data-file-width=\"300\" decoding=\"async\" height=\"11\" src=\"//upload.wikimedia.org/wikipedia/commons/thumb/b/b0/Increase2.svg/11px-Increase2.svg.png\" srcset=\"//upload.wikimedia.org/wikipedia/commons/thumb/b/b0/Increase2.svg/17px-Increase2.svg.png 1.5x, //upload.wikimedia.org/wikipedia/commons/thumb/b/b0/Increase2.svg/22px-Increase2.svg.png 2x\" title=\"Increase\" width=\"11\"/> US$<span style=\"color:red\">−221.41</span> million (2021)</span></td></tr><tr><th class=\"infobox-label\" scope=\"row\"><a href=\"/wiki/Asset\" title=\"Asset\">Total assets</a></th><td class=\"infobox-data\"><span class=\"nowrap\"><img alt=\"Increase\" data-file-height=\"300\" data-file-width=\"300\" decoding=\"async\" height=\"11\" src=\"//upload.wikimedia.org/wikipedia/commons/thumb/b/b0/Increase2.svg/11px-Increase2.svg.png\" srcset=\"//upload.wikimedia.org/wikipedia/commons/thumb/b/b0/Increase2.svg/17px-Increase2.svg.png 1.5x, //upload.wikimedia.org/wikipedia/commons/thumb/b/b0/Increase2.svg/22px-Increase2.svg.png 2x\" title=\"Increase\" width=\"11\"/> US$14.06 billion (2021)</span></td></tr><tr><th class=\"infobox-label\" scope=\"row\"><a href=\"/wiki/Equity_(finance)\" title=\"Equity (finance)\">Total equity</a></th><td class=\"infobox-data\"><span class=\"nowrap\"><img alt=\"Decrease\" data-file-height=\"300\" data-file-width=\"300\" decoding=\"async\" height=\"11\" src=\"//upload.wikimedia.org/wikipedia/commons/thumb/e/ed/Decrease2.svg/11px-Decrease2.svg.png\" srcset=\"//upload.wikimedia.org/wikipedia/commons/thumb/e/ed/Decrease2.svg/17px-Decrease2.svg.png 1.5x, //upload.wikimedia.org/wikipedia/commons/thumb/e/ed/Decrease2.svg/22px-Decrease2.svg.png 2x\" title=\"Decrease\" width=\"11\"/> US$7.31 billion (2021)</span></td></tr><tr><th class=\"infobox-label\" scope=\"row\">Employees</th><td class=\"infobox-data\"><span class=\"nowrap\">7,500+ (December 2021)</span></td></tr><tr><th class=\"infobox-label\" scope=\"row\"><a href=\"/wiki/Subsidiary\" title=\"Subsidiary\">Subsidiaries</a></th><td class=\"infobox-data\"><div class=\"plainlist nowrap\"><ul><li><a href=\"/wiki/Vine_(service)\" title=\"Vine (service)\">Vine</a> (discontinued)</li><li><a class=\"mw-redirect\" href=\"/wiki/Periscope_(app)\" title=\"Periscope (app)\">Periscope</a></li></ul></div></td></tr><tr><th class=\"infobox-label\" scope=\"row\">URL</th><td class=\"infobox-data url\"><span class=\"url\"><a class=\"external text\" href=\"https://twitter.com\" rel=\"nofollow\">twitter<wbr/>.com</a></span> <a href=\"https://www.wikidata.org/wiki/Q918#P856\" title=\"Edit this at Wikidata\"><img alt=\"Edit this at Wikidata\" class=\"noprint\" data-file-height=\"20\" data-file-width=\"20\" decoding=\"async\" height=\"10\" src=\"//upload.wikimedia.org/wikipedia/en/thumb/8/8a/OOjs_UI_icon_edit-ltr-progressive.svg/10px-OOjs_UI_icon_edit-ltr-progressive.svg.png\" srcset=\"//upload.wikimedia.org/wikipedia/en/thumb/8/8a/OOjs_UI_icon_edit-ltr-progressive.svg/15px-OOjs_UI_icon_edit-ltr-progressive.svg.png 1.5x, //upload.wikimedia.org/wikipedia/en/thumb/8/8a/OOjs_UI_icon_edit-ltr-progressive.svg/20px-OOjs_UI_icon_edit-ltr-progressive.svg.png 2x\" style=\"vertical-align: text-top\" width=\"10\"/></a></td></tr><tr><th class=\"infobox-label\" scope=\"row\">Registration</th><td class=\"infobox-data\">Required</td></tr><tr><th class=\"infobox-label\" scope=\"row\"><a href=\"/wiki/Registered_user\" title=\"Registered user\">Users</a></th><td class=\"infobox-data\">229 million monetizable <a class=\"mw-redirect\" href=\"/wiki/Daily_active_users\" title=\"Daily active users\">DAU</a> (Q1 2022)</td></tr><tr><th class=\"infobox-label\" scope=\"row\">Launched</th><td class=\"infobox-data\">July 15, 2006<span class=\"noprint\">; 15 years ago</span><span style=\"display:none\"> (<span class=\"bday dtstart published updated\">2006-07-15</span>)</span></td></tr><tr><th class=\"infobox-label\" scope=\"row\">Current status</th><td class=\"infobox-data category\">Active</td></tr><tr><th class=\"infobox-label\" scope=\"row\"><a href=\"/wiki/Computing_platform\" title=\"Computing platform\">Native client(s) on</a></th><td class=\"infobox-data\"><div class=\"hlist hlist-separated\"><ul><li><a href=\"/wiki/IOS\" title=\"IOS\">iOS</a></li><li><a href=\"/wiki/Android_(operating_system)\" title=\"Android (operating system)\">Android</a></li><li><a href=\"/wiki/Windows_Phone\" title=\"Windows Phone\">Windows Phone</a></li><li><a href=\"/wiki/Microsoft_Windows\" title=\"Microsoft Windows\">Microsoft Windows</a></li><li><a href=\"/wiki/MacOS\" title=\"MacOS\">macOS</a></li><li><a href=\"/wiki/Internet\" title=\"Internet\">web</a></li></ul></div></td></tr><tr><th class=\"infobox-label\" scope=\"row\">Written in</th><td class=\"infobox-data\"><div class=\"hlist hlist-separated\"><ul><li><a href=\"/wiki/Java_(programming_language)\" title=\"Java (programming language)\">Java</a></li><li><a href=\"/wiki/Ruby_(programming_language)\" title=\"Ruby (programming language)\">Ruby</a></li><li><a href=\"/wiki/Scala_(programming_language)\" title=\"Scala (programming language)\">Scala</a></li><li><a href=\"/wiki/JavaScript\" title=\"JavaScript\">JavaScript</a></li></ul></div></td></tr><tr><td class=\"infobox-below\" colspan=\"2\"><sup class=\"reference\" id=\"cite_ref-Dorsey2006_3-0\"><a href=\"#cite_note-Dorsey2006-3\">[3]</a></sup><sup class=\"reference\" id=\"cite_ref-10K_4-0\"><a href=\"#cite_note-10K-4\">[4]</a></sup><sup class=\"reference\" id=\"cite_ref-5\"><a href=\"#cite_note-5\">[5]</a></sup><sup class=\"reference\" id=\"cite_ref-Twitter_coding_6-0\"><a href=\"#cite_note-Twitter_coding-6\">[6]</a></sup><sup class=\"reference\" id=\"cite_ref-infoq-jvm_7-0\"><a href=\"#cite_note-infoq-jvm-7\">[7]</a></sup><sup class=\"reference\" id=\"cite_ref-launch_8-0\"><a href=\"#cite_note-launch-8\">[8]</a></sup><sup class=\"reference\" id=\"cite_ref-9\"><a href=\"#cite_note-9\">[9]</a></sup></td></tr></tbody></table>"
            ]
          },
          "metadata": {},
          "execution_count": 24
        }
      ]
    },
    {
      "cell_type": "code",
      "source": [
        "from bs4 import BeautifulSoup\n",
        "import urllib3\n",
        "site= \"http://en.wikipedia.org/wiki/Nestle\"\n",
        "hdr = {'User-Agent': 'Mozilla/5.0'}\n",
        "http = urllib3.PoolManager()\n",
        "req = http.request('GET', site)\n",
        "#page = urllib3.urlopen(req)\n",
        "soup = BeautifulSoup(req.data)\n",
        "table = soup.find('table', class_='infobox vcard')\n",
        "result = {}\n",
        "exceptional_row_count = 0\n",
        "for tr in table.find_all('tr'):\n",
        "    if tr.find('th'):\n",
        "        result[tr.find('th').text] = tr.find('td').text\n",
        "    else:\n",
        "        # the first row Logos fall here\n",
        "        exceptional_row_count += 1\n",
        "if exceptional_row_count > 1:\n",
        "    print('WARNING ExceptionalRow>1: ', table)\n",
        "print(result)"
      ],
      "metadata": {
        "colab": {
          "base_uri": "https://localhost:8080/"
        },
        "id": "9umi3DP00uVN",
        "outputId": "f0da58a1-1881-482e-d605-b32327506868"
      },
      "execution_count": 19,
      "outputs": [
        {
          "output_type": "stream",
          "name": "stderr",
          "text": [
            "/usr/local/lib/python3.7/dist-packages/urllib3/connectionpool.py:847: InsecureRequestWarning: Unverified HTTPS request is being made. Adding certificate verification is strongly advised. See: https://urllib3.readthedocs.io/en/latest/advanced-usage.html#ssl-warnings\n",
            "  InsecureRequestWarning)\n"
          ]
        },
        {
          "output_type": "stream",
          "name": "stdout",
          "text": [
            "WARNING ExceptionalRow>1:  <table class=\"infobox vcard\"><caption class=\"infobox-title fn org\" style=\"font-size: 125%;\">Nestlé S.A.</caption><tbody><tr><td class=\"infobox-image logo\" colspan=\"2\"><a class=\"image\" href=\"/wiki/File:Nestl%C3%A9.svg\"><img alt=\"Nestlé.svg\" data-file-height=\"86\" data-file-width=\"300\" decoding=\"async\" height=\"63\" src=\"//upload.wikimedia.org/wikipedia/en/thumb/d/d8/Nestl%C3%A9.svg/220px-Nestl%C3%A9.svg.png\" srcset=\"//upload.wikimedia.org/wikipedia/en/thumb/d/d8/Nestl%C3%A9.svg/330px-Nestl%C3%A9.svg.png 1.5x, //upload.wikimedia.org/wikipedia/en/thumb/d/d8/Nestl%C3%A9.svg/440px-Nestl%C3%A9.svg.png 2x\" width=\"220\"/></a></td></tr><tr><td class=\"infobox-image logo\" colspan=\"2\"><a class=\"image\" href=\"/wiki/File:NestleHQ.jpg\"><img alt=\"NestleHQ.jpg\" data-file-height=\"595\" data-file-width=\"800\" decoding=\"async\" height=\"186\" src=\"//upload.wikimedia.org/wikipedia/commons/thumb/3/3e/NestleHQ.jpg/250px-NestleHQ.jpg\" srcset=\"//upload.wikimedia.org/wikipedia/commons/thumb/3/3e/NestleHQ.jpg/375px-NestleHQ.jpg 1.5x, //upload.wikimedia.org/wikipedia/commons/thumb/3/3e/NestleHQ.jpg/500px-NestleHQ.jpg 2x\" width=\"250\"/></a><div class=\"infobox-caption\">Nestlé Headquarters in <a href=\"/wiki/Vevey\" title=\"Vevey\">Vevey</a>, <a href=\"/wiki/Vaud\" title=\"Vaud\">Vaud</a>, Switzerland</div></td></tr><tr><th class=\"infobox-label\" scope=\"row\" style=\"padding-right: 0.5em;\">Formerly</th><td class=\"infobox-data nickname\" style=\"line-height: 1.35em;\"><div class=\"mw-collapsible mw-collapsed\" style=\"text-align: center; font-size: 95%;\">\n",
            "<div style=\"line-height: 1.6em; font-weight: bold; font-size: 100%; text-align: left;\"><div>List</div></div>\n",
            "<ul class=\"mw-collapsible-content\" style=\"font-size: 105%; margin-top: 0; margin-bottom: 0; line-height: inherit; text-align: left; list-style: none none; margin-left: 0;\"><li style=\"line-height: inherit; margin: 0\">\n",
            "<ul><li>Anglo-Swiss Condensed Milk Company (1866–1867)</li>\n",
            "<li>Farine Lactée Henri Nestlé (1867–1905)</li>\n",
            "<li>Nestlé and Anglo-Swiss Condensed Milk Company (1905–1947)</li>\n",
            "<li>Nestlé Alimentana SA (1947–)</li></ul>\n",
            "</li></ul>\n",
            "</div></td></tr><tr><th class=\"infobox-label\" scope=\"row\" style=\"padding-right: 0.5em;\">Type</th><td class=\"infobox-data category\" style=\"line-height: 1.35em;\"><a href=\"/wiki/Public_company\" title=\"Public company\">Public</a></td></tr><tr><th class=\"infobox-label\" scope=\"row\" style=\"padding-right: 0.5em;\"><div style=\"display:inline-block; line-height:1.2em; padding:0.1em 0;\"><a href=\"/wiki/Ticker_symbol\" title=\"Ticker symbol\">Traded as</a></div></th><td class=\"infobox-data\" style=\"line-height: 1.35em;\"><a href=\"/wiki/SIX_Swiss_Exchange\" title=\"SIX Swiss Exchange\">SIX</a>: <a class=\"external text\" href=\"https://www.six-group.com/exchanges/shares/security_info_en.html?id=NESN\" rel=\"nofollow\">NESN</a></td></tr><tr><th class=\"infobox-label\" scope=\"row\" style=\"padding-right: 0.5em;\"><a href=\"/wiki/International_Securities_Identification_Number\" title=\"International Securities Identification Number\">ISIN</a></th><td class=\"infobox-data\" style=\"line-height: 1.35em;\"><span class=\"plainlinks nourlexpansion\"><a class=\"external text\" href=\"https://iw.toolforge.org/isin/?language=en&amp;isin=CH0038863350\">CH0038863350</a></span></td></tr><tr><th class=\"infobox-label\" scope=\"row\" style=\"padding-right: 0.5em;\">Industry</th><td class=\"infobox-data category\" style=\"line-height: 1.35em;\"><a href=\"/wiki/Food_processing\" title=\"Food processing\">Food processing</a></td></tr><tr><th class=\"infobox-label\" scope=\"row\" style=\"padding-right: 0.5em;\">Founded</th><td class=\"infobox-data\" style=\"line-height: 1.35em;\">1866<span class=\"noprint\">; 156 years ago</span><span style=\"display:none\"> (<span class=\"bday dtstart published updated\">1866</span>)</span></td></tr><tr><th class=\"infobox-label\" scope=\"row\" style=\"padding-right: 0.5em;\">Founder</th><td class=\"infobox-data agent\" style=\"line-height: 1.35em;\"><a href=\"/wiki/Henri_Nestl%C3%A9\" title=\"Henri Nestlé\">Henri Nestlé</a></td></tr><tr><th class=\"infobox-label\" scope=\"row\" style=\"padding-right: 0.5em;\">Headquarters</th><td class=\"infobox-data label\" style=\"line-height: 1.35em;\"><a href=\"/wiki/Vevey\" title=\"Vevey\">Vevey</a>, <a href=\"/wiki/Vaud\" title=\"Vaud\">Vaud</a>, <a href=\"/wiki/Switzerland\" title=\"Switzerland\">Switzerland</a></td></tr><tr><th class=\"infobox-label\" scope=\"row\" style=\"padding-right: 0.5em;\"><div style=\"display:inline-block; line-height:1.2em; padding:0.1em 0;\">Area served</div></th><td class=\"infobox-data\" style=\"line-height: 1.35em;\">Worldwide</td></tr><tr><th class=\"infobox-label\" scope=\"row\" style=\"padding-right: 0.5em;\"><div style=\"display:inline-block; line-height:1.2em; padding:0.1em 0;\">Key people</div></th><td class=\"infobox-data agent\" style=\"line-height: 1.35em;\"><a href=\"/wiki/Paul_Bulcke\" title=\"Paul Bulcke\">Paul Bulcke</a><sup class=\"reference\" id=\"cite_ref-Management_1-0\"><a href=\"#cite_note-Management-1\">[1]</a></sup><br/><span style=\"font-size:85%;\">(<a class=\"mw-redirect\" href=\"/wiki/Chairman\" title=\"Chairman\">Chairman</a>)</span><br/><a href=\"/wiki/Ulf_Mark_Schneider\" title=\"Ulf Mark Schneider\">Ulf Mark Schneider</a><sup class=\"reference\" id=\"cite_ref-Management_1-1\"><a href=\"#cite_note-Management-1\">[1]</a></sup><br/><span style=\"font-size:85%;\">(<a class=\"mw-redirect\" href=\"/wiki/CEO\" title=\"CEO\">CEO</a>)</span><br/>David McDaniel<sup class=\"reference\" id=\"cite_ref-2\"><a href=\"#cite_note-2\">[2]</a></sup><br/><span style=\"font-size:85%;\">(<a class=\"mw-redirect\" href=\"/wiki/CFO\" title=\"CFO\">CFO</a>)</span></td></tr><tr><th class=\"infobox-label\" scope=\"row\" style=\"padding-right: 0.5em;\">Products</th><td class=\"infobox-data\" style=\"line-height: 1.35em;\"><a href=\"/wiki/Baby_food\" title=\"Baby food\">Baby food</a>, <a href=\"/wiki/Coffee\" title=\"Coffee\">coffee</a>, <a class=\"mw-redirect\" href=\"/wiki/Dairy_products\" title=\"Dairy products\">dairy products</a>, <a class=\"mw-redirect\" href=\"/wiki/Breakfast_cereals\" title=\"Breakfast cereals\">breakfast cereals</a>, <a href=\"/wiki/Confectionery\" title=\"Confectionery\">confectionery</a>, <a href=\"/wiki/Bottled_water\" title=\"Bottled water\">bottled water</a>, <a href=\"/wiki/Ice_cream\" title=\"Ice cream\">ice cream</a>, <a class=\"mw-redirect\" href=\"/wiki/Pet_foods\" title=\"Pet foods\">pet foods</a> (<a href=\"/wiki/List_of_Nestl%C3%A9_brands\" title=\"List of Nestlé brands\">list...</a>)</td></tr><tr><th class=\"infobox-label\" scope=\"row\" style=\"padding-right: 0.5em;\">Revenue</th><td class=\"infobox-data\" style=\"line-height: 1.35em;\"><span class=\"nowrap\"><img alt=\"Increase\" data-file-height=\"300\" data-file-width=\"300\" decoding=\"async\" height=\"11\" src=\"//upload.wikimedia.org/wikipedia/commons/thumb/b/b0/Increase2.svg/11px-Increase2.svg.png\" srcset=\"//upload.wikimedia.org/wikipedia/commons/thumb/b/b0/Increase2.svg/17px-Increase2.svg.png 1.5x, //upload.wikimedia.org/wikipedia/commons/thumb/b/b0/Increase2.svg/22px-Increase2.svg.png 2x\" title=\"Increase\" width=\"11\"/> <a href=\"/wiki/Swiss_franc\" title=\"Swiss franc\">CHF</a> 87.10 billion (2021)</span><sup class=\"reference\" id=\"cite_ref-AR2021_3-0\"><a href=\"#cite_note-AR2021-3\">[3]</a></sup></td></tr><tr><th class=\"infobox-label\" scope=\"row\" style=\"padding-right: 0.5em;\"><div style=\"display:inline-block; line-height:1.2em; padding:0.1em 0;\"><a href=\"/wiki/Earnings_before_interest_and_taxes\" title=\"Earnings before interest and taxes\">Operating income</a></div></th><td class=\"infobox-data\" style=\"line-height: 1.35em;\"><span class=\"nowrap\"><img alt=\"Decrease\" data-file-height=\"300\" data-file-width=\"300\" decoding=\"async\" height=\"11\" src=\"//upload.wikimedia.org/wikipedia/commons/thumb/e/ed/Decrease2.svg/11px-Decrease2.svg.png\" srcset=\"//upload.wikimedia.org/wikipedia/commons/thumb/e/ed/Decrease2.svg/17px-Decrease2.svg.png 1.5x, //upload.wikimedia.org/wikipedia/commons/thumb/e/ed/Decrease2.svg/22px-Decrease2.svg.png 2x\" title=\"Decrease\" width=\"11\"/> CHF12.16 billion (2021)</span><sup class=\"reference\" id=\"cite_ref-AR2021_3-1\"><a href=\"#cite_note-AR2021-3\">[3]</a></sup></td></tr><tr><th class=\"infobox-label\" scope=\"row\" style=\"padding-right: 0.5em;\"><div style=\"display:inline-block; line-height:1.2em; padding:0.1em 0;\"><a href=\"/wiki/Net_income\" title=\"Net income\">Net income</a></div></th><td class=\"infobox-data\" style=\"line-height: 1.35em;\"><span class=\"nowrap\"><img alt=\"Increase\" data-file-height=\"300\" data-file-width=\"300\" decoding=\"async\" height=\"11\" src=\"//upload.wikimedia.org/wikipedia/commons/thumb/b/b0/Increase2.svg/11px-Increase2.svg.png\" srcset=\"//upload.wikimedia.org/wikipedia/commons/thumb/b/b0/Increase2.svg/17px-Increase2.svg.png 1.5x, //upload.wikimedia.org/wikipedia/commons/thumb/b/b0/Increase2.svg/22px-Increase2.svg.png 2x\" title=\"Increase\" width=\"11\"/> CHF17.20 billion (2021)</span><sup class=\"reference\" id=\"cite_ref-AR2021_3-2\"><a href=\"#cite_note-AR2021-3\">[3]</a></sup></td></tr><tr><th class=\"infobox-label\" scope=\"row\" style=\"padding-right: 0.5em;\"><span class=\"nowrap\"><a href=\"/wiki/Asset\" title=\"Asset\">Total assets</a></span></th><td class=\"infobox-data\" style=\"line-height: 1.35em;\"><span class=\"nowrap\"><img alt=\"Increase\" data-file-height=\"300\" data-file-width=\"300\" decoding=\"async\" height=\"11\" src=\"//upload.wikimedia.org/wikipedia/commons/thumb/b/b0/Increase2.svg/11px-Increase2.svg.png\" srcset=\"//upload.wikimedia.org/wikipedia/commons/thumb/b/b0/Increase2.svg/17px-Increase2.svg.png 1.5x, //upload.wikimedia.org/wikipedia/commons/thumb/b/b0/Increase2.svg/22px-Increase2.svg.png 2x\" title=\"Increase\" width=\"11\"/> CHF139.14 billion (2021)</span><sup class=\"reference\" id=\"cite_ref-AR2021_3-3\"><a href=\"#cite_note-AR2021-3\">[3]</a></sup></td></tr><tr><th class=\"infobox-label\" scope=\"row\" style=\"padding-right: 0.5em;\"><span class=\"nowrap\"><a href=\"/wiki/Equity_(finance)\" title=\"Equity (finance)\">Total equity</a></span></th><td class=\"infobox-data\" style=\"line-height: 1.35em;\"><span class=\"nowrap\"><img alt=\"Increase\" data-file-height=\"300\" data-file-width=\"300\" decoding=\"async\" height=\"11\" src=\"//upload.wikimedia.org/wikipedia/commons/thumb/b/b0/Increase2.svg/11px-Increase2.svg.png\" srcset=\"//upload.wikimedia.org/wikipedia/commons/thumb/b/b0/Increase2.svg/17px-Increase2.svg.png 1.5x, //upload.wikimedia.org/wikipedia/commons/thumb/b/b0/Increase2.svg/22px-Increase2.svg.png 2x\" title=\"Increase\" width=\"11\"/> CHF53.73 billion (2021)</span><sup class=\"reference\" id=\"cite_ref-AR2021_3-4\"><a href=\"#cite_note-AR2021-3\">[3]</a></sup></td></tr><tr><th class=\"infobox-label\" scope=\"row\" style=\"padding-right: 0.5em;\"><div style=\"display:inline-block; line-height:1.2em; padding:0.1em 0;\">Number of employees</div></th><td class=\"infobox-data\" style=\"line-height: 1.35em;\">276,000 (2021)<sup class=\"reference\" id=\"cite_ref-AR2021_3-5\"><a href=\"#cite_note-AR2021-3\">[3]</a></sup></td></tr><tr><th class=\"infobox-label\" scope=\"row\" style=\"padding-right: 0.5em;\"><a href=\"/wiki/Subsidiary\" title=\"Subsidiary\">Subsidiaries</a></th><td class=\"infobox-data\" style=\"line-height: 1.35em;\"><a href=\"/wiki/Cereal_Partners_Worldwide\" title=\"Cereal Partners Worldwide\">Cereal Partners Worldwide</a> (50%)</td></tr><tr><th class=\"infobox-label\" scope=\"row\" style=\"padding-right: 0.5em;\">Website</th><td class=\"infobox-data\" style=\"line-height: 1.35em;\"><span class=\"url\"><a class=\"external text\" href=\"http://www.nestle.com\" rel=\"nofollow\">www<wbr/>.nestle<wbr/>.com</a></span></td></tr></tbody></table>\n",
            "{'Formerly': '\\nList\\n\\nAnglo-Swiss Condensed Milk Company (1866–1867)\\nFarine Lactée Henri Nestlé (1867–1905)\\nNestlé and Anglo-Swiss Condensed Milk Company (1905–1947)\\nNestlé Alimentana SA (1947–)\\n\\n', 'Type': 'Public', 'Traded as': 'SIX:\\xa0NESN', 'ISIN': 'CH0038863350', 'Industry': 'Food processing', 'Founded': '1866; 156\\xa0years ago\\xa0(1866)', 'Founder': 'Henri Nestlé', 'Headquarters': 'Vevey, Vaud, Switzerland', 'Area served': 'Worldwide', 'Key people': 'Paul Bulcke[1](Chairman)Ulf Mark Schneider[1](CEO)David McDaniel[2](CFO)', 'Products': 'Baby food, coffee, dairy products, breakfast cereals, confectionery, bottled water, ice cream, pet foods (list...)', 'Revenue': ' CHF\\xa087.10 billion (2021)[3]', 'Operating income': ' CHF12.16 billion (2021)[3]', 'Net income': ' CHF17.20 billion (2021)[3]', 'Total assets': ' CHF139.14 billion (2021)[3]', 'Total equity': ' CHF53.73 billion (2021)[3]', 'Number of employees': '276,000 (2021)[3]', 'Subsidiaries': 'Cereal Partners Worldwide (50%)', 'Website': 'www.nestle.com'}\n"
          ]
        }
      ]
    },
    {
      "cell_type": "markdown",
      "source": [
        "# Pandas html way ***"
      ],
      "metadata": {
        "id": "BhUMTD4sKTpE"
      }
    },
    {
      "cell_type": "code",
      "source": [
        "from pandas.io.html import read_html\n",
        "page = 'https://en.wikipedia.org/wiki/CVS_Pharmacy'\n",
        "infoboxes = read_html(page, index_col=0, attrs={\"class\":\"infobox\"})\n",
        "#wikitables = read_html(page, index_col=0, attrs={\"class\":\"wikitable\"})\n",
        "\n",
        "print(\"Extracted {num} infoboxes\".format(num=len(infoboxes)))\n",
        "#print(\"Extracted {num} wikitables\".format(num=len(wikitables)))"
      ],
      "metadata": {
        "colab": {
          "base_uri": "https://localhost:8080/"
        },
        "id": "KZprvV-nGVmu",
        "outputId": "ffaf51f7-ea28-477e-9475-c23d902a0714"
      },
      "execution_count": 91,
      "outputs": [
        {
          "output_type": "stream",
          "name": "stdout",
          "text": [
            "Extracted 1 infoboxes\n"
          ]
        }
      ]
    },
    {
      "cell_type": "code",
      "source": [
        "wikitables[0]"
      ],
      "metadata": {
        "colab": {
          "base_uri": "https://localhost:8080/",
          "height": 206
        },
        "id": "qw3MB4LpJ3s9",
        "outputId": "57aedde5-0a8f-4fb2-f6f6-1187fe072adc"
      },
      "execution_count": 58,
      "outputs": [
        {
          "output_type": "execute_result",
          "data": {
            "text/plain": [
              "                  2011        2012        2013        2014        2015  \\\n",
              "Year                                                                     \n",
              "Revenue         83.642      92.186      92.158      91.612      88.785   \n",
              "Net income       9.487      10.611      10.015      14.456       9.066   \n",
              "Assets         114.091     126.229     120.442     133.450     123.992   \n",
              "Employees   328000.000  339000.000  333000.000  339000.000  335000.000   \n",
              "\n",
              "                  2016        2017        2018        2019        2020  \\\n",
              "Year                                                                     \n",
              "Revenue         89.469      89.791      91.439      92.568      84.343   \n",
              "Net income       8.531       7.183      10.135      12.609      12.232   \n",
              "Assets         131.901     130.380     137.015     127.940     124.028   \n",
              "Employees   328000.000  323000.000  308000.000  291000.000  273000.000   \n",
              "\n",
              "                  2021  \n",
              "Year                    \n",
              "Revenue         87.088  \n",
              "Net income      17.196  \n",
              "Assets         139.142  \n",
              "Employees   276000.000  "
            ],
            "text/html": [
              "\n",
              "  <div id=\"df-001a7188-96fd-4d94-989a-5e80b59b0e6c\">\n",
              "    <div class=\"colab-df-container\">\n",
              "      <div>\n",
              "<style scoped>\n",
              "    .dataframe tbody tr th:only-of-type {\n",
              "        vertical-align: middle;\n",
              "    }\n",
              "\n",
              "    .dataframe tbody tr th {\n",
              "        vertical-align: top;\n",
              "    }\n",
              "\n",
              "    .dataframe thead th {\n",
              "        text-align: right;\n",
              "    }\n",
              "</style>\n",
              "<table border=\"1\" class=\"dataframe\">\n",
              "  <thead>\n",
              "    <tr style=\"text-align: right;\">\n",
              "      <th></th>\n",
              "      <th>2011</th>\n",
              "      <th>2012</th>\n",
              "      <th>2013</th>\n",
              "      <th>2014</th>\n",
              "      <th>2015</th>\n",
              "      <th>2016</th>\n",
              "      <th>2017</th>\n",
              "      <th>2018</th>\n",
              "      <th>2019</th>\n",
              "      <th>2020</th>\n",
              "      <th>2021</th>\n",
              "    </tr>\n",
              "    <tr>\n",
              "      <th>Year</th>\n",
              "      <th></th>\n",
              "      <th></th>\n",
              "      <th></th>\n",
              "      <th></th>\n",
              "      <th></th>\n",
              "      <th></th>\n",
              "      <th></th>\n",
              "      <th></th>\n",
              "      <th></th>\n",
              "      <th></th>\n",
              "      <th></th>\n",
              "    </tr>\n",
              "  </thead>\n",
              "  <tbody>\n",
              "    <tr>\n",
              "      <th>Revenue</th>\n",
              "      <td>83.642</td>\n",
              "      <td>92.186</td>\n",
              "      <td>92.158</td>\n",
              "      <td>91.612</td>\n",
              "      <td>88.785</td>\n",
              "      <td>89.469</td>\n",
              "      <td>89.791</td>\n",
              "      <td>91.439</td>\n",
              "      <td>92.568</td>\n",
              "      <td>84.343</td>\n",
              "      <td>87.088</td>\n",
              "    </tr>\n",
              "    <tr>\n",
              "      <th>Net income</th>\n",
              "      <td>9.487</td>\n",
              "      <td>10.611</td>\n",
              "      <td>10.015</td>\n",
              "      <td>14.456</td>\n",
              "      <td>9.066</td>\n",
              "      <td>8.531</td>\n",
              "      <td>7.183</td>\n",
              "      <td>10.135</td>\n",
              "      <td>12.609</td>\n",
              "      <td>12.232</td>\n",
              "      <td>17.196</td>\n",
              "    </tr>\n",
              "    <tr>\n",
              "      <th>Assets</th>\n",
              "      <td>114.091</td>\n",
              "      <td>126.229</td>\n",
              "      <td>120.442</td>\n",
              "      <td>133.450</td>\n",
              "      <td>123.992</td>\n",
              "      <td>131.901</td>\n",
              "      <td>130.380</td>\n",
              "      <td>137.015</td>\n",
              "      <td>127.940</td>\n",
              "      <td>124.028</td>\n",
              "      <td>139.142</td>\n",
              "    </tr>\n",
              "    <tr>\n",
              "      <th>Employees</th>\n",
              "      <td>328000.000</td>\n",
              "      <td>339000.000</td>\n",
              "      <td>333000.000</td>\n",
              "      <td>339000.000</td>\n",
              "      <td>335000.000</td>\n",
              "      <td>328000.000</td>\n",
              "      <td>323000.000</td>\n",
              "      <td>308000.000</td>\n",
              "      <td>291000.000</td>\n",
              "      <td>273000.000</td>\n",
              "      <td>276000.000</td>\n",
              "    </tr>\n",
              "  </tbody>\n",
              "</table>\n",
              "</div>\n",
              "      <button class=\"colab-df-convert\" onclick=\"convertToInteractive('df-001a7188-96fd-4d94-989a-5e80b59b0e6c')\"\n",
              "              title=\"Convert this dataframe to an interactive table.\"\n",
              "              style=\"display:none;\">\n",
              "        \n",
              "  <svg xmlns=\"http://www.w3.org/2000/svg\" height=\"24px\"viewBox=\"0 0 24 24\"\n",
              "       width=\"24px\">\n",
              "    <path d=\"M0 0h24v24H0V0z\" fill=\"none\"/>\n",
              "    <path d=\"M18.56 5.44l.94 2.06.94-2.06 2.06-.94-2.06-.94-.94-2.06-.94 2.06-2.06.94zm-11 1L8.5 8.5l.94-2.06 2.06-.94-2.06-.94L8.5 2.5l-.94 2.06-2.06.94zm10 10l.94 2.06.94-2.06 2.06-.94-2.06-.94-.94-2.06-.94 2.06-2.06.94z\"/><path d=\"M17.41 7.96l-1.37-1.37c-.4-.4-.92-.59-1.43-.59-.52 0-1.04.2-1.43.59L10.3 9.45l-7.72 7.72c-.78.78-.78 2.05 0 2.83L4 21.41c.39.39.9.59 1.41.59.51 0 1.02-.2 1.41-.59l7.78-7.78 2.81-2.81c.8-.78.8-2.07 0-2.86zM5.41 20L4 18.59l7.72-7.72 1.47 1.35L5.41 20z\"/>\n",
              "  </svg>\n",
              "      </button>\n",
              "      \n",
              "  <style>\n",
              "    .colab-df-container {\n",
              "      display:flex;\n",
              "      flex-wrap:wrap;\n",
              "      gap: 12px;\n",
              "    }\n",
              "\n",
              "    .colab-df-convert {\n",
              "      background-color: #E8F0FE;\n",
              "      border: none;\n",
              "      border-radius: 50%;\n",
              "      cursor: pointer;\n",
              "      display: none;\n",
              "      fill: #1967D2;\n",
              "      height: 32px;\n",
              "      padding: 0 0 0 0;\n",
              "      width: 32px;\n",
              "    }\n",
              "\n",
              "    .colab-df-convert:hover {\n",
              "      background-color: #E2EBFA;\n",
              "      box-shadow: 0px 1px 2px rgba(60, 64, 67, 0.3), 0px 1px 3px 1px rgba(60, 64, 67, 0.15);\n",
              "      fill: #174EA6;\n",
              "    }\n",
              "\n",
              "    [theme=dark] .colab-df-convert {\n",
              "      background-color: #3B4455;\n",
              "      fill: #D2E3FC;\n",
              "    }\n",
              "\n",
              "    [theme=dark] .colab-df-convert:hover {\n",
              "      background-color: #434B5C;\n",
              "      box-shadow: 0px 1px 3px 1px rgba(0, 0, 0, 0.15);\n",
              "      filter: drop-shadow(0px 1px 2px rgba(0, 0, 0, 0.3));\n",
              "      fill: #FFFFFF;\n",
              "    }\n",
              "  </style>\n",
              "\n",
              "      <script>\n",
              "        const buttonEl =\n",
              "          document.querySelector('#df-001a7188-96fd-4d94-989a-5e80b59b0e6c button.colab-df-convert');\n",
              "        buttonEl.style.display =\n",
              "          google.colab.kernel.accessAllowed ? 'block' : 'none';\n",
              "\n",
              "        async function convertToInteractive(key) {\n",
              "          const element = document.querySelector('#df-001a7188-96fd-4d94-989a-5e80b59b0e6c');\n",
              "          const dataTable =\n",
              "            await google.colab.kernel.invokeFunction('convertToInteractive',\n",
              "                                                     [key], {});\n",
              "          if (!dataTable) return;\n",
              "\n",
              "          const docLinkHtml = 'Like what you see? Visit the ' +\n",
              "            '<a target=\"_blank\" href=https://colab.research.google.com/notebooks/data_table.ipynb>data table notebook</a>'\n",
              "            + ' to learn more about interactive tables.';\n",
              "          element.innerHTML = '';\n",
              "          dataTable['output_type'] = 'display_data';\n",
              "          await google.colab.output.renderOutput(dataTable, element);\n",
              "          const docLink = document.createElement('div');\n",
              "          docLink.innerHTML = docLinkHtml;\n",
              "          element.appendChild(docLink);\n",
              "        }\n",
              "      </script>\n",
              "    </div>\n",
              "  </div>\n",
              "  "
            ]
          },
          "metadata": {},
          "execution_count": 58
        }
      ]
    },
    {
      "cell_type": "code",
      "source": [
        "infobox_df = infoboxes[0]\n",
        "infobox_df"
      ],
      "metadata": {
        "colab": {
          "base_uri": "https://localhost:8080/",
          "height": 614
        },
        "id": "dNc_uB4pJCBt",
        "outputId": "0d332dd3-86d0-4e08-aa14-84c017888e7a"
      },
      "execution_count": 92,
      "outputs": [
        {
          "output_type": "execute_result",
          "data": {
            "text/plain": [
              "                                                                           1\n",
              "0                                                                           \n",
              "NaN                                                                      NaN\n",
              "Formerly                                     Consumer Value Stores (1963–69)\n",
              "Type                                                              Subsidiary\n",
              "Industry                                                              Retail\n",
              "Founded                    May 8, 1963; 58 years agoLowell, Massachusetts...\n",
              "Founders                   Stanley GoldsteinSidney GoldsteinRalph Hoaglan...\n",
              "Headquarters                     1 CVS Drive, Woonsocket, Rhode Island, U.S.\n",
              "Number of locations                                          9,967[1] (2018)\n",
              "Area served                                                    United States\n",
              "Key people                       David Dorman (Chairman)Karen S. Lynch (CEO)\n",
              "Revenue                    US$134.128 billion (2018)US$130.601 billion (2...\n",
              "Operating income           US$4.699 billion (2018)US$4.657 billion (2017)...\n",
              "Net income                                          US$6.0 billion[3] (2017)\n",
              "Owner                      Melville Corporation (1963–1996)CVS Health (19...\n",
              "Number of employees                                        203,000[4] (2017)\n",
              "Website                                                              cvs.com\n",
              "Footnotes / references[5]                          Footnotes / references[5]"
            ],
            "text/html": [
              "\n",
              "  <div id=\"df-343510ca-0810-4ef1-8404-bdb7c94f57f1\">\n",
              "    <div class=\"colab-df-container\">\n",
              "      <div>\n",
              "<style scoped>\n",
              "    .dataframe tbody tr th:only-of-type {\n",
              "        vertical-align: middle;\n",
              "    }\n",
              "\n",
              "    .dataframe tbody tr th {\n",
              "        vertical-align: top;\n",
              "    }\n",
              "\n",
              "    .dataframe thead th {\n",
              "        text-align: right;\n",
              "    }\n",
              "</style>\n",
              "<table border=\"1\" class=\"dataframe\">\n",
              "  <thead>\n",
              "    <tr style=\"text-align: right;\">\n",
              "      <th></th>\n",
              "      <th>1</th>\n",
              "    </tr>\n",
              "    <tr>\n",
              "      <th>0</th>\n",
              "      <th></th>\n",
              "    </tr>\n",
              "  </thead>\n",
              "  <tbody>\n",
              "    <tr>\n",
              "      <th>NaN</th>\n",
              "      <td>NaN</td>\n",
              "    </tr>\n",
              "    <tr>\n",
              "      <th>Formerly</th>\n",
              "      <td>Consumer Value Stores (1963–69)</td>\n",
              "    </tr>\n",
              "    <tr>\n",
              "      <th>Type</th>\n",
              "      <td>Subsidiary</td>\n",
              "    </tr>\n",
              "    <tr>\n",
              "      <th>Industry</th>\n",
              "      <td>Retail</td>\n",
              "    </tr>\n",
              "    <tr>\n",
              "      <th>Founded</th>\n",
              "      <td>May 8, 1963; 58 years agoLowell, Massachusetts...</td>\n",
              "    </tr>\n",
              "    <tr>\n",
              "      <th>Founders</th>\n",
              "      <td>Stanley GoldsteinSidney GoldsteinRalph Hoaglan...</td>\n",
              "    </tr>\n",
              "    <tr>\n",
              "      <th>Headquarters</th>\n",
              "      <td>1 CVS Drive, Woonsocket, Rhode Island, U.S.</td>\n",
              "    </tr>\n",
              "    <tr>\n",
              "      <th>Number of locations</th>\n",
              "      <td>9,967[1] (2018)</td>\n",
              "    </tr>\n",
              "    <tr>\n",
              "      <th>Area served</th>\n",
              "      <td>United States</td>\n",
              "    </tr>\n",
              "    <tr>\n",
              "      <th>Key people</th>\n",
              "      <td>David Dorman (Chairman)Karen S. Lynch (CEO)</td>\n",
              "    </tr>\n",
              "    <tr>\n",
              "      <th>Revenue</th>\n",
              "      <td>US$134.128 billion (2018)US$130.601 billion (2...</td>\n",
              "    </tr>\n",
              "    <tr>\n",
              "      <th>Operating income</th>\n",
              "      <td>US$4.699 billion (2018)US$4.657 billion (2017)...</td>\n",
              "    </tr>\n",
              "    <tr>\n",
              "      <th>Net income</th>\n",
              "      <td>US$6.0 billion[3] (2017)</td>\n",
              "    </tr>\n",
              "    <tr>\n",
              "      <th>Owner</th>\n",
              "      <td>Melville Corporation (1963–1996)CVS Health (19...</td>\n",
              "    </tr>\n",
              "    <tr>\n",
              "      <th>Number of employees</th>\n",
              "      <td>203,000[4] (2017)</td>\n",
              "    </tr>\n",
              "    <tr>\n",
              "      <th>Website</th>\n",
              "      <td>cvs.com</td>\n",
              "    </tr>\n",
              "    <tr>\n",
              "      <th>Footnotes / references[5]</th>\n",
              "      <td>Footnotes / references[5]</td>\n",
              "    </tr>\n",
              "  </tbody>\n",
              "</table>\n",
              "</div>\n",
              "      <button class=\"colab-df-convert\" onclick=\"convertToInteractive('df-343510ca-0810-4ef1-8404-bdb7c94f57f1')\"\n",
              "              title=\"Convert this dataframe to an interactive table.\"\n",
              "              style=\"display:none;\">\n",
              "        \n",
              "  <svg xmlns=\"http://www.w3.org/2000/svg\" height=\"24px\"viewBox=\"0 0 24 24\"\n",
              "       width=\"24px\">\n",
              "    <path d=\"M0 0h24v24H0V0z\" fill=\"none\"/>\n",
              "    <path d=\"M18.56 5.44l.94 2.06.94-2.06 2.06-.94-2.06-.94-.94-2.06-.94 2.06-2.06.94zm-11 1L8.5 8.5l.94-2.06 2.06-.94-2.06-.94L8.5 2.5l-.94 2.06-2.06.94zm10 10l.94 2.06.94-2.06 2.06-.94-2.06-.94-.94-2.06-.94 2.06-2.06.94z\"/><path d=\"M17.41 7.96l-1.37-1.37c-.4-.4-.92-.59-1.43-.59-.52 0-1.04.2-1.43.59L10.3 9.45l-7.72 7.72c-.78.78-.78 2.05 0 2.83L4 21.41c.39.39.9.59 1.41.59.51 0 1.02-.2 1.41-.59l7.78-7.78 2.81-2.81c.8-.78.8-2.07 0-2.86zM5.41 20L4 18.59l7.72-7.72 1.47 1.35L5.41 20z\"/>\n",
              "  </svg>\n",
              "      </button>\n",
              "      \n",
              "  <style>\n",
              "    .colab-df-container {\n",
              "      display:flex;\n",
              "      flex-wrap:wrap;\n",
              "      gap: 12px;\n",
              "    }\n",
              "\n",
              "    .colab-df-convert {\n",
              "      background-color: #E8F0FE;\n",
              "      border: none;\n",
              "      border-radius: 50%;\n",
              "      cursor: pointer;\n",
              "      display: none;\n",
              "      fill: #1967D2;\n",
              "      height: 32px;\n",
              "      padding: 0 0 0 0;\n",
              "      width: 32px;\n",
              "    }\n",
              "\n",
              "    .colab-df-convert:hover {\n",
              "      background-color: #E2EBFA;\n",
              "      box-shadow: 0px 1px 2px rgba(60, 64, 67, 0.3), 0px 1px 3px 1px rgba(60, 64, 67, 0.15);\n",
              "      fill: #174EA6;\n",
              "    }\n",
              "\n",
              "    [theme=dark] .colab-df-convert {\n",
              "      background-color: #3B4455;\n",
              "      fill: #D2E3FC;\n",
              "    }\n",
              "\n",
              "    [theme=dark] .colab-df-convert:hover {\n",
              "      background-color: #434B5C;\n",
              "      box-shadow: 0px 1px 3px 1px rgba(0, 0, 0, 0.15);\n",
              "      filter: drop-shadow(0px 1px 2px rgba(0, 0, 0, 0.3));\n",
              "      fill: #FFFFFF;\n",
              "    }\n",
              "  </style>\n",
              "\n",
              "      <script>\n",
              "        const buttonEl =\n",
              "          document.querySelector('#df-343510ca-0810-4ef1-8404-bdb7c94f57f1 button.colab-df-convert');\n",
              "        buttonEl.style.display =\n",
              "          google.colab.kernel.accessAllowed ? 'block' : 'none';\n",
              "\n",
              "        async function convertToInteractive(key) {\n",
              "          const element = document.querySelector('#df-343510ca-0810-4ef1-8404-bdb7c94f57f1');\n",
              "          const dataTable =\n",
              "            await google.colab.kernel.invokeFunction('convertToInteractive',\n",
              "                                                     [key], {});\n",
              "          if (!dataTable) return;\n",
              "\n",
              "          const docLinkHtml = 'Like what you see? Visit the ' +\n",
              "            '<a target=\"_blank\" href=https://colab.research.google.com/notebooks/data_table.ipynb>data table notebook</a>'\n",
              "            + ' to learn more about interactive tables.';\n",
              "          element.innerHTML = '';\n",
              "          dataTable['output_type'] = 'display_data';\n",
              "          await google.colab.output.renderOutput(dataTable, element);\n",
              "          const docLink = document.createElement('div');\n",
              "          docLink.innerHTML = docLinkHtml;\n",
              "          element.appendChild(docLink);\n",
              "        }\n",
              "      </script>\n",
              "    </div>\n",
              "  </div>\n",
              "  "
            ]
          },
          "metadata": {},
          "execution_count": 92
        }
      ]
    },
    {
      "cell_type": "code",
      "source": [
        "founded = infobox_df.loc[\"Founded\"]\n",
        "industry = infobox_df.loc[\"Industry\"]\n",
        "num_employees = infobox_df.loc[\"Number of employees\"]"
      ],
      "metadata": {
        "id": "zwMSu5_4JiR9"
      },
      "execution_count": 63,
      "outputs": []
    },
    {
      "cell_type": "code",
      "source": [
        "founded"
      ],
      "metadata": {
        "colab": {
          "base_uri": "https://localhost:8080/"
        },
        "id": "0ISV1MBQLKKa",
        "outputId": "8836b8f5-7572-4ff4-a25b-c8cf05c7d0bd"
      },
      "execution_count": 65,
      "outputs": [
        {
          "output_type": "execute_result",
          "data": {
            "text/plain": [
              "1    1866; 156 years ago\n",
              "Name: Founded, dtype: object"
            ]
          },
          "metadata": {},
          "execution_count": 65
        }
      ]
    },
    {
      "cell_type": "code",
      "source": [
        "industry"
      ],
      "metadata": {
        "colab": {
          "base_uri": "https://localhost:8080/"
        },
        "id": "ByEfKL5_M10P",
        "outputId": "f1937608-54ed-4296-d724-c44c3bf884c3"
      },
      "execution_count": 66,
      "outputs": [
        {
          "output_type": "execute_result",
          "data": {
            "text/plain": [
              "1    Food processing\n",
              "Name: Industry, dtype: object"
            ]
          },
          "metadata": {},
          "execution_count": 66
        }
      ]
    },
    {
      "cell_type": "code",
      "source": [
        "num_employees"
      ],
      "metadata": {
        "colab": {
          "base_uri": "https://localhost:8080/"
        },
        "id": "zxzlS2OZNIEM",
        "outputId": "2db56e6e-d383-44d5-d98e-a8c390ff41a0"
      },
      "execution_count": 67,
      "outputs": [
        {
          "output_type": "execute_result",
          "data": {
            "text/plain": [
              "1    276,000 (2021)[3]\n",
              "Name: Number of employees, dtype: object"
            ]
          },
          "metadata": {},
          "execution_count": 67
        }
      ]
    },
    {
      "cell_type": "code",
      "source": [
        "# find year founded\n",
        "def get_founded(page):\n",
        "    try:\n",
        "        # get infoboxes\n",
        "        infoboxes = read_html(page, index_col=0, attrs={\"class\": \"infobox\"})\n",
        "        infobox_df = infoboxes[0]\n",
        "        founded = infobox_df.loc[\"Founded\"]\n",
        "        return founded.to_string()\n",
        "    except:\n",
        "        return None"
      ],
      "metadata": {
        "id": "GXRpgLS3NJZ0"
      },
      "execution_count": 68,
      "outputs": []
    },
    {
      "cell_type": "code",
      "source": [
        "founded = get_founded('https://en.wikipedia.org/wiki/Verizon_Communications')\n",
        "founded"
      ],
      "metadata": {
        "colab": {
          "base_uri": "https://localhost:8080/"
        },
        "id": "5xBjmihDXK2g",
        "outputId": "5cc28b1a-5224-4e3c-ea0f-d277f9fe33de"
      },
      "execution_count": 89,
      "outputs": [
        {
          "output_type": "execute_result",
          "data": {
            "text/plain": [
              "1    October 7, 1983; 38 years ago\n",
              "Name: Founded, dtype: object"
            ]
          },
          "metadata": {},
          "execution_count": 89
        }
      ]
    },
    {
      "cell_type": "code",
      "source": [
        "founded.to_string()"
      ],
      "metadata": {
        "colab": {
          "base_uri": "https://localhost:8080/",
          "height": 35
        },
        "id": "j0vvTNCeXSwX",
        "outputId": "b2c20fc0-9372-4d38-d51f-c229f98e3f8d"
      },
      "execution_count": 88,
      "outputs": [
        {
          "output_type": "execute_result",
          "data": {
            "text/plain": [
              "'1    October\\xa07, 1983; 38 years ago'"
            ],
            "application/vnd.google.colaboratory.intrinsic+json": {
              "type": "string"
            }
          },
          "metadata": {},
          "execution_count": 88
        }
      ]
    },
    {
      "cell_type": "code",
      "source": [
        ""
      ],
      "metadata": {
        "id": "z0-E235YXmdv"
      },
      "execution_count": null,
      "outputs": []
    },
    {
      "cell_type": "markdown",
      "source": [
        "# wikipedia"
      ],
      "metadata": {
        "id": "aAaEsnceyuP2"
      }
    },
    {
      "cell_type": "code",
      "source": [
        "import wikipedia"
      ],
      "metadata": {
        "id": "wa3JNb10yvxo"
      },
      "execution_count": 2,
      "outputs": []
    },
    {
      "cell_type": "code",
      "source": [
        "p = wikipedia.page('Nestle')\n",
        "p.content"
      ],
      "metadata": {
        "colab": {
          "base_uri": "https://localhost:8080/",
          "height": 105
        },
        "id": "z4zQkT2azGDQ",
        "outputId": "bf67660b-0e8a-4e6a-c95c-cdbc212b9374"
      },
      "execution_count": 9,
      "outputs": [
        {
          "output_type": "execute_result",
          "data": {
            "text/plain": [
              "'Nestlé S.A. (; French: [nɛsle]) is a Swiss multinational food and drink processing conglomerate corporation headquartered in Vevey, Vaud, Switzerland. It is the largest publicly held food company in the world, measured by revenue and other metrics, since 2014. It ranked No. 64 on the Fortune Global 500 in 2017 and No. 33 in the 2016 edition of the Forbes Global 2000 list of largest public companies.Nestlé\\'s products include baby food (some including human milk oligosaccharides), medical food, bottled water, breakfast cereals, coffee and tea, confectionery, dairy products, ice cream, frozen food, pet foods, and snacks. Twenty-nine of Nestlé\\'s brands have annual sales of over 1 billion CHF (about US$1.1 billion), including Nespresso, Nescafé, Kit Kat, Smarties, Nesquik, Stouffer\\'s, Vittel, and Maggi. Nestlé has 447 factories, operates in 189 countries, and employs around 339,000 people. It is one of the main shareholders of L\\'Oreal, the world\\'s largest cosmetics company.Nestlé was formed in 1905 by the merger of the \"Anglo-Swiss Milk Company\", established in 1866 by brothers George and Charles Page, and \"Farine Lactée Henri Nestlé\", founded in 1867 by Henri Nestlé. The company grew significantly during the First World War and again following the Second World War, expanding its offerings beyond its early condensed milk and infant formula products. The company has made a number of corporate acquisitions, including Crosse & Blackwell in 1950, Findus in 1963, Libby\\'s in 1971, Rowntree Mackintosh in 1988, Klim in 1998, and Gerber in 2007.\\nThe company has been associated with various controversies, facing criticism and boycotts over its marketing of baby formula as an alternative to breastfeeding in developing countries (where clean water may be scarce), its reliance on child labour in cocoa production, and its production and promotion of bottled water.\\n\\n\\n== History ==\\n\\n\\n=== 1866–1900: Founding and early years ===\\n\\nNestlé\\'s origin dates back to the 1860s, when two separate Swiss enterprises were founded that would later form Nestlé. In the following decades, the two competing enterprises expanded their businesses throughout Europe and the United States.\\n\\n\\n==== Timeline ====\\n1866, Charles Page (US consul to Switzerland) and George Page, brothers from Lee County, Illinois, US, established the Anglo-Swiss Condensed Milk Company in Cham, Switzerland. The company\\'s first British operation was opened at Chippenham, Wiltshire, in 1873.\\n1867 in Vevey, Switzerland, Henri Nestlé developed milk-based baby food and soon began marketing it. The following year, Daniel Peter began seven years of work perfecting the milk chocolate manufacturing process. Nestlé had the solution Peter needed to fix his problem of removing all the water from the milk added to his chocolate, thus preventing the product from developing mildew.\\n1875, Henri Nestlé retired; the company, under new ownership, retained his name as Société Farine Lactée Henri Nestlé.\\n1877, Anglo-Swiss added milk-based baby foods to its products; in the following year, the Nestlé Company added condensed milk to its portfolio, which made the firms direct rivals.\\n1879, Nestlé merged with milk chocolate inventor Daniel Peter.\\n\\n\\n=== 1901–1989: Mergers ===\\nIn 1904, François-Louis Cailler, Charles Amédée Kohler, Daniel Peter, and Henri Nestlé participated in the creation and development of Swiss chocolate, marketing the first chocolate – milk Nestlé.In 1905, the companies merged to become the Nestlé and Anglo-Swiss Condensed Milk Company, retaining that name until 1947 when the name \\'Nestlé Alimentana SA\\' was taken as a result of the acquisition of Fabrique de Produits Maggi SA (founded 1884) and its holding company, Alimentana SA, of Kempttal, Switzerland. The company\\'s current name was adopted in 1977. By the early 1900s, the company was operating factories in the United States, the United Kingdom, Germany, and Spain. The First World War created demand for dairy products in the form of government contracts, and, by the end of the war, Nestlé\\'s production had more than doubled.\\n\\nIn January 1919, Nestlé bought two condensed milk plants in Oregon from the company Geibisch and Joplin for $250,000. One was in Bandon, while the other was in Milwaukie. They expanded them considerably, processing 250,000 pounds of condensed milk daily in the Bandon plant.\\n\\nAfter the World War I, government contracts dried up, and consumers switched back to fresh milk. However, Nestlé\\'s management responded quickly, streamlining operations and reducing debt. The 1920s saw Nestlé\\'s first expansion into new products, with chocolate-manufacture becoming the company\\'s second most important activity. Louis Dapples was CEO till 1937 when succeeded by Édouard Muller till his death in 1948.\\nNestlé felt the effects of the Second World War immediately. Profits dropped from US$20 million in 1938 to US$6 million in 1939. Factories were established in developing countries, particularly in South America. Ironically, the war helped with the introduction of the company\\'s newest product, Nescafé (\"Nestlé\\'s Coffee\"), which became a staple drink of the US military. Nestlé\\'s production and sales rose in the wartime economy.\\n\\nThe end of World War II was the beginning of a dynamic phase for Nestlé. Growth accelerated and numerous companies were acquired. In 1947 Nestlé merged with Maggi, a manufacturer of seasonings and soups. Crosse & Blackwell followed in 1950, as did Findus (1963), Libby\\'s (1971), and Stouffer\\'s (1973). Diversification came under Chairman & CEO Pierre Liotard-Vogt with a shareholding in L\\'Oreal in 1974 and the acquisition of Alcon Laboratories Inc. in 1977 for $280 million.In the 1980s, Nestlé\\'s improved bottom line allowed the company to launch further acquisitions. Carnation was acquired for US$3 billion in 1984 and brought the evaporated milk brand, as well as Coffee-Mate and Friskies to Nestlé. In 1986, the company founded Nestlé Nespresso S.A. The British confectionery company Rowntree Mackintosh was acquired in 1988 for $4.5 billion, which brought brands such as Kit Kat, Rolo, Smarties, and Aero.\\n\\n\\n=== 1990–2011: Growth internationally ===\\nThe first half of the 1990s proved to be favourable for Nestlé. Trade barriers crumbled, and world markets developed into more or less integrated trading areas. Since 1996, there have been various acquisitions, including San Pellegrino (1997), D\\'Onofrio (1997), Spillers Petfoods (1998), and Ralston Purina (2002). There were two major acquisitions in North America, both in 2002 – in June, Nestlé merged its US ice cream business into Dreyer\\'s, and in August, a US$2.6 billion acquisition was announced of Chef America, the creator of Hot Pockets. In the same time-frame, Nestlé entered in a joint bid with Cadbury and came close to purchasing the American company Hershey\\'s, one of its fiercest confectionery competitors, but the deal eventually fell through.In December 2005, Nestlé bought the Greek company Delta Ice Cream for €240 million. In January 2006, it took full ownership of Dreyer\\'s, thus becoming the world\\'s largest ice cream maker, with a 17.5% market share. In July 2007, completing a deal announced the year before, Nestlé acquired the Medical Nutrition division of Novartis Pharmaceutical for US$2.5 billionand also acquiring the milk-flavoring product known as Ovaltine, the \"Boost\" and \"Resource\" lines of nutritional supplements, and Optifast dieting products.\\n\\nIn April 2007, returning to its roots, Nestlé bought US baby-food manufacturer Gerber for US$5.5 billion. In December 2007, Nestlé entered into a strategic partnership with a Belgian chocolate maker, Pierre Marcolini.Nestlé agreed to sell its controlling stake in Alcon to Novartis on 4 January 2010. The sale was to form part of a broader US$39.3 billion offer by Novartis for full acquisition of the world\\'s largest eye-care company. On 1 March 2010, Nestlé concluded the purchase of Kraft Foods\\'s North American frozen pizza business for US$3.7 billion.\\nSince 2010, Nestlé has been working to transform itself into a nutrition, health and wellness company in an effort to combat declining confectionery sales and the threat of expanding government regulation of such foods. This effort is being led through the Nestlé Institute of Health Sciences under the direction of Ed Baetge. The institute aims to develop \"a new industry between food and pharmaceuticals\" by creating foodstuffs with preventive and corrective health properties that would replace pharmaceutical drugs from pill bottles. The Health Science branch has already produced several products, such as drinks and protein shakes meant to combat malnutrition, diabetes, digestive health, obesity, and other diseases.In July 2011, Nestlé SA agreed to buy 60 percent of Hsu Fu Chi International Ltd. for about US$1.7 billion. On 23 April 2012, Nestlé agreed to acquire Pfizer Inc.\\'s infant-nutrition, formerly Wyeth Nutrition, unit for US$11.9 billion, topping a joint bid from Danone and Mead Johnson.\\n\\n\\n=== 2012–present: Recent developments ===\\nIn recent years, Nestlé Health Science has made several acquisitions. It acquired Vitaflo, which makes clinical nutritional products for people with genetic disorders; CM&D Pharma Ltd., a company that specialises in the development of products for patients with chronic conditions like kidney disease; and Prometheus Laboratories, a firm specialising in treatments for gastrointestinal diseases and cancer. It also holds a minority stake in Vital Foods, a New Zealand-based company that develops kiwifruit-based solutions for gastrointestinal conditions as of 2012.Another recent purchase included the Jenny Craig weight-loss program, for US$600 million. Nestlé sold the Jenny Craig business unit to North Castle Partners in 2013. In February 2013, Nestlé Health Science bought Pamlab, which makes medical foods based on L-methylfolate targeting depression, diabetes, and memory loss. In February 2014, Nestlé sold its PowerBar sports nutrition business to Post Holdings, Inc. Later, in November 2014, Nestlé announced that it was exploring strategic options for its frozen food subsidiary, Davigel.In December 2014, Nestlé announced that it was opening 10 skin care research centres worldwide, deepening its investment in a faster-growing market for healthcare products. That year, Nestlé spent about $350 million on dermatology research and development. The first of the research hubs, Nestlé Skin Health Investigation, Education and Longevity Development (SHIELD) centres, will open mid 2015 in New York, followed by Hong Kong and São Paulo, and later others in North America, Asia, and Europe. The initiative is being launched in partnership with the Global Coalition on Aging (GCOA), a consortium that includes companies such as Intel and Bank of America.In January 2017, Nestlé announced that it was relocating its US headquarters from Glendale, California, to Rosslyn, Virginia, outside of Washington, DC.In March 2017, Nestlé announced that they will lower the sugar content in Kit Kat, Yorkie and Aero chocolate bars by 10% by 2018. In July, a similar announcement followed concerning the reduction of sugar content in its breakfast cereals in the UK.The company announced a $20.8 billion share buyback in June 2017, following the publication of a letter written by Third Point Management founder Daniel S. Loeb, Nestlé\\'s fourth-largest stakeholder with a $3.5 billion stake, explaining how the firm should change its business structure. Consequently, the firm will reportedly focus investment on sectors such as coffee and pet care and will seek acquisitions in the consumer health-care industry.In July 2017, Nestlé introduced a new type of infant formula in Spain, containing two human milk oligosaccharides. Oligosaccharides are the third most abundant components of breast milk with various health benefits, but previously were not part of infant formula.\\nIn September 2017, Nestlé S.A. acquired a majority stake of Blue Bottle Coffee. While the deal\\'s financial details were not disclosed, the Financial Times reported \"Nestlé is understood to be paying up to $500m for the 68 per cent stake in Blue Bottle\". Blue Bottle expects to increase sales by 70% this year.In September 2017, Nestlé USA agreed to acquire Sweet Earth, a California-based producer of plant-based foods, for an undisclosed sum.In January 2018, Nestlé USA announced it is selling its US confectionary business to Ferrara Candy Company, an Italian chocolate and candy maker. The company was sold for a total of an estimated $2.8 billion.In May 2018, it was announced that Nestlé and Starbucks struck a $7.15 billion distribution deal, which allows Nestlé to market, sell and distribute Starbucks coffee globally and to incorporate the brand\\'s coffee varieties into Nestlé\\'s proprietary single-serve system, expanding the overseas markets for both companies.Nestlé set a new profit target in September 2017 and agreed to offload over 20 of its US candy brands in January 2018. However, sales grew only 2.4% in 2017, and as of July 2018, the share price declined more than 8%. While some suggestions were adopted, Loeb said in a July 2018 letter that the shifts are too small and too slow. In a statement, Nestlé wrote that it was \"delivering results\" and listed actions it had taken, including investing in key brands and its global coffee partnership with Starbucks. However, activist investors disagreed, leading Third Point Management to launch NestleNOW, a website to push its case with recommendations calling for change, accusing Nestlé of not being as fast, aggressive, or strategic as it needs to be. Activist investors called for Nestlé to divide into three units with distinct CEOs, regional structures, and marketing heads - beverage, nutrition, and grocery; spin off more businesses that do not fit its model such as ice cream, frozen foods, and confectionery; and add an outsider with expertise in the food and beverage industry to the board.In September 2018, Nestlé announced that it would sell Gerber Life Insurance for $1.55 billion.In October 2018, Nestlé announced the launch of the Nestlé Alumni Network, through a strategic partnership with SAP & EnterpriseAlumni, to engage with their over 1 million alumni globally.In 2019, the company announced that it would publish Nutri-Score on all of its products sold in the European countries that supported the nutritional label.In 2020, Nestlé wants to invest in plant-based food, starting with a \"tuna salad\" and meat-free products to engage and reach younger and vegan consumers.On 16 February 2021, Nestlé announced that it had agreed to sell its water brands in the US and Canada to One Rock Capital Partners and Metropoulos & Co. The sale, expected to conclude in spring, would include the spring water and mountain brands, the purified water brand and the delivery service. The plan did not include the Perrier, S.Pellegrino and Acqua Panna brands. In early April 2021, the sale was concluded.The COVID-19 pandemic did not affect Nestlé negatively. Due to lockdowns, people bought more packaged foods, not only coffee and dairy products, but also pet products, which increased the company\\'s sales. Nestlé is recording its strongest quarterly sales growth in 10 years.In April 2021, Nestlé agreed to purchase the vitamin manufacturing Bountiful Company, formerly known as The Nature\\'s Bounty Co., for $5.75 billion, noting as well that much of the company\\'s growth that quarter came from \"vitamins, minerals, and supplements that support health and the immune system\". The deal acquires various assets from Bountiful, including Nature\\'s Bounty, Solgar, Osteo Bi-Flex, and Puritan\\'s Pride.In January 2022, Nestlé will pay cocoa farmers cash if they send their children to school.\\n\\n\\n== Corporate affairs and governance ==\\n\\nNestlé is the biggest food company in the world, with a market capitalisation of roughly 231 billion Swiss francs, which is more than US$247 billion as of May 2015. Nestlé has a primary listing on the SIX Swiss Exchange and is a constituent of the Swiss Market Index. It has a secondary listing on Euronext.\\nIn 2014, consolidated sales were CHF 91.61 billion and net profit was CHF 14.46 billion. Research and development investment was CHF 1.63 billion.\\nSales per category in CHF20.3 billion powdered and liquid beverages\\n16.7 billion milk products and ice cream\\n13.5 billion prepared dishes and cooking aids\\n13.1 billion nutrition and health science\\n11.3 billion pet care\\n9.6 billion confectionery\\n6.9 billion water\\nPercentage of sales by geographic area breakdown43% from Americas\\n28% from Europe\\n29% from Asia, Oceania and AfricaAccording to a 2015 global survey of online consumers by the Reputation Institute, Nestlé has a reputation score of 74.5 on a scale of 1–100.\\n\\n\\n=== Financial data ===\\n\\n\\n=== Joint ventures ===\\nJoint ventures include:\\n\\nCereal Partners Worldwide with General Mills (50%/50%)\\nBeverage Partners Worldwide with The Coca-Cola Company (50%/50%), closed in 2018.\\nFroneri with PAI Partners (50%/50%)\\nLactalis Nestlé Produits Frais with Lactalis (40%/60%)\\nNestlé Colgate-Palmolive with Colgate-Palmolive (50%/50%)\\nNestlé Indofood Citarasa Indonesia with Indofood (50%/50%)\\nNestlé Snow with Snow Brand Milk Products (50%/50%)\\nNestlé Modelo with Grupo Modelo\\nDairy Partners America Brasil with Fonterra (51%/49%)\\n\\n\\n=== Board of Directors ===\\nAs of 2017, the board is composed of:\\nPaul Bulcke, chairman and former CEO of Nestlé\\nAndreas Koopmann, former CEO of Bobst\\nBeat Hess, former legal director/general counsel for ABB Group and Royal Dutch Shell\\nRenato Fassbind, former CEO of DKSH and former CFO of Credit Suisse\\nSteven George Hoch, founder of Highmount Capital\\nNaina Lal Kidwai, former CEO of HSBC Bank India, country head for HSBC in India\\nJean-Pierre Roth, former chairman of the Swiss National Bank\\nAnn Veneman, former United States Secretary of Agriculture and director of UNICEF\\nHenri de Castries, former CEO and chairman of AXA\\nEva Cheng, former executive vice president of China and Southeast Asia for Amway\\nRuth Khasaya Oniang’o, former member of the Parliament of Kenya, current professor at Friedman School of Nutrition Science and Policy\\nPatrick Aebischer, former president of École Polytechnique Fédérale de Lausanne\\n\\n\\n=== Lobbying ===\\nThe company engages third party lobbying firms to engage with parliaments and governments in various jurisdictions. For example, in South Australia the company engages Etched Communications. In the US, Nestlé has a strong influence in Washington, D.C. From 2015-2020 their average spend on lobbying was $1,951,667 each year.\\n\\n\\n== Products ==\\n\\nNestlé currently has over 2,000 brands with a wide range of products across a number of markets, including coffee, bottled water, milkshakes and other beverages, breakfast cereals, infant foods, performance and healthcare nutrition, seasonings, soups and sauces, frozen and refrigerated foods, and pet food. In 2019, the company entered the plant-based food production business with its Incredible and Awesome Burgers (under the Garden Gourmet and Sweet Earth brands). In 2020, Nestlé announced additional plant-based products including soy-based bratwurst and chorizo-like sausages.\\n\\n\\n=== Food safety ===\\n\\n\\n==== Milk products and baby food ====\\n\\nIn late September 2008, the Hong Kong government found melamine in a Chinese-made Nestlé milk product. Six infants died from kidney damage, and a further 860 babies were hospitalised. The Dairy Farm milk was made by Nestlé\\'s division in the Chinese coastal city Qingdao. Nestlé affirmed that all its products were safe and were not made from milk adulterated with melamine. On 2 October 2008, the Taiwan Health ministry announced that six types of milk powders produced in China by Nestlé contained low-level traces of melamine, and were \"removed from the shelves\".As of 2013, Nestlé has implemented initiatives to prevent contamination and utilizes what it calls a \"factory and farmers\" model that eliminates the middleman. Farmers bring milk directly to a network of Nestlé-owned collection centers, where a computerized system samples, tests, and tags each batch of milk. To reduce further the risk of contamination at the source, the company provides farmers with continuous training and assistance in cow selection, feed quality, storage, and other areas. In 2014, the company opened the Nestlé Food Safety Institute (NFSI) in Beijing that will help meet China\\'s growing demand for healthy and safe food, one of the top three concerns among Chinese consumers. The NFSI announced it would work closely with authorities to help provide a scientific foundation for food-safety policies and standards, with support to include early management of food-safety issues and collaboration with local universities, research institutes and government agencies on food-safety.In an incident in 2015, weevils and fungus were found in Cerelac baby food.\\n\\n\\n==== Cookie dough ====\\nIn June 2009, an outbreak of E. coli O157:H7 was linked to Nestlé\\'s refrigerated cookie dough originating in a plant in Danville, Virginia. In the US, it caused sickness in more than 50 people in 30 states, half of whom required hospitalisation. Following the outbreak, Nestlé voluntarily recalled 30,000 cases of the cookie dough. The cause was determined to be contaminated flour obtained from a raw material supplier. When operations resumed, the flour used was heat-treated to kill bacteria.\\n\\n\\n==== Maggi noodles ====\\nIn May 2015, Food Safety Regulators from the state of Uttar Pradesh, India, found that samples of Nestlé India\\'s Maggi noodles had up to 17 times more than the permissible safe amount of lead, in addition to monosodium glutamate. Due to this, on 3 June 2015, the New Delhi Government banned the sale of Maggi in New Delhi stores for 15 days. Some of India\\'s biggest retailers, such as Future Group, Big Bazaar, Easyday, and Nilgiris, had imposed a nationwide ban on Maggi as of 3 June 2015. On the same day, Nestlé India\\'s shares fell 11% due to the incident. On 4 June 2015, the Gujarat FD banned the sale of the noodles for 30 days after 27 out of 39 samples were detected with objectionable levels of metallic lead, among other things. Nestlé\\'s share fell by 3% on that day over concerns related to its safety standards. On 5 June 2015, Food Safety and Standards Authority of India (FSSAI) orders banned all nine approved variants of Maggi instant noodles from India, deeming them \"unsafe and hazardous\" for human consumption, and Nepal indefinitely banned Maggi over concerns about lead levels in the product. Also on 5 June, the Food Standards Agency of the United Kingdom launched an investigation to test levels of lead in Maggi. Maggi noodles have been withdrawn in five African nations – Kenya, Uganda, Tanzania, Rwanda, and South Sudan – by a supermarket chain after a complaint by the Consumer Federation of Kenya, as a reaction to the ban in India.As of August 2015, India\\'s government made public that it was seeking damages of nearly $100 million from Nestlé India for \"unfair trade practices\" following the June ban on Maggi noodles. The 6.4 billion rupee (approximately US$93 million) suit was filed with the National Consumer Disputes Redressal Commission (NCDRC), regarded as the country\\'s top consumer court, but was settled on 13 August 2015. The court ruled that the government ban on the Nestlé product was both \"arbitrary\" and had violated the \"principles of natural justice.\" Although Nestlé was not ordered to pay the fine sought in the government\\'s suit, the court ruled that the Maggi noodle producers must \"send five samples from each batch of Maggi [noodles] for testing to three labs and only if the lead is found to be lower than permitted will they start manufacturing and sale again.\" Although the tests have yet to take place, Nestlé has already destroyed 400 million packets of Maggi products.In India, Maggi products were returned to the shelves in November 2015, accompanied by a Nestlé advertising campaign to win back consumer trust, featuring items such as the Maggi anthem by Vir Das and Alien Chutney. Nestlé resumed production of Maggi at all five plants in India on 30 November 2015.In the Philippines, localised versions of Maggi instant noodles were sold until 2011 when the product group was recalled for suspected salmonella contamination. The product did not return to market, while Nestle continues to sell seasoning products including the popular Maggi Magic Sarap.\\n\\n\\n== Sponsorships ==\\n\\n\\n=== Music and Entertainment ===\\nIn 1993, plans were made to update and modernise the overall tone of Walt Disney\\'s EPCOT Center, including a major refurbishment of The Land pavilion. Kraft Foods withdrew its sponsorship on 26 September 1993, with Nestlé taking its place. Co-financed by Nestlé and the Walt Disney World Resort, a gradual refurbishment of the pavilion began on 27 September 1993. In 2003, Nestlé renewed its sponsorship of The Land; however, it was under agreement that Nestlé would oversee its own refurbishment to both the interior and exterior of the pavilion. Between 2004 and 2005, the pavilion underwent its second major refurbishment. Nestlé stopped sponsoring The Land in 2009.On 5 August 2010, Nestlé and the Beijing Music Festival signed an agreement to extend by three years Nestlé\\'s sponsorship of this international music festival. Nestlé has been an extended sponsor of the Beijing Music Festival for 11 years since 2000. The new agreement will continue the partnership through 2013.Nestlé has partnered the Salzburg Festival in Austria for 20 years. In 2011, Nestlé renewed its sponsorship of the Salzburg Festival until 2015.Together, they have created the \"Nestlé and Salzburg Festival Young Conductors Award\", an initiative that aims to discover young conductors globally and to contribute to the development of their careers.\\n\\n\\n=== Sports ===\\nNestlé\\'s sponsorship of the Tour de France began in 2001 and the agreement was extended in 2004, a move which demonstrated the company\\'s interest in the Tour. In July 2009, Nestlé Waters and the organisers of the Tour de France announced that their partnership will continue until 2013. The main promotional benefits of this partnership will spread on four key brands from Nestlé\\'s product portfolio: Vittel, Powerbar, Nesquik, or Ricore.On 27 January 2012, the International Association of Athletics Federations announced that Nestlé will be the main sponsor for the further development of IAAF\\'s Kids\\' Athletics Programme, which is one of the biggest grassroots development programmes in the world of sports. The five-year sponsorship started in January 2012. On 11 February 2016, Nestlé decided to withdraw its sponsorship of the IAAF\\'s Kids\\' Athletics Programmes because of doping and corruption allegations against the IAAF. Nestlé followed suit after other large sponsors, including Adidas, also stopped supporting the IAAF.In 2014, Nestlé Waters sponsored the UK leg of the Tour de France through its Buxton Natural Mineral Water brand.\\nIn 2002, Nestlé announced it was main sponsor for the Great Britain Lionesses Women\\'s rugby league team for the team\\'s second tour of Australia with its Munchies product.Nestlé supports the Australian Institute of Sport (AIS) on a number of nutrition and fitness fronts, funding a Fellowship position in AIS Sports Nutrition; nutrition activities in the AIS Dining Hall; research activities; and the development of education resources for use at the AIS and in the public domain.\\n\\n\\n== Controversy and criticisms ==\\n\\n\\n=== Baby formula marketing ===\\n\\nConcern about Nestlé\\'s \"aggressive marketing\" of their breast milk substitutes, particularly in less economically developed countries (LEDCs), first arose in the 1970s. Critics have accused Nestlé of discouraging mothers from breastfeeding and suggesting that their baby formula is healthier than breastfeeding, despite there being no evidence for this. This led to a boycott which was launched in 1977 in the United States and subsequently spread into Europe. The boycott was officially suspended in the US in 1984, after Nestlé agreed to follow an international marketing code endorsed by the World Health Organization (WHO), but was relaunched in 1989. As of 2011, the company is included in the FTSE4Good Index designed to help enable ethical investment.However, the company allegedly repeated these same marketing practices in developing countries like Pakistan in the 1990s. A Pakistani salesman named Syed Aamir Raza Hussain became a whistle-blower against his former employer Nestlé. In 1999, two years after he left Nestlé, Hussain released a report in association with the non-profit organisation, Baby Milk Action, in which he alleged that Nestlé was encouraging doctors to push its infant formula products over breastfeeding. Nestlé has denied Raza\\'s allegations. This story inspired the 2014 acclaimed Indian movie Tigers by the Oscar award-winning Bosnian director Danis Tanović.\\nIn May 2011, nineteen Laos-based international NGOs, including Save the Children, Oxfam, CARE International, Plan International, and World Vision launched a boycott of Nestlé with an open letter. Among other unethical practices, they criticised a failure to translate labelling and health information into local languages and accused the company of giving incentives to doctors and nurses to promote the use of infant formula. Nestlé denied the claims and responded by commissioning an audit, carried out by Bureau Veritas, which concluded that \"the requirements of the WHO Code and Lao PDR Decree are well embedded throughout the business\" but that they were violated by promotional materials \"in 4% of the retail outlets visited\".Ernest W. Lefever and the Ethics and Public Policy Center were criticized for accepting a $25,000 contribution from Nestlé while the organization was in the process of developing a report investigating medical care in developing nations which was never published. It was alleged that this contribution affected the release of the report and led to the author of the report submitting an article to Fortune magazine praising the company\\'s position.Nestlé has been under investigation in China since 2011 over allegations that the company bribed hospital staff to obtain the medical records of patients and push its infant formula to increase sales. This was found to be in violation of a 1995 Chinese regulation that aims to secure the impartiality of medical staff by banning hospitals and academic institutions from promoting instant formula to families. As a consequence, six Nestlé employers were given prison sentences between one and six years.\\n\\n\\n=== Slavery and child labour ===\\n\\nMultiple reports have documented the widespread use of child labour in cocoa production, as well as slavery and child trafficking, throughout West African plantations, on which Nestlé and other major chocolate companies rely. According to the 2010 documentary, The Dark Side of Chocolate, the children working are typically 12 to 15 years old. The Fair Labor Association has criticised Nestlé for not carrying out proper checks.In 2005, after the cocoa industry had not met the Harkin–Engel Protocol deadline for certifying that the worst forms of child labour (according to the International Labour Organization\\'s Convention 182) had been eliminated from cocoa production, the International Labor Rights Fund filed a lawsuit in 2005 under the Alien Tort Claims Act against Nestlé and others on behalf of three Malian children. The suit alleged the children were trafficked to Ivory Coast, forced into slavery, and experienced frequent beatings on a cocoa plantation. In September 2010, the U.S. District Court for the Central District of California determined corporations cannot be held liable for violations of international law and dismissed the suit. The case was appealed to the U.S. Court of Appeals. The Ninth Circuit Court of Appeals reversed the decision. In 2016, the U.S. Supreme Court declined to hear Nestlé\\'s appeal of the Ninth Circuit\\'s decision.A 2016 study published in Fortune magazine concluded that approximately 2.1 million children in several West African countries \"still do the dangerous and physically taxing work of harvesting cocoa\", noting that \"the average farmer in Ghana in the 2013–14 growing season made just 84¢ per day, and farmers in Ivory Coast a mere 50¢ [...] well below the World Bank\\'s new $1.90 per day standard for extreme poverty\". On efforts to reduce the issue, former secretary general of the Alliance of Cocoa Producing Countries, Sona Ebai, commented \"Best-case scenario, we\\'re only doing 10% of what\\'s needed.\"In 2019, Nestlé announced that they could not guarantee that their chocolate products were free from child slave labour, as they could trace only 49% of their purchasing back to the farm level. The Washington Post noted that the commitment taken in 2001 to eradicate such practices within four years had not been kept, neither at the due deadline of 2005, nor within the revised deadlines of 2008 and 2010, and that the result was not likely to be achieved for 2020 either.In 2021, Nestlé was named in a class action lawsuit filed by eight former child slaves from Mali who alleged that the company aided and abetted their enslavement on cocoa plantations in Ivory Coast. The suit accused Nestlé (along with Barry Callebaut, Cargill, Mars, Incorporated, Olam International, The Hershey Company, and Mondelez International) of knowingly engaging in forced labor, and the plaintiffs sought damages for unjust enrichment, negligent supervision, and intentional infliction of emotional distress.\\n\\n\\n=== Anti-union activities in Colombia ===\\nNestlé has been involved in extensive union-busting activity in Colombia since it first arrived there. According to a spokesman for Sinaltrainal, the Colombian Foodworkers Union: \"Nestlé converts the factories into camps for the public security forces in order to create terror in the community, destroy the unity of the workers, and misinform the members of the union, with the goal of pitting them against the leaders and destroying the movement.\"\\n\\n\\n=== Water ===\\n\\n\\n==== Status of potable water ====\\nAt the second World Water Forum in 2000, Nestlé and other corporations persuaded the World Water Council to change its statement so as to reduce access to drinking water from a \"right\" to a \"need\". Nestlé continues to take control of aquifers and bottle their water for profit. Peter Brabeck-Letmathe, chairman of Nestlé, later changed his statement, saying in a 2013 interview, \"I am the first one to say water is a human right.\" In that same interview, he claimed that it was the \"primary responsibility of every government\" to provide 30 litres of water a day to citizens.\\n\\n\\n==== Plastic bottles ====\\nA coalition of environmental groups filed a complaint against Nestlé to the Advertising Standards of Canada after Nestlé took out full-page advertisements in October 2008 with messages claiming, \"Most water bottles avoid landfill sites and are recycled\", \"Nestlé Pure Life is a healthy, eco-friendly choice\", and, \"Bottled water is the most environmentally responsible consumer product in the world.\" A spokesperson from one of the environmental groups stated: \"For Nestlé to claim that its bottled water product is environmentally superior to any other consumer product in the world is not supportable.\" In their 2008 Corporate Citizenship Report, Nestlé themselves stated that many of their bottles end up in the solid-waste stream, and that most of their bottles are not recycled. The advertising campaign has been called greenwashing. Nestlé defended its ads, saying that they will show they have been truthful in their campaign.\\n\\n\\n==== Water bottling operations in California, Oregon and Michigan ====\\nConsiderable controversy has surrounded Nestlé\\'s bottled water brand, Arrowhead, sourced from wells alongside a spring in Millard Canyon situated in a Native American Reservation at the base of the San Bernardino Mountains in California. While corporate officials and representatives of the governing Morongo tribe have asserted that the company, which started its operations in 2000, is providing meaningful jobs in the area and that the spring is sustaining current surface water flows, a number of local citizen groups and environmental action committees have started to question the amount of water drawn in the light of the ongoing drought, and the restrictions that have been placed on residential water use. Additionally, recent evidence suggests that representatives of the Forest Service failed to follow through on a review process for Nestlé\\'s permit to draw water from the San Bernardino wells, which expired in 1988. In San Bernardino Nestlé pays the US Forest Service $524 yearly to pump and bottle about 30 million gallons, even during droughts. Peter Gleick, a co-founder of the Pacific Institute, which researches freshwater issues, remarked \"Every gallon of water that is taken out of a natural system for bottled water is a gallon of water that doesn\\'t flow down a stream, that doesn\\'t support a natural ecosystem.\" He also said, \"Our public agencies have dropped the ball\".The former forest supervisor Gene Zimmerman has explained that the review process was rigorous, and that the Forest Service \"didn\\'t have the money or the budget or the staff\" to follow through on the review of Nestlé\\'s long-expired permit. However, Zimmerman\\'s observations and action have come under scrutiny for a number of reasons. Firstly, along with the natural resource manager for Nestlé, Larry Lawrence, Zimmerman is a board member for and played a vital role in the founding of the nonprofit Southern California Mountains Foundation, of which Nestlé is the most noteworthy and longtime donor. Secondly, the Zimmerman Community Partnership Award – an award inspired by Zimmerman\\'s actions and efforts \"to create a public/private partnership for resource development and community engagement\" – was presented by the foundation to Nestlé\\'s Arrowhead Water division in 2013. Finally, while Zimmerman retired from his former role in 2005, he currently works as a paid consultant for Nestlé, leading many investigative journalists to question Zimmerman\\'s allegiances prior to his retirement from the Forest Service.In April 2015, the city of Cascade Locks, Oregon, and the Oregon Department of Fish and Wildlife, which is using water for a salmon hatchery, applied with the Oregon Water Resources Department to permanently trade their water rights to Nestlé; an action which does not require a public-interest review. Nestlé approached them in 2008 and they had been considering to trade their well water with Oregon\\'s Oxbow Springs water, a publicly owned water source in the Columbia River Gorge National Scenic Area, and to sell the spring water at over 100 million gallons of water per year to Nestlé. The plan has been criticized by legislators and 80,000 citizens. The 250,000-square-foot, $50 million Nestlé bottling plant in Cascade Locks with an unemployment rate of 18.8 percent would have 50 employees and would increase property-tax collections by 67 percent. In May 2016, voters of Hood River County voted 69 percent to 31 percent for the ballot measure to ban large bottling operations in the area, but in Cascade Locks, the one precinct in Hood River County, voters decided against the ballot measure, 58 percent to 42 percent. As a result, the Cascade Locks city council voted 5-to-1 to keep up the fight. Soon after, Governor Kate Brown directed state officials to stop an exchange of water rights that was crucial to the deal, citing fiscal rather than environmental reasons. Nestlé then acknowledged that the exchange \"will not be going forward\", marking a definite end to the planned bottling operation.Although a 2005 court settlement gave Nestlé the right to pump 250 gallons per minute (GPM) from a well in unincorporated Osceola Township, Osceola County, Michigan, Nestlé has tried to increase that rate to 400 GPM. Its bottled water is sold under the Ice Mountain Spring label. The local planning commission denied the application to build a booster station to increase the capacity of the pipeline that delivers water to a water truck depot some distance from the town. Local citizens mounted considerable grassroots opposition to the plan, with 55 opponents testifying against the proposal at a meeting attended by almost 500 people in July 2017. The litigation has been costly to the small town, which receives its only compensation from a $200 annual pumping fee. Regarding the 1976 Michigan Safe Drinking Water Act, section 17, a measure precipitated by Nestlé\\'s previous demands, Bill Cobbs, a current Democratic gubernatorial candidate said, \"This is wrong -- when this act was written in 1976 it was never intentioned that water would be up for sale.\" The \"David vs. Goliath\" situation is drawing increasing national attention. Nestlé approaches water purely as a commodity. In 1994 Helmut Maucher, Nestlé\\'s CEO commented, \"Springs are like petroleum. You can always build a chocolate factory. But springs you have or you don\\'t have.\" His successor, Peter Brabeck-Letmathe, was criticized when, in a 2005 documentary, he similarly promoted and rationalized the commodification of water, saying: \"One perspective held by various NGOs—which I would call extreme—is that water should be declared a human right.\"In April 2021, and after many water rights complaints and online petitions against Nestlé, California\\'s Water Resources Control Board told the company that it has to stop unauthorized natural spring water diversions in the San Bernardino Forest.\\n\\n\\n=== Chocolate price fixing ===\\nIn Canada, the Competition Bureau raided the offices of Nestlé Canada (along with those of Hershey Canada and Mars Canada) in 2007 to investigate the matter of price fixing of chocolates. It is alleged that executives with Nestlé (the maker of KitKat, Coffee Crisp, and Big Turk) colluded with competitors in Canada to inflate prices.The Bureau alleged that competitors\\' executives met in restaurants, coffee shops, and at conventions, and that Nestlé Canada CEO, Robert Leonidas, once handed a competitor an envelope containing his company\\'s pricing information, saying: \"I want you to hear it from the top – I take my pricing seriously.\"Nestlé and the other companies were subject to class-action lawsuits for price fixing after the raids were made public in 2007. Nestlé settled for $9 million, without admitting liability, subject to court approval in the new year. A massive class-action lawsuit continues in the United States.\\n\\n\\n=== Ethiopian debt repayment ===\\nIn 2002, Nestlé demanded that the nation of Ethiopia repay US$6 million of debt to the company at a time when Ethiopia was suffering a severe famine. Nestlé backed down from its demand after more than 8,500 people complained via e-mail to the company about its treatment of the Ethiopian government. The company agreed to re-invest any money it received from Ethiopia back into the country. In 2003, Nestlé agreed to accept an offer of US$1.5 million, and donated the money to three active charities in Ethiopia: the Red Cross, Caritas, and UNHCR.\\n\\n\\n=== Russian-Ukrainian conflict ===\\n\\nIn August 2015, the Ukrainian TV channel Ukrayina refused to hire a worker of the weekly magazine Krayina, Alla Zheliznyak, as a host of a cooking show because she speaks Ukrainian. The demand to only hire a Russian-speaking host was allegedly set by a sponsor of the show – Nesquik, which is a brand of Nestlé S.A. Activists of the Vidsich civil movement held a rally near the office of the company in Kyiv, accusing Nestlé of discriminating against people who speak Ukrainian and supporting the Russification of Ukraine. They also criticised goods sold in Ukraine being manufactured in Russia and threatened a boycott.\\nFollowing the 2022 Russian invasion of Ukraine which began on February 24, many international, particularly Western companies pulled out of Russia. Unlike most of its Western competitors, Nestlé was slow to announce any disinvestments or scaling back of its operations in Russia, drawing criticism.  \\nNestlé employs 7000 workers in Russia and stated they intend to protect them. Ukraine president Volodymyr Zelensky pleaded for a stop of business activities that help finance the Ukraine invasion. Nestle suspended shipment of non-essential items but continued to produce essential food items in Russia. The company said that \"our activities in Russia will focus on providing essential food, such as infant food and medical/hospital nutrition\".\\n\\n\\n=== Forced labour in Thai fishing industry ===\\nAt the conclusion of a year-long self-imposed investigation in November 2015, Nestlé disclosed that seafood products sourced in Thailand were produced with forced labour. Nestlé is not a major purchaser of seafood in Southeast Asia, but does some business in Thailand – primarily for its Purina cat food. The study found virtually all US and European companies buying seafood from Thailand are exposed to the same risks of abuse in their supply chains. This type of disclosure was a surprise to many in the industry because international companies rarely acknowledge abuses in supply chains.Nestlé was expected to launch a year-long program in 2016 focused on protecting workers across its supply chain. The company has promised to impose new requirements on all potential suppliers, train boat owners and captains about human rights, and hire auditors to check for compliance with new rules.\\n\\n\\n=== Deforestation ===\\nIn September 2017, an investigation conducted by NGO Mighty Earth found that a large amount of the cocoa used in chocolate produced by Nestlé and other major chocolate companies was grown illegally in national parks and other protected areas in Ivory Coast and Ghana. The countries are the world\\'s two largest cocoa producers.The report documents how in several national parks and other protected areas, 90% or more of the land mass has been converted to cocoa. Less than four percent of Ivory Coast remains densely forested, and the chocolate companies\\' laissez-faire approach to sourcing has driven extensive deforestation in Ghana as well. In Ivory Coast, deforestation has pushed chimpanzees into just a few small pockets, and reduced the country\\'s elephant population from several hundred thousand to about 200–400.\\n\\n\\n== Corporate social responsibility program involvements ==\\nNestlé efforts relating to social responsibility programs include:\\n\\nWorld Cocoa Foundation: In 2000, Nestlé and other chocolate companies formed the World Cocoa Foundation (WCF). The WCF is an international membership organization representing more than 100 member companies across the cocoa value chain. Its goal is to form a sustainable cocoa economy by prioritizing farmers, promoting agricultural and environmental stewardship, and strengthening development in cocoa-growing communities.\\nSustainable Agriculture Initiative: In 2002, Nestlé, Unilever, and Danone created the Sustainable Agriculture Initiative (SAI) Platform, a non-profit organization for sharing knowledge and initiatives for the development and implementation of sustainable agriculture practices involving the different stakeholders of the food chain. The SAI Platform has more than 60 members, which actively share the same view on sustainable agriculture seen as \"the efficient production of safe, high-quality agricultural products, in a way that protects and improves the natural environment, the social and economic conditions of farmers, their employees and local communities, and safeguards the health and welfare of all farmed species.\" The SAI Platform developed (or co-developed) Principles and Practices for sustainable water management at the farm level; recommendations for Sustainability Performance Assessment (SPA); a standardised methodology for the dairy sector to assess green house gas emissions; an Executives Training on Sustainable Sourcing; and many more. One instance of Nestlé\\'s impact on sustainable agricultural practices has been documented in academic literature.\\nCreating Shared Value: Creating Shared Value (CSV) is a business concept intended to encourage businesses to create economic and social value simultaneously by focusing on the social issues that they are capable of addressing. In 2006, Nestlé adopted the CSV approach, focusing on three areas – nutrition, water and rural development – as these are core to their business activities. Nestlé now publishes an annual progress report on its goals. Nestlé also established the Creating Shared Value Prize, which is awarded every other year with the aim of rewarding the best examples of CSV initiatives worldwide and to encourage other companies to adopt a shared value approach. These initiatives should take a business-oriented approach in addressing challenges in nutrition, water or rural development. The winner can win up to CHF 500,000. Nestlé was an early mover in the shared value space and hosts a global forum, the Creating Shared Value Global Forum.\\nNestlé Cocoa Plan: In October 2009, Nestlé announced \"The Cocoa Plan\" to get 100 percent of its chocolate portfolio using certified sustainable cocoa. For third-party certification, Nestlé has partnered with UTZ Certified. Many of Nestlé\\'s efforts are focused on the Ivory Coast, where 40 percent of the world\\'s cocoa comes from. The company has developed a higher-yielding, more drought- and disease-resistant cocoa tree; and they have given 3 million of these trees to farmers thus far and plan to give away 12 million of them in total. They are also training farmers in efficient and sustainable growing techniques, which focuses on better farming practices, including pruning trees, pest control (with an emphasis on integrated pest management) and harvesting, as well as caring for the environment. In addition, they have built 23 new schools so far and plan to build 40 in total by 2015. Another part of the plan has been to address child labor. Nestlé says that according to US statistics, there are about 800,000 children who work the cocoa supply chain. Nestlé approached the Fair Labor Association to map out strategies to help curb child labor in the cocoa sector, and these efforts – including community education and the building of schools – have become a focus of the Cocoa Plan.\\nEcolaboration: On 22 June 2009, Nestlé Nespresso and Rainforest Alliance signed a pact called \"Ecolaboration\". One of the shared goals is to reduce the environmental impacts and increase the social benefits of coffee cultivation in enough tropical regions so that 80 percent of Nespresso\\'s coffee comes from Rainforest Alliance Certified farms by 2013. Certified farms comply with comprehensive standards covering all aspects of sustainable farming, including soil and water conservation, protection of wildlife and forests, and ensuring that farm workers, women and children have all the proper rights and benefits, such as good wages, clean drinking water, access to schools, and health care and security.\\nThe Nescafé Plan: In 2010, Nestlé launched the Nescafé Plan, an initiative to increase sustainable coffee production and make sustainable coffee farming more accessible to farmers. The plan aims to increase the company\\'s supply of coffee beans without clearing rainforests, as well as using less water and fewer agrochemicals. According to Nestlé, Nescafé will invest 350 million Swiss francs (about $336 million) over the next ten years to expand the company\\'s agricultural research and training capacity to help benefit many of the 25 million people who make their living growing and trading coffee. The Rainforest Alliance and the other NGOs in the Sustainable Agriculture Network will support Nestlé in meeting the objectives of the plan.\\nHealth care and nutrition product development: In September 2010, Nestlé said that it would invest more than $500 million between 2011 and 2020 to develop health and wellness products to help prevent and treat major ailments like diabetes, obesity, cardiovascular disease, and Alzheimer\\'s. Nestlé created a wholly owned subsidiary, Nestlé Health Science, as well as a research body, the Nestlé Institute of Health Sciences.\\nMembership in Fair Labour Association: In 2011, Nestlé started to work with the Fair Labor Association (FLA), a non-profit, multi-stakeholder association that works with major companies to improve working conditions in developing countries, to assess labor conditions and compliance risks throughout Nestlé\\'s supply chain of hazelnuts and cocoa. On 29 February 2012, Nestlé became the first company in the food industry to join the FLA. Building on Nestlé\\'s efforts under the Cocoa Plan, the FLA will send independent experts to Ivory Coast in 2012 and where evidence of child labour is found, the FLA will identify root causes and advise Nestlé how to address them in sustainable and lasting ways. As a Participating Company, Nestlé has committed to ten Principles of Fair Labor and Responsible Sourcing, and to upholding the FLA Workplace Code of Conduct throughout their supply chains, starting with farms.\\nRural Development Framework program: In 2012, Nestlé developed the Rural Development Framework, which supports farmers and cocoa growing communities. It is an investment program aimed at improving infrastructure, increasing access to safe water, address financing and market efficiency gaps, and improving labor conditions.\\nPartnership with IFRC: Nestlé has had a long-standing partnership with the International Federation of Red Cross and Red Crescent Societies (IFRC) to increase access to safe water and sanitation in rural communities. In recent years, the partnership has brought clean drinking water and sanitation facilities to 100,000 people in Ivory Coast\\'s cocoa communities. Nestlé committed to contributing five million Swiss francs during 2014–2019 to the IFRC.\\nIn 2020 Nestlé Waters joined a consortium to boost PET plastic recyclability.\\n\\n\\n== Recognition and awards ==\\nIn May 2006, Nestlé\\'s executive board decided to adapt the existing Nestlé management systems to full conformity with the international standards ISO 14001 (Environmental Management Systems) and OHSAS 18001 (Occupational Health and Safety Management Systems) and to certify all Nestlé factories against these standards by 2010. In the meanwhile, a lot of the Nestlé factories have obtained these certifications.\\nIn 2010, Nestlé Purina received the Malcolm Baldrige National Quality Award for their excellence in the areas of leadership, customer and market focus, strategic planning, process management, measurement, analysis and knowledge management, workforce focus and results.\\nIn March 2011, Nestlé became the first infant formula company to meet the FTSE4Good Index criteria in full.\\nIn May 2011, Nestlé won the 27th World Environment Center (WEC) Gold Medal award for its commitment to environmental sustainability.\\nIn September 2011, Nestlé occupied 19th position in the Universum\\'s global ranking of Best Employers Worldwide. According to a survey by Universum Communications, Nestlé was, in 2011, the best employer to work for in Switzerland.\\nThe International Union of Food Science and Technology (IUFoST) honoured Nestlé in 2010 with the Global Food Industry Award.\\nOn 19 April 2012, The Great Place to Work Institute Canada mentioned Nestlé Canada Inc. as one of the \\'50 Best Large and Multinational Workplaces\\' in Canada (with more than 1,000 employees working in Canada and/or worldwide).\\nOn 21 May 2012, Gartner published their annual Supply Chain Top 25, a list with global supply chain leaders. Nestlé ranks 18th in the list.\\nIn 2013, Nestlé retained its number one position in charity Oxfam\\'s sustainability scorecard and improved its ratings on the issues of land, workers, and climate.\\nIn 2014, Nestlé received the Henry Spira Corporate Progress Awards for altering its policies and practices to minimize adverse impacts on animals.\\nIn March 2015, Nestlé ranked second in Oxfam\\'s Behind the Brands scorecard, where the NGO ranks the world\\'s \\'Big 10\\' consumer food and beverage companies on their policies and commitments to improve food security and sustainability. Nestlé assumed the number one ranking for land rights while the company also outperformed its peers on transparency and water.\\n\\n\\n== Bibliography ==\\nLa stratégie Nestlé (Nestlé Strategy), Helmut Maucher, French translation by Monique Thiollet, Maxima Ed., Paris, 1995, ISBN 2840010720\\n\\n\\n== See also ==\\n\\nBig Chocolate\\nCerelac\\nFarfel the Dog\\nNestlé Smarties Book Prize\\nNestlé Tower\\nUltra-processed foodCompetitorsDanone\\nFerrero SpA\\nKellogg\\'s\\nKraft Heinz\\nMars, Incorporated\\nMondelez International\\nPepsiCo\\nUnilever\\n\\n\\n== Notes and references ==\\n\\n\\n== External links ==\\nOfficial website \\nDocuments and clippings about Nestlé in the 20th Century Press Archives of the ZBW'"
            ],
            "application/vnd.google.colaboratory.intrinsic+json": {
              "type": "string"
            }
          },
          "metadata": {},
          "execution_count": 9
        }
      ]
    },
    {
      "cell_type": "code",
      "source": [
        ""
      ],
      "metadata": {
        "id": "vkxpptR10I3g"
      },
      "execution_count": null,
      "outputs": []
    }
  ]
}